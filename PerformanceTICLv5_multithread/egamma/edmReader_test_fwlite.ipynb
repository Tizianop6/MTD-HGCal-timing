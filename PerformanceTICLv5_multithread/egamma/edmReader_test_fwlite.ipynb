{
 "cells": [
  {
   "cell_type": "code",
   "execution_count": 1,
   "metadata": {},
   "outputs": [
    {
     "name": "stdout",
     "output_type": "stream",
     "text": [
      "Welcome to JupyROOT 6.26/11\n"
     ]
    }
   ],
   "source": [
    "%load_ext autoreload\n",
    "%autoreload 1\n",
    "import ROOT\n",
    "import JupyROOT.helpers.utils\n",
    "JupyROOT.helpers.utils.GetGeometryDrawer = lambda:None\n",
    "import cppyy\n",
    "from DataFormats.FWLite import Handle\n",
    "import hist\n",
    "import matplotlib.pyplot as plt\n",
    "import mplhep as hep\n",
    "plt.style.use(hep.style.CMS)\n",
    "import pandas as pd\n",
    "import sys\n",
    "sys.path.append(\"..\")\n",
    "#import edmReader.pythonizations\n",
    "%aimport edmReader.edmReader\n",
    "from edmReader.edmReader import EdmReader, MultiEdmReader"
   ]
  },
  {
   "cell_type": "code",
   "execution_count": 2,
   "metadata": {},
   "outputs": [],
   "source": [
    "from edmReader.edmReader import *"
   ]
  },
  {
   "cell_type": "code",
   "execution_count": 3,
   "metadata": {},
   "outputs": [],
   "source": [
    "events = EdmReader(\"/grid_mnt/data_cms_upgrade/cuisset/supercls/alessandro_electrons/supercls-v14-dnn/step3_DNN_1.root\")"
   ]
  },
  {
   "cell_type": "code",
   "execution_count": 9,
   "metadata": {},
   "outputs": [
    {
     "data": {
      "text/plain": [
       "True"
      ]
     },
     "execution_count": 9,
     "metadata": {},
     "output_type": "execute_result"
    }
   ],
   "source": [
    "events.to(0)"
   ]
  },
  {
   "cell_type": "code",
   "execution_count": null,
   "metadata": {},
   "outputs": [
    {
     "data": {
      "text/plain": [
       "std::vector<vector<unsigned int> >[std::vector<unsigned int>[1812,1483],std::vector<unsigned int>[13],std::vector<unsigned int>[90],std::vector<unsigned int>[223],std::vector<unsigned int>[296],std::vector<unsigned int>[317],std::vector<unsigned int>[386],std::vector<unsigned int>[422],std::vector<unsigned int>[439],std::vector<unsigned int>[442],std::vector<unsigned int>[444],std::vector<unsigned int>[453],std::vector<unsigned int>[510],std::vector<unsigned int>[540],std::vector<unsigned int>[543],std::vector<unsigned int>[545],std::vector<unsigned int>[582],std::vector<unsigned int>[631],std::vector<unsigned int>[820],std::vector<unsigned int>[857]]"
      ]
     },
     "execution_count": 13,
     "metadata": {},
     "output_type": "execute_result"
    }
   ],
   "source": [
    "events.ticlSuperclusterLinks"
   ]
  },
  {
   "cell_type": "code",
   "execution_count": 18,
   "metadata": {},
   "outputs": [
    {
     "data": {
      "text/plain": [
       "5"
      ]
     },
     "execution_count": 18,
     "metadata": {},
     "output_type": "execute_result"
    }
   ],
   "source": [
    "events.eventAuxiliary().event()"
   ]
  },
  {
   "cell_type": "code",
   "execution_count": 8,
   "metadata": {},
   "outputs": [
    {
     "data": {
      "text/plain": [
       "[[1812, 1483],\n",
       " [13],\n",
       " [90],\n",
       " [223],\n",
       " [296],\n",
       " [317],\n",
       " [386],\n",
       " [422],\n",
       " [439],\n",
       " [442],\n",
       " [444],\n",
       " [453],\n",
       " [510],\n",
       " [540],\n",
       " [543],\n",
       " [545],\n",
       " [582],\n",
       " [631],\n",
       " [820],\n",
       " [857],\n",
       " [1214],\n",
       " [1229],\n",
       " [1253],\n",
       " [1264],\n",
       " [1404],\n",
       " [1455],\n",
       " [1467],\n",
       " [1477],\n",
       " [1671],\n",
       " [1677],\n",
       " [1685],\n",
       " [1720],\n",
       " [1851]]"
      ]
     },
     "execution_count": 8,
     "metadata": {},
     "output_type": "execute_result"
    }
   ],
   "source": [
    "links = [[x for x in y] for y in events.ticlSuperclusterLinks]\n",
    "links"
   ]
  },
  {
   "cell_type": "code",
   "execution_count": 19,
   "metadata": {},
   "outputs": [],
   "source": [
    "event_nbs = []\n",
    "supercls_ids = []\n",
    "ts_in_supercls_ids = []\n",
    "ts_ids = []\n",
    "for evt in events:\n",
    "    event_nb = evt.eventAuxiliary().event()\n",
    "    for supercls_id, tsInSupercls_list in enumerate(events.ticlSuperclusterLinks):\n",
    "        for ts_in_supercls_id, ts_id in enumerate(tsInSupercls_list):\n",
    "            event_nbs.append(event_nb)\n",
    "            supercls_ids.append(supercls_id)\n",
    "            ts_in_supercls_ids.append(ts_in_supercls_id)\n",
    "            ts_ids.append(ts_id)\n"
   ]
  },
  {
   "cell_type": "code",
   "execution_count": 22,
   "metadata": {},
   "outputs": [
    {
     "data": {
      "text/html": [
       "<div>\n",
       "<style scoped>\n",
       "    .dataframe tbody tr th:only-of-type {\n",
       "        vertical-align: middle;\n",
       "    }\n",
       "\n",
       "    .dataframe tbody tr th {\n",
       "        vertical-align: top;\n",
       "    }\n",
       "\n",
       "    .dataframe thead th {\n",
       "        text-align: right;\n",
       "    }\n",
       "</style>\n",
       "<table border=\"1\" class=\"dataframe\">\n",
       "  <thead>\n",
       "    <tr style=\"text-align: right;\">\n",
       "      <th></th>\n",
       "      <th>event</th>\n",
       "      <th>supercls_ids</th>\n",
       "      <th>ts_in_supercls_ids</th>\n",
       "      <th>ts_ids</th>\n",
       "    </tr>\n",
       "  </thead>\n",
       "  <tbody>\n",
       "    <tr>\n",
       "      <th>0</th>\n",
       "      <td>5</td>\n",
       "      <td>0</td>\n",
       "      <td>0</td>\n",
       "      <td>1812</td>\n",
       "    </tr>\n",
       "    <tr>\n",
       "      <th>1</th>\n",
       "      <td>5</td>\n",
       "      <td>0</td>\n",
       "      <td>1</td>\n",
       "      <td>1483</td>\n",
       "    </tr>\n",
       "    <tr>\n",
       "      <th>2</th>\n",
       "      <td>5</td>\n",
       "      <td>1</td>\n",
       "      <td>0</td>\n",
       "      <td>13</td>\n",
       "    </tr>\n",
       "    <tr>\n",
       "      <th>3</th>\n",
       "      <td>5</td>\n",
       "      <td>2</td>\n",
       "      <td>0</td>\n",
       "      <td>90</td>\n",
       "    </tr>\n",
       "    <tr>\n",
       "      <th>4</th>\n",
       "      <td>5</td>\n",
       "      <td>3</td>\n",
       "      <td>0</td>\n",
       "      <td>223</td>\n",
       "    </tr>\n",
       "    <tr>\n",
       "      <th>...</th>\n",
       "      <td>...</td>\n",
       "      <td>...</td>\n",
       "      <td>...</td>\n",
       "      <td>...</td>\n",
       "    </tr>\n",
       "    <tr>\n",
       "      <th>4799</th>\n",
       "      <td>100</td>\n",
       "      <td>45</td>\n",
       "      <td>0</td>\n",
       "      <td>2009</td>\n",
       "    </tr>\n",
       "    <tr>\n",
       "      <th>4800</th>\n",
       "      <td>100</td>\n",
       "      <td>46</td>\n",
       "      <td>0</td>\n",
       "      <td>2034</td>\n",
       "    </tr>\n",
       "    <tr>\n",
       "      <th>4801</th>\n",
       "      <td>100</td>\n",
       "      <td>47</td>\n",
       "      <td>0</td>\n",
       "      <td>2400</td>\n",
       "    </tr>\n",
       "    <tr>\n",
       "      <th>4802</th>\n",
       "      <td>100</td>\n",
       "      <td>48</td>\n",
       "      <td>0</td>\n",
       "      <td>2589</td>\n",
       "    </tr>\n",
       "    <tr>\n",
       "      <th>4803</th>\n",
       "      <td>100</td>\n",
       "      <td>49</td>\n",
       "      <td>0</td>\n",
       "      <td>2659</td>\n",
       "    </tr>\n",
       "  </tbody>\n",
       "</table>\n",
       "<p>4804 rows × 4 columns</p>\n",
       "</div>"
      ],
      "text/plain": [
       "      event  supercls_ids  ts_in_supercls_ids  ts_ids\n",
       "0         5             0                   0    1812\n",
       "1         5             0                   1    1483\n",
       "2         5             1                   0      13\n",
       "3         5             2                   0      90\n",
       "4         5             3                   0     223\n",
       "...     ...           ...                 ...     ...\n",
       "4799    100            45                   0    2009\n",
       "4800    100            46                   0    2034\n",
       "4801    100            47                   0    2400\n",
       "4802    100            48                   0    2589\n",
       "4803    100            49                   0    2659\n",
       "\n",
       "[4804 rows x 4 columns]"
      ]
     },
     "execution_count": 22,
     "metadata": {},
     "output_type": "execute_result"
    }
   ],
   "source": [
    "df = pd.DataFrame(data=dict(event=event_nbs, supercls_ids=supercls_ids, ts_in_supercls_ids=ts_in_supercls_ids, ts_ids=ts_ids))\n",
    "df"
   ]
  },
  {
   "cell_type": "code",
   "execution_count": 16,
   "metadata": {},
   "outputs": [
    {
     "data": {
      "text/html": [
       "<div>\n",
       "<style scoped>\n",
       "    .dataframe tbody tr th:only-of-type {\n",
       "        vertical-align: middle;\n",
       "    }\n",
       "\n",
       "    .dataframe tbody tr th {\n",
       "        vertical-align: top;\n",
       "    }\n",
       "\n",
       "    .dataframe thead th {\n",
       "        text-align: right;\n",
       "    }\n",
       "</style>\n",
       "<table border=\"1\" class=\"dataframe\">\n",
       "  <thead>\n",
       "    <tr style=\"text-align: right;\">\n",
       "      <th></th>\n",
       "      <th>ntuple</th>\n",
       "      <th>event_</th>\n",
       "      <th>supercls_id</th>\n",
       "      <th>ts_in_supercls_id</th>\n",
       "      <th>ts_id</th>\n",
       "    </tr>\n",
       "  </thead>\n",
       "  <tbody>\n",
       "    <tr>\n",
       "      <th>0</th>\n",
       "      <td>1</td>\n",
       "      <td>5</td>\n",
       "      <td>0</td>\n",
       "      <td>0</td>\n",
       "      <td>1812</td>\n",
       "    </tr>\n",
       "    <tr>\n",
       "      <th>1</th>\n",
       "      <td>1</td>\n",
       "      <td>5</td>\n",
       "      <td>0</td>\n",
       "      <td>1</td>\n",
       "      <td>1483</td>\n",
       "    </tr>\n",
       "    <tr>\n",
       "      <th>2</th>\n",
       "      <td>1</td>\n",
       "      <td>5</td>\n",
       "      <td>1</td>\n",
       "      <td>0</td>\n",
       "      <td>13</td>\n",
       "    </tr>\n",
       "    <tr>\n",
       "      <th>3</th>\n",
       "      <td>1</td>\n",
       "      <td>5</td>\n",
       "      <td>2</td>\n",
       "      <td>0</td>\n",
       "      <td>90</td>\n",
       "    </tr>\n",
       "    <tr>\n",
       "      <th>4</th>\n",
       "      <td>1</td>\n",
       "      <td>5</td>\n",
       "      <td>3</td>\n",
       "      <td>0</td>\n",
       "      <td>223</td>\n",
       "    </tr>\n",
       "    <tr>\n",
       "      <th>...</th>\n",
       "      <td>...</td>\n",
       "      <td>...</td>\n",
       "      <td>...</td>\n",
       "      <td>...</td>\n",
       "      <td>...</td>\n",
       "    </tr>\n",
       "    <tr>\n",
       "      <th>4799</th>\n",
       "      <td>1</td>\n",
       "      <td>100</td>\n",
       "      <td>45</td>\n",
       "      <td>0</td>\n",
       "      <td>2009</td>\n",
       "    </tr>\n",
       "    <tr>\n",
       "      <th>4800</th>\n",
       "      <td>1</td>\n",
       "      <td>100</td>\n",
       "      <td>46</td>\n",
       "      <td>0</td>\n",
       "      <td>2034</td>\n",
       "    </tr>\n",
       "    <tr>\n",
       "      <th>4801</th>\n",
       "      <td>1</td>\n",
       "      <td>100</td>\n",
       "      <td>47</td>\n",
       "      <td>0</td>\n",
       "      <td>2400</td>\n",
       "    </tr>\n",
       "    <tr>\n",
       "      <th>4802</th>\n",
       "      <td>1</td>\n",
       "      <td>100</td>\n",
       "      <td>48</td>\n",
       "      <td>0</td>\n",
       "      <td>2589</td>\n",
       "    </tr>\n",
       "    <tr>\n",
       "      <th>4803</th>\n",
       "      <td>1</td>\n",
       "      <td>100</td>\n",
       "      <td>49</td>\n",
       "      <td>0</td>\n",
       "      <td>2659</td>\n",
       "    </tr>\n",
       "  </tbody>\n",
       "</table>\n",
       "<p>4804 rows × 5 columns</p>\n",
       "</div>"
      ],
      "text/plain": [
       "      ntuple  event_  supercls_id  ts_in_supercls_id  ts_id\n",
       "0          1       5            0                  0   1812\n",
       "1          1       5            0                  1   1483\n",
       "2          1       5            1                  0     13\n",
       "3          1       5            2                  0     90\n",
       "4          1       5            3                  0    223\n",
       "...      ...     ...          ...                ...    ...\n",
       "4799       1     100           45                  0   2009\n",
       "4800       1     100           46                  0   2034\n",
       "4801       1     100           47                  0   2400\n",
       "4802       1     100           48                  0   2589\n",
       "4803       1     100           49                  0   2659\n",
       "\n",
       "[4804 rows x 5 columns]"
      ]
     },
     "execution_count": 16,
     "metadata": {},
     "output_type": "execute_result"
    }
   ],
   "source": [
    "maker = SuperclsDataframeMaker()\n",
    "events.toBegin()\n",
    "for evt in events:\n",
    "    maker.processEvent(evt, 1)\n",
    "maker.makeDf()"
   ]
  },
  {
   "cell_type": "code",
   "execution_count": 17,
   "metadata": {},
   "outputs": [],
   "source": [
    "maker.makeDf().to_pickle(\"/grid_mnt/data_cms_upgrade/cuisset/supercls/alessandro_electrons/supercls-v14-dnn/dataframes/supercls_1_test.pkl.gz\")"
   ]
  }
 ],
 "metadata": {
  "kernelspec": {
   "display_name": "slc7_amd64_gcc12",
   "language": "python",
   "name": "python3"
  },
  "language_info": {
   "codemirror_mode": {
    "name": "ipython",
    "version": 3
   },
   "file_extension": ".py",
   "mimetype": "text/x-python",
   "name": "python",
   "nbconvert_exporter": "python",
   "pygments_lexer": "ipython3",
   "version": "3.9.14"
  }
 },
 "nbformat": 4,
 "nbformat_minor": 2
}
