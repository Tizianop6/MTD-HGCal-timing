{
 "cells": [
  {
   "cell_type": "code",
   "execution_count": 3,
   "metadata": {},
   "outputs": [],
   "source": [
    "import boost_histogram as bh\n",
    "import numpy as np"
   ]
  },
  {
   "cell_type": "code",
   "execution_count": 4,
   "metadata": {},
   "outputs": [
    {
     "data": {
      "text/plain": [
       "'1.4.0'"
      ]
     },
     "execution_count": 4,
     "metadata": {},
     "output_type": "execute_result"
    }
   ],
   "source": [
    "bh.__version__"
   ]
  },
  {
   "cell_type": "code",
   "execution_count": 6,
   "metadata": {},
   "outputs": [
    {
     "ename": "TypeError",
     "evalue": "Only integer arrays supported when targeting integer axes",
     "output_type": "error",
     "traceback": [
      "\u001b[0;31m---------------------------------------------------------------------------\u001b[0m",
      "\u001b[0;31mTypeError\u001b[0m                                 Traceback (most recent call last)",
      "\u001b[1;32m/home/llr/cms/cuisset/hgcal/supercls/repoForJobs/analyzer/debug/boostHistogramUintBug.ipynb Cell 3\u001b[0m line \u001b[0;36m3\n\u001b[1;32m      <a href='vscode-notebook-cell://ssh-remote%2Bllruicms01/home/llr/cms/cuisset/hgcal/supercls/repoForJobs/analyzer/debug/boostHistogramUintBug.ipynb#W2sdnNjb2RlLXJlbW90ZQ%3D%3D?line=0'>1</a>\u001b[0m h \u001b[39m=\u001b[39m bh\u001b[39m.\u001b[39mHistogram(bh\u001b[39m.\u001b[39maxis\u001b[39m.\u001b[39mIntCategory([\u001b[39m0\u001b[39m, \u001b[39m1\u001b[39m]))\n\u001b[1;32m      <a href='vscode-notebook-cell://ssh-remote%2Bllruicms01/home/llr/cms/cuisset/hgcal/supercls/repoForJobs/analyzer/debug/boostHistogramUintBug.ipynb#W2sdnNjb2RlLXJlbW90ZQ%3D%3D?line=1'>2</a>\u001b[0m h\u001b[39m.\u001b[39mfill(np\u001b[39m.\u001b[39marray([\u001b[39m0\u001b[39m], dtype\u001b[39m=\u001b[39m\u001b[39m\"\u001b[39m\u001b[39mint32\u001b[39m\u001b[39m\"\u001b[39m))\n\u001b[0;32m----> <a href='vscode-notebook-cell://ssh-remote%2Bllruicms01/home/llr/cms/cuisset/hgcal/supercls/repoForJobs/analyzer/debug/boostHistogramUintBug.ipynb#W2sdnNjb2RlLXJlbW90ZQ%3D%3D?line=2'>3</a>\u001b[0m h\u001b[39m.\u001b[39;49mfill(np\u001b[39m.\u001b[39;49marray([\u001b[39m0\u001b[39;49m], dtype\u001b[39m=\u001b[39;49m\u001b[39m\"\u001b[39;49m\u001b[39muint32\u001b[39;49m\u001b[39m\"\u001b[39;49m))\n",
      "File \u001b[0;32m/opt/exp_soft/llr/python/3.11.6/el7/lib/python3.11/site-packages/boost_histogram/_internal/hist.py:506\u001b[0m, in \u001b[0;36mHistogram.fill\u001b[0;34m(self, weight, sample, threads, *args)\u001b[0m\n\u001b[1;32m    503\u001b[0m     threads \u001b[39m=\u001b[39m cpu_count()\n\u001b[1;32m    505\u001b[0m \u001b[39mif\u001b[39;00m threads \u001b[39mis\u001b[39;00m \u001b[39mNone\u001b[39;00m \u001b[39mor\u001b[39;00m threads \u001b[39m==\u001b[39m \u001b[39m1\u001b[39m:\n\u001b[0;32m--> 506\u001b[0m     \u001b[39mself\u001b[39;49m\u001b[39m.\u001b[39;49m_hist\u001b[39m.\u001b[39;49mfill(\u001b[39m*\u001b[39;49margs_ars, weight\u001b[39m=\u001b[39;49mweight_ars, sample\u001b[39m=\u001b[39;49msample_ars)  \u001b[39m# type: ignore[arg-type]\u001b[39;00m\n\u001b[1;32m    507\u001b[0m     \u001b[39mreturn\u001b[39;00m \u001b[39mself\u001b[39m\n\u001b[1;32m    509\u001b[0m \u001b[39mif\u001b[39;00m \u001b[39mself\u001b[39m\u001b[39m.\u001b[39m_hist\u001b[39m.\u001b[39m_storage_type \u001b[39min\u001b[39;00m {\n\u001b[1;32m    510\u001b[0m     _core\u001b[39m.\u001b[39mstorage\u001b[39m.\u001b[39mmean,\n\u001b[1;32m    511\u001b[0m     _core\u001b[39m.\u001b[39mstorage\u001b[39m.\u001b[39mweighted_mean,\n\u001b[1;32m    512\u001b[0m }:\n",
      "\u001b[0;31mTypeError\u001b[0m: Only integer arrays supported when targeting integer axes"
     ]
    }
   ],
   "source": [
    "h = bh.Histogram(bh.axis.IntCategory([0, 1]))\n",
    "h.fill(np.array([0], dtype=\"int32\"))\n",
    "h.fill(np.array([0], dtype=\"uint32\"))"
   ]
  },
  {
   "cell_type": "code",
   "execution_count": null,
   "metadata": {},
   "outputs": [],
   "source": []
  }
 ],
 "metadata": {
  "kernelspec": {
   "display_name": "modules-python-3.11",
   "language": "python",
   "name": "python3"
  },
  "language_info": {
   "codemirror_mode": {
    "name": "ipython",
    "version": 3
   },
   "file_extension": ".py",
   "mimetype": "text/x-python",
   "name": "python",
   "nbconvert_exporter": "python",
   "pygments_lexer": "ipython3",
   "version": "3.11.6"
  }
 },
 "nbformat": 4,
 "nbformat_minor": 2
}
