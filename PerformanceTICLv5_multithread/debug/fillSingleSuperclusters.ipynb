{
 "cells": [
  {
   "cell_type": "code",
   "execution_count": 1,
   "metadata": {},
   "outputs": [],
   "source": [
    "%load_ext autoreload\n",
    "%autoreload 2\n",
    "import uproot\n",
    "import numpy as np\n",
    "import awkward as ak\n",
    "import matplotlib.pyplot as plt\n",
    "import mplhep as hep\n",
    "import hist\n",
    "\n",
    "import sys\n",
    "sys.path.append(\"/workspaces/cmssw/analyzer\")\n",
    "from tools import *"
   ]
  },
  {
   "cell_type": "code",
   "execution_count": 2,
   "metadata": {},
   "outputs": [],
   "source": [
    "reader = DumperReader(\"../../runs/AlessandroElectronSamples/histo.root\") #(\"../runs_results/histo.root:ticlDumper\")"
   ]
  },
  {
   "cell_type": "code",
   "execution_count": 6,
   "metadata": {},
   "outputs": [
    {
     "data": {
      "text/html": [
       "<pre>[[3, 4, 8, 13, 20, 22, 47, 49, ..., 2982, 3059, 3060, 3085, 3086, 3152, 3156],\n",
       " [5, 10, 11, 12, 14, 15, 25, 42, ..., 3219, 3220, 3235, 3273, 3302, 3306, 3318],\n",
       " [10, 19, 27, 28, 46, 48, 55, ..., 3600, 3621, 3672, 3673, 3698, 3714, 3717],\n",
       " [5, 7, 8, 9, 12, 16, 17, 18, ..., 3442, 3446, 3470, 3471, 3495, 3513, 3522],\n",
       " [2, 14, 16, 18, 20, 21, 25, 39, ..., 4117, 4132, 4133, 4147, 4153, 4159, 4160],\n",
       " [0, 6, 14, 18, 19, 20, 21, 60, ..., 3085, 3089, 3102, 3124, 3130, 3131, 3138],\n",
       " [23, 24, 29, 30, 39, 49, 51, ..., 3441, 3462, 3539, 3565, 3567, 3568, 3569],\n",
       " [3, 5, 14, 15, 18, 25, 31, 37, ..., 3928, 3935, 3940, 3949, 3957, 3959, 3961],\n",
       " [15, 17, 20, 62, 69, 70, 71, ..., 3581, 3585, 3588, 3603, 3634, 3635, 3652],\n",
       " [14, 15, 17, 19, 44, 46, 52, ..., 3249, 3275, 3277, 3307, 3310, 3348, 3369]]\n",
       "--------------------------------------------------------------------------------\n",
       "type: 10 * var * uint64</pre>"
      ],
      "text/plain": [
       "<Array [[3, 4, 8, 13, ..., 3086, 3152, 3156], ...] type='10 * var * uint64'>"
      ]
     },
     "execution_count": 6,
     "metadata": {},
     "output_type": "execute_result"
    }
   ],
   "source": [
    "ak.sort(ak.flatten(reader.superclusters, axis=-1))"
   ]
  },
  {
   "cell_type": "code",
   "execution_count": 4,
   "metadata": {},
   "outputs": [
    {
     "data": {
      "text/html": [
       "<pre>[[{time: -99, timeError: -1, regressed_energy: 6.92, ...}, {...}, ..., {...}],\n",
       " [{time: -99, timeError: -1, regressed_energy: 7.13, ...}, {...}, ..., {...}],\n",
       " [{time: -99, timeError: -1, regressed_energy: 4.69, ...}, {...}, ..., {...}],\n",
       " [{time: -99, timeError: -1, regressed_energy: 6.3, raw_energy: ..., ...}, ...],\n",
       " [{time: -99, timeError: -1, regressed_energy: 5.21, ...}, {...}, ..., {...}],\n",
       " [{time: -99, timeError: -1, regressed_energy: 15.2, ...}, {...}, ..., {...}],\n",
       " [{time: -99, timeError: -1, regressed_energy: 6, raw_energy: 2.24, ...}, ...],\n",
       " [{time: -99, timeError: -1, regressed_energy: 7.02, ...}, {...}, ..., {...}],\n",
       " [{time: -99, timeError: -1, regressed_energy: 6.85, ...}, {...}, ..., {...}],\n",
       " [{time: -99, timeError: -1, regressed_energy: 4.87, ...}, {...}, ..., {...}]]\n",
       "--------------------------------------------------------------------------------\n",
       "type: 10 * var * {\n",
       "    time: float32,\n",
       "    timeError: float32,\n",
       "    regressed_energy: float32,\n",
       "    raw_energy: float32,\n",
       "    raw_em_energy: float32,\n",
       "    raw_pt: float32,\n",
       "    raw_em_pt: float32,\n",
       "    barycenter_x: float32,\n",
       "    barycenter_y: float32,\n",
       "    barycenter_z: float32,\n",
       "    barycenter_eta: float32,\n",
       "    barycenter_phi: float32,\n",
       "    EV1: float32,\n",
       "    EV2: float32,\n",
       "    EV3: float32,\n",
       "    eVector0_x: float32,\n",
       "    eVector0_y: float32,\n",
       "    eVector0_z: float32,\n",
       "    sigmaPCA1: float32,\n",
       "    sigmaPCA2: float32,\n",
       "    sigmaPCA3: float32,\n",
       "    id_probabilities: var * float32,\n",
       "    vertices_indexes: var * uint32,\n",
       "    vertices_x: var * float32,\n",
       "    vertices_y: var * float32,\n",
       "    vertices_z: var * float32,\n",
       "    vertices_time: var * float32,\n",
       "    vertices_timeErr: var * float32,\n",
       "    vertices_energy: var * float32,\n",
       "    vertices_correctedEnergy: var * float32,\n",
       "    vertices_correctedEnergyUncertainty: var * float32,\n",
       "    vertices_multiplicity: var * float32\n",
       "}</pre>"
      ],
      "text/plain": [
       "<Array [[{time: -99, ...}, ..., {...}], ...] type='10 * var * {time: float3...'>"
      ]
     },
     "execution_count": 4,
     "metadata": {},
     "output_type": "execute_result"
    }
   ],
   "source": [
    "reader.tracksters_zipped"
   ]
  }
 ],
 "metadata": {
  "kernelspec": {
   "display_name": "Python 3",
   "language": "python",
   "name": "python3"
  },
  "language_info": {
   "codemirror_mode": {
    "name": "ipython",
    "version": 3
   },
   "file_extension": ".py",
   "mimetype": "text/x-python",
   "name": "python",
   "nbconvert_exporter": "python",
   "pygments_lexer": "ipython3",
   "version": "3.11.6"
  }
 },
 "nbformat": 4,
 "nbformat_minor": 2
}
