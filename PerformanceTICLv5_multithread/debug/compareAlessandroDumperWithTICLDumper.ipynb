{
 "cells": [
  {
   "cell_type": "code",
   "execution_count": 1,
   "metadata": {},
   "outputs": [],
   "source": [
    "%load_ext autoreload\n",
    "%autoreload 2\n",
    "from functools import partial\n",
    "import uproot\n",
    "import numpy as np\n",
    "import awkward as ak\n",
    "import matplotlib.pyplot as plt\n",
    "import mplhep as hep\n",
    "import hist\n",
    "\n",
    "import sys\n",
    "sys.path.append(\"../..\")\n",
    "from analyzer.dumperReader.reader import *"
   ]
  },
  {
   "cell_type": "code",
   "execution_count": 2,
   "metadata": {},
   "outputs": [],
   "source": [
    "reader = DumperReader(\"/data_cms_upgrade/cuisset/supercls/alessandro_electrons/supercls-v2/dumper_101.root\") #\"../runs_results/histo.root:ticlDumper\")\n",
    "ale_tree = uproot.open(\"/grid_mnt/data_cms_upgrade/tarabini/electrons_pre4_PU/step3_noLinking/step3_101.root:ana/hgc\")"
   ]
  },
  {
   "cell_type": "code",
   "execution_count": 3,
   "metadata": {},
   "outputs": [
    {
     "data": {
      "text/html": [
       "<pre>[[{ts_id: 0, time: -99, timeError: -1, regressed_energy: 9.7, ...}, ..., {...}],\n",
       " [{ts_id: 0, time: -99, timeError: -1, regressed_energy: 6.27, ...}, ...],\n",
       " [{ts_id: 0, time: -99, timeError: -1, regressed_energy: 6.2, ...}, ..., {...}],\n",
       " [{ts_id: 0, time: -99, timeError: -1, regressed_energy: 4.42, ...}, ...],\n",
       " [{ts_id: 0, time: -99, timeError: -1, regressed_energy: 10.8, ...}, ...],\n",
       " [{ts_id: 0, time: -99, timeError: -1, regressed_energy: 5.55, ...}, ...],\n",
       " [{ts_id: 0, time: -99, timeError: -1, regressed_energy: 5.93, ...}, ...],\n",
       " [{ts_id: 0, time: -99, timeError: -1, regressed_energy: 4.75, ...}, ...],\n",
       " [{ts_id: 0, time: -99, timeError: -1, regressed_energy: 5.47, ...}, ...],\n",
       " [{ts_id: 0, time: -99, timeError: -1, regressed_energy: 7.26, ...}, ...],\n",
       " ...,\n",
       " [{ts_id: 0, time: -99, timeError: -1, regressed_energy: 8.42, ...}, ...],\n",
       " [{ts_id: 0, time: -99, timeError: -1, regressed_energy: 6.13, ...}, ...],\n",
       " [{ts_id: 0, time: -99, timeError: -1, regressed_energy: 6.71, ...}, ...],\n",
       " [{ts_id: 0, time: -99, timeError: -1, regressed_energy: 11, ...}, ..., {...}],\n",
       " [{ts_id: 0, time: -99, timeError: -1, regressed_energy: 4.36, ...}, ...],\n",
       " [{ts_id: 0, time: -99, timeError: -1, regressed_energy: 6.62, ...}, ...],\n",
       " [{ts_id: 0, time: -99, timeError: -1, regressed_energy: 4.52, ...}, ...],\n",
       " [{ts_id: 0, time: -99, timeError: -1, regressed_energy: 5.69, ...}, ...],\n",
       " [{ts_id: 0, time: -99, timeError: -1, regressed_energy: 6.34, ...}, ...]]\n",
       "--------------------------------------------------------------------------------\n",
       "type: 100 * var * tracksters[\n",
       "    ts_id: int64,\n",
       "    time: float32,\n",
       "    timeError: float32,\n",
       "    regressed_energy: float32,\n",
       "    raw_energy: float32,\n",
       "    raw_em_energy: float32,\n",
       "    raw_pt: float32,\n",
       "    raw_em_pt: float32,\n",
       "    barycenter_x: float32,\n",
       "    barycenter_y: float32,\n",
       "    barycenter_z: float32,\n",
       "    barycenter_eta: float32,\n",
       "    barycenter_phi: float32,\n",
       "    EV1: float32,\n",
       "    EV2: float32,\n",
       "    EV3: float32,\n",
       "    eVector0_x: float32,\n",
       "    eVector0_y: float32,\n",
       "    eVector0_z: float32,\n",
       "    sigmaPCA1: float32,\n",
       "    sigmaPCA2: float32,\n",
       "    sigmaPCA3: float32,\n",
       "    id_probabilities: var * float32,\n",
       "    vertices_indexes: var * uint32,\n",
       "    vertices_x: var * float32,\n",
       "    vertices_y: var * float32,\n",
       "    vertices_z: var * float32,\n",
       "    vertices_time: var * float32,\n",
       "    vertices_timeErr: var * float32,\n",
       "    vertices_energy: var * float32,\n",
       "    vertices_correctedEnergy: var * float32,\n",
       "    vertices_correctedEnergyUncertainty: var * float32,\n",
       "    vertices_multiplicity: var * float32\n",
       "]</pre>"
      ],
      "text/plain": [
       "<Array [[{ts_id: 0, time: -99, ...}, ...], ...] type='100 * var * trackster...'>"
      ]
     },
     "execution_count": 3,
     "metadata": {},
     "output_type": "execute_result"
    }
   ],
   "source": [
    "reader.tracksters_zipped"
   ]
  },
  {
   "cell_type": "code",
   "execution_count": 4,
   "metadata": {},
   "outputs": [
    {
     "data": {
      "text/html": [
       "<pre>[[{ts_id: 0, multiclus_eta: -2.24, multiclus_time: -99, ...}, ..., {...}],\n",
       " [{ts_id: 0, multiclus_eta: -2.9, multiclus_time: -99, ...}, {...}, ..., {...}],\n",
       " [{ts_id: 0, multiclus_eta: -2.87, multiclus_time: -99, ...}, ..., {...}],\n",
       " [{ts_id: 0, multiclus_eta: -2.59, multiclus_time: -99, ...}, ..., {...}],\n",
       " [{ts_id: 0, multiclus_eta: -2.79, multiclus_time: -99, ...}, ..., {...}],\n",
       " [{ts_id: 0, multiclus_eta: -2.42, multiclus_time: -99, ...}, ..., {...}],\n",
       " [{ts_id: 0, multiclus_eta: -2.59, multiclus_time: -99, ...}, ..., {...}],\n",
       " [{ts_id: 0, multiclus_eta: -2.72, multiclus_time: -99, ...}, ..., {...}],\n",
       " [{ts_id: 0, multiclus_eta: -2.68, multiclus_time: -99, ...}, ..., {...}],\n",
       " [{ts_id: 0, multiclus_eta: -2.47, multiclus_time: -99, ...}, ..., {...}],\n",
       " ...,\n",
       " [{ts_id: 0, multiclus_eta: -2.74, multiclus_time: -99, ...}, ..., {...}],\n",
       " [{ts_id: 0, multiclus_eta: -2.49, multiclus_time: -99, ...}, ..., {...}],\n",
       " [{ts_id: 0, multiclus_eta: -2.75, multiclus_time: -99, ...}, ..., {...}],\n",
       " [{ts_id: 0, multiclus_eta: -2.93, multiclus_time: -99, ...}, ..., {...}],\n",
       " [{ts_id: 0, multiclus_eta: -2.62, multiclus_time: -99, ...}, ..., {...}],\n",
       " [{ts_id: 0, multiclus_eta: -2.52, multiclus_time: -99, ...}, ..., {...}],\n",
       " [{ts_id: 0, multiclus_eta: -2.32, multiclus_time: -99, ...}, ..., {...}],\n",
       " [{ts_id: 0, multiclus_eta: -3, multiclus_time: -99, ...}, {...}, ..., {...}],\n",
       " [{ts_id: 0, multiclus_eta: -2.82, multiclus_time: -99, ...}, ..., {...}]]\n",
       "--------------------------------------------------------------------------------\n",
       "type: 100 * var * {\n",
       "    ts_id: int64,\n",
       "    multiclus_eta: float32,\n",
       "    multiclus_time: float32,\n",
       "    multiclus_phi: float32,\n",
       "    multiclus_pt: float32,\n",
       "    multiclus_energy: float32,\n",
       "    multiclus_z: float32,\n",
       "    multiclus_slopeX: float32,\n",
       "    multiclus_slopeY: float32,\n",
       "    multiclus_cluster2d: var * uint32,\n",
       "    multiclus_cl2dSeed: int32,\n",
       "    multiclus_firstLay: int32,\n",
       "    multiclus_NLay: int32\n",
       "}</pre>"
      ],
      "text/plain": [
       "<Array [[{ts_id: 0, ...}, ..., {...}], ...] type='100 * var * {ts_id: int64...'>"
      ]
     },
     "execution_count": 4,
     "metadata": {},
     "output_type": "execute_result"
    }
   ],
   "source": [
    "_ar = ale_tree.arrays(filter_name=\"multiclus*\")\n",
    "ts_ale = ak.zip({\"ts_id\" : ak.local_index(_ar.multiclus_energy, axis=1)} | \n",
    "                      {key : _ar[key] for key in _ar.fields \n",
    "                        if key not in [\"multiclus_lastLay\"] # multiclus_lastLay is not filled for some reason\n",
    "                        },\n",
    "            depth_limit=2, # don't try to zip vertices\n",
    "            #with_name=\"tracksters\"\n",
    "        )\n",
    "ts_ale"
   ]
  },
  {
   "cell_type": "code",
   "execution_count": 5,
   "metadata": {},
   "outputs": [
    {
     "data": {
      "text/html": [
       "<pre>[[{ts_id: 1965, multiclus_eta: 2.6, multiclus_time: 0.124, ...}, ..., {...}],\n",
       " [{ts_id: 1896, multiclus_eta: 1.77, multiclus_time: 0.105, ...}, ..., {...}],\n",
       " [{ts_id: 2325, multiclus_eta: 1.92, multiclus_time: 0.132, ...}, ..., {...}],\n",
       " [{ts_id: 729, multiclus_eta: -2.54, multiclus_time: 0.021, ...}, ..., {...}],\n",
       " [{ts_id: 657, multiclus_eta: -2.6, multiclus_time: 0.0113, ...}, ..., {...}],\n",
       " [{ts_id: 594, multiclus_eta: -2.35, multiclus_time: -0.168, ...}, ..., {...}],\n",
       " [{ts_id: 770, multiclus_eta: -2.22, multiclus_time: 0.1, ...}, ..., {...}],\n",
       " [{ts_id: 619, multiclus_eta: -1.94, multiclus_time: -0.0795, ...}, ..., {...}],\n",
       " [{ts_id: 836, multiclus_eta: -1.68, multiclus_time: -0.0716, ...}, ..., {...}],\n",
       " [{ts_id: 720, multiclus_eta: -2.42, multiclus_time: 0.108, ...}, ..., {...}],\n",
       " ...,\n",
       " [{ts_id: 2401, multiclus_eta: 1.95, multiclus_time: 0.0607, ...}, ..., {...}],\n",
       " [{ts_id: 2037, multiclus_eta: 2.14, multiclus_time: -0.0893, ...}, ..., {...}],\n",
       " [{ts_id: 675, multiclus_eta: -2.04, multiclus_time: 0.116, ...}, ..., {...}],\n",
       " [{ts_id: 606, multiclus_eta: -1.98, multiclus_time: 0.0691, ...}, ..., {...}],\n",
       " [{ts_id: 752, multiclus_eta: -2.69, multiclus_time: 0.164, ...}, ..., {...}],\n",
       " [{ts_id: 883, multiclus_eta: -1.82, multiclus_time: -0.035, ...}, ..., {...}],\n",
       " [{ts_id: 606, multiclus_eta: -2.45, multiclus_time: 0.155, ...}, ..., {...}],\n",
       " [{ts_id: 628, multiclus_eta: -1.9, multiclus_time: 0.116, ...}, ..., {...}],\n",
       " [{ts_id: 2214, multiclus_eta: 1.9, multiclus_time: 0.083, ...}, ..., {...}]]\n",
       "--------------------------------------------------------------------------------\n",
       "type: 100 * var * {\n",
       "    ts_id: int64,\n",
       "    multiclus_eta: float32,\n",
       "    multiclus_time: float32,\n",
       "    multiclus_phi: float32,\n",
       "    multiclus_pt: float32,\n",
       "    multiclus_energy: float32,\n",
       "    multiclus_z: float32,\n",
       "    multiclus_slopeX: float32,\n",
       "    multiclus_slopeY: float32,\n",
       "    multiclus_cluster2d: var * uint32,\n",
       "    multiclus_cl2dSeed: int32,\n",
       "    multiclus_firstLay: int32,\n",
       "    multiclus_NLay: int32\n",
       "}</pre>"
      ],
      "text/plain": [
       "<Array [[{ts_id: 1965, ...}, ..., {...}], ...] type='100 * var * {ts_id: in...'>"
      ]
     },
     "execution_count": 5,
     "metadata": {},
     "output_type": "execute_result"
    }
   ],
   "source": [
    "ts_ale_sorted = ts_ale[ak.argsort(ts_ale.multiclus_pt, ascending=False)]\n",
    "ts_ale_sorted"
   ]
  },
  {
   "cell_type": "code",
   "execution_count": 6,
   "metadata": {},
   "outputs": [
    {
     "data": {
      "text/html": [
       "<pre>[[{ts_id: 1965, time: 0.124, timeError: 0.0023, ...}, ..., {ts_id: 1463, ...}],\n",
       " [{ts_id: 1896, time: 0.105, timeError: 0.00161, ...}, ..., {ts_id: 1532, ...}],\n",
       " [{ts_id: 2325, time: 0.132, timeError: 0.00199, ...}, ..., {ts_id: 1589, ...}],\n",
       " [{ts_id: 729, time: 0.021, timeError: 0.00163, ...}, ..., {ts_id: 2635, ...}],\n",
       " [{ts_id: 2186, time: 0.0146, timeError: 0.00193, ...}, ..., {ts_id: ..., ...}],\n",
       " [{ts_id: 1168, time: -99, timeError: -1, regressed_energy: 23.1, ...}, ...],\n",
       " [{ts_id: 770, time: 0.1, timeError: 0.00181, regressed_energy: 331, ...}, ...],\n",
       " [{ts_id: 619, time: -0.0795, timeError: 0.00206, ...}, ..., {ts_id: 869, ...}],\n",
       " [{ts_id: 1012, time: -99, timeError: -1, regressed_energy: 27.3, ...}, ...],\n",
       " [{ts_id: 2656, time: 0.108, timeError: 0.00166, ...}, ..., {ts_id: 1212, ...}],\n",
       " ...,\n",
       " [{ts_id: 3386, time: -99, timeError: -1, regressed_energy: 46, ...}, ...],\n",
       " [{ts_id: 2037, time: -0.0893, timeError: 0.00176, ...}, {...}, ..., {...}],\n",
       " [{ts_id: 675, time: 0.116, timeError: 0.0017, ...}, ..., {ts_id: 3315, ...}],\n",
       " [{ts_id: 606, time: 0.0691, timeError: 0.00169, ...}, ..., {ts_id: 2145, ...}],\n",
       " [{ts_id: 752, time: 0.164, timeError: 0.00297, ...}, ..., {ts_id: 1360, ...}],\n",
       " [{ts_id: 883, time: -0.035, timeError: 0.00243, ...}, ..., {ts_id: 1564, ...}],\n",
       " [{ts_id: 606, time: 0.155, timeError: 0.00227, ...}, ..., {ts_id: 3160, ...}],\n",
       " [{ts_id: 628, time: 0.116, timeError: 0.00174, ...}, ..., {ts_id: 1458, ...}],\n",
       " [{ts_id: 2214, time: 0.083, timeError: 0.00183, ...}, ..., {ts_id: 975, ...}]]\n",
       "--------------------------------------------------------------------------------\n",
       "type: 100 * var * tracksters[\n",
       "    ts_id: int64,\n",
       "    time: float32,\n",
       "    timeError: float32,\n",
       "    regressed_energy: float32,\n",
       "    raw_energy: float32,\n",
       "    raw_em_energy: float32,\n",
       "    raw_pt: float32,\n",
       "    raw_em_pt: float32,\n",
       "    barycenter_x: float32,\n",
       "    barycenter_y: float32,\n",
       "    barycenter_z: float32,\n",
       "    barycenter_eta: float32,\n",
       "    barycenter_phi: float32,\n",
       "    EV1: float32,\n",
       "    EV2: float32,\n",
       "    EV3: float32,\n",
       "    eVector0_x: float32,\n",
       "    eVector0_y: float32,\n",
       "    eVector0_z: float32,\n",
       "    sigmaPCA1: float32,\n",
       "    sigmaPCA2: float32,\n",
       "    sigmaPCA3: float32,\n",
       "    id_probabilities: var * float32,\n",
       "    vertices_indexes: var * uint32,\n",
       "    vertices_x: var * float32,\n",
       "    vertices_y: var * float32,\n",
       "    vertices_z: var * float32,\n",
       "    vertices_time: var * float32,\n",
       "    vertices_timeErr: var * float32,\n",
       "    vertices_energy: var * float32,\n",
       "    vertices_correctedEnergy: var * float32,\n",
       "    vertices_correctedEnergyUncertainty: var * float32,\n",
       "    vertices_multiplicity: var * float32\n",
       "]</pre>"
      ],
      "text/plain": [
       "<Array [[{ts_id: 1965, ...}, ..., {...}], ...] type='100 * var * tracksters...'>"
      ]
     },
     "execution_count": 6,
     "metadata": {},
     "output_type": "execute_result"
    }
   ],
   "source": [
    "ts_theo_sorted = reader.tracksters_zipped[ak.argsort(reader.tracksters_zipped.raw_pt, ascending=False)]\n",
    "ts_theo_sorted"
   ]
  },
  {
   "cell_type": "code",
   "execution_count": 7,
   "metadata": {},
   "outputs": [
    {
     "data": {
      "text/html": [
       "<pre>[[256, 252, 64.9, 21.4, 16.1, 35, ..., 0.715, 0.758, 0.714, 0.625, 0.723],\n",
       " [219, 205, 19.5, 31.2, 44.2, 40.1, ..., 0.715, 0.782, 0.802, 0.533, 0.589],\n",
       " [218, 188, 73.3, 21.7, 50, 48.5, ..., 0.686, 0.589, 0.704, 0.63, 0.561, 0.578],\n",
       " [465, 442, 37.4, 54.3, 49, 50.9, ..., 0.63, 0.863, 0.792, 0.794, 0.697, 0.692],\n",
       " [308, 295, 56.8, 32.3, 50.7, 12.8, ..., 0.461, 0.659, 0.715, 0.565, 0.618],\n",
       " [37.1, 30.3, 55.3, 53.4, 52.6, 48.6, ..., 0.776, 0.675, 0.715, 0.542, 0.167],\n",
       " [312, 310, 52.5, 53.4, 50.7, 30.2, ..., 0.793, 0.593, 0.783, 0.572, 0.33],\n",
       " [173, 162, 45, 14.8, 46.5, 26.1, ..., 0.78, 0.618, 0.658, 0.681, 0.641, 0.707],\n",
       " [27.7, 19.6, 19, 63.4, 55.6, 20.9, ..., 0.76, 0.562, 0.625, 0.663, 0.574],\n",
       " [474, 461, 92.2, 91.6, 60.5, 51.5, ..., 0.701, 0.664, 0.523, 0.538, 0.573],\n",
       " ...,\n",
       " [35.5, 55.1, 26.9, 72.2, 66.2, 53, ..., 0.827, 0.804, 0.633, 0.669, 0.649],\n",
       " [380, 378, 62.2, 42.1, 34.4, 39.2, ..., 0.755, 0.772, 0.792, 0.6, 0.659],\n",
       " [362, 347, 26, 43.3, 28.8, 46.5, ..., 0.689, 0.364, 0.499, 0.471, 0.554],\n",
       " [349, 316, 75.5, 31.1, 32.8, 30.5, ..., 0.724, 0.572, 0.679, 0.641, 0.377],\n",
       " [110, 103, 31.4, 40.2, 45.4, 40, ..., 0.601, 0.569, 0.635, 0.693, 0.556],\n",
       " [76.5, 61.3, 59.7, 46.7, 34.2, 48.7, ..., 0.775, 0.661, 0.597, 0.748, 0.772],\n",
       " [213, 213, 55.7, 63.5, 53.9, 47, ..., 0.696, 0.679, 0.69, 0.512, 0.702, 0.65],\n",
       " [304, 301, 34.5, 42.3, 37, 37.1, ..., 0.496, 0.792, 0.787, 0.669, 0.623],\n",
       " [208, 185, 31.4, 60.5, 53.5, 15.9, ..., 0.615, 0.656, 0.633, 0.414, 0.461]]\n",
       "--------------------------------------------------------------------------------\n",
       "type: 100 * var * float32</pre>"
      ],
      "text/plain": [
       "<Array [[256, 252, 64.9, ..., 0.625, 0.723], ...] type='100 * var * float32'>"
      ]
     },
     "execution_count": 7,
     "metadata": {},
     "output_type": "execute_result"
    }
   ],
   "source": [
    "ts_ale_sorted.multiclus_energy"
   ]
  },
  {
   "cell_type": "code",
   "execution_count": 8,
   "metadata": {},
   "outputs": [
    {
     "data": {
      "text/html": [
       "<pre>[[256, 252, 64.9, 20.7, 12.4, 16.1, ..., 3.78, 1.01, 2.06, 1.24, 2.01, 1.13],\n",
       " [219, 205, 44.2, 30.6, 15.9, 32.5, ..., 1.86, 1.02, 1.51, 1.59, 0.589, 2.38],\n",
       " [218, 188, 73.3, 29.9, 7.55, 8.14, ..., 1.15, 2.95, 1.87, 0.804, 0.754, 1.43],\n",
       " [465, 442, 54.3, 37.4, 15.9, 50.9, 39, ..., 1.07, 1.65, 1.19, 1.2, 1.47, 1.26],\n",
       " [295, 308, 13, 37.6, 45.4, 22.2, 25.5, ..., 2.01, 1.05, 1.3, 1.23, 2.08, 1],\n",
       " [19.2, 32.3, 48.6, 30.3, 33.4, 7.29, ..., 2.92, 0.692, 5.19, 2.46, 2.24, 2.38],\n",
       " [312, 310, 52.5, 36.7, 53.4, 46, ..., 1.21, 1.03, 1.83, 2.57, 0.764, 0.675],\n",
       " [173, 162, 45, 19.6, 21.7, 7.43, ..., 1.64, 1.6, 17.1, 2.44, 0.993, 0.755],\n",
       " [23, 27.7, 44.7, 39.5, 55.6, 18.2, ..., 0.897, 1.56, 2.95, 3.94, 1.2, 1.45],\n",
       " [461, 474, 42.2, 41.2, 34.3, 12.5, ..., 1.18, 0.861, 1.08, 0.538, 0.898, 1.26],\n",
       " ...,\n",
       " [37.9, 35.5, 27, 37.9, 27.1, 53, ..., 2.24, 0.711, 2.28, 1.12, 2.57, 2.17],\n",
       " [380, 378, 21.1, 25.4, 29.1, 32, ..., 0.718, 2.52, 1.11, 1.23, 1.95, 2.38],\n",
       " [362, 347, 46.5, 31, 28.8, 30.8, ..., 1.86, 4.1, 1.57, 0.813, 1.71, 1.05],\n",
       " [349, 316, 75.5, 32.8, 7.98, 32.4, ..., 0.841, 1.48, 1.13, 0.879, 0.999],\n",
       " [110, 103, 31.4, 40.2, 28.3, 14.4, ..., 1.33, 1.36, 0.776, 1.97, 2.7, 1.22],\n",
       " [76.5, 61.3, 10.8, 59.7, 24.1, 33.8, ..., 0.725, 0.876, 1.42, 0.923, 0.786],\n",
       " [213, 213, 23.8, 53.9, 24.4, 63.5, ..., 0.872, 2.06, 0.908, 0.844, 1.26, 1.1],\n",
       " [304, 301, 17.1, 34.5, 32.3, 29.1, ..., 0.844, 1.87, 1.6, 1.05, 3.84, 1.05],\n",
       " [208, 185, 45.7, 25, 31.4, 38.3, 46, ..., 2.81, 1.36, 1.58, 4.91, 1.53, 1.86]]\n",
       "--------------------------------------------------------------------------------\n",
       "type: 100 * var * float32</pre>"
      ],
      "text/plain": [
       "<Array [[256, 252, 64.9, ..., 2.01, 1.13], ...] type='100 * var * float32'>"
      ]
     },
     "execution_count": 8,
     "metadata": {},
     "output_type": "execute_result"
    }
   ],
   "source": [
    "ts_theo_sorted.raw_energy"
   ]
  },
  {
   "cell_type": "code",
   "execution_count": 9,
   "metadata": {},
   "outputs": [
    {
     "data": {
      "text/plain": [
       "<matplotlib.legend.Legend at 0x7f76d55b6f90>"
      ]
     },
     "execution_count": 9,
     "metadata": {},
     "output_type": "execute_result"
    },
    {
     "data": {
      "image/png": "[encoded data removed]",
      "text/plain": [
       "<Figure size 640x480 with 1 Axes>"
      ]
     },
     "metadata": {},
     "output_type": "display_data"
    }
   ],
   "source": [
    "h_tsENergy = hist.Hist(hist.axis.Regular(50, 0, 400, label=\"Trackster energy (GeV)\"))\n",
    "hep.histplot([h_tsENergy.copy().fill(ak.flatten(ts_ale_sorted.multiclus_energy)), h_tsENergy.copy().fill(ak.flatten(ts_theo_sorted.raw_energy))],\n",
    "             label=[\"Alessandro\", \"Théo\"], yerr=False)\n",
    "plt.yscale(\"log\")\n",
    "plt.legend()"
   ]
  },
  {
   "cell_type": "code",
   "execution_count": 11,
   "metadata": {},
   "outputs": [
    {
     "data": {
      "text/html": [
       "<pre>[[{gunparticle_id: 11, gunparticle_energy: 261, gunparticle_pt: ..., ...}, ...],\n",
       " [{gunparticle_id: 11, gunparticle_energy: 233, gunparticle_pt: ..., ...}, ...],\n",
       " [{gunparticle_id: 11, gunparticle_energy: 240, gunparticle_pt: ..., ...}, ...],\n",
       " [{gunparticle_id: 11, gunparticle_energy: 500, gunparticle_pt: ..., ...}, ...],\n",
       " [{gunparticle_id: 11, gunparticle_energy: 327, gunparticle_pt: ..., ...}, ...],\n",
       " [{gunparticle_id: 11, gunparticle_energy: 10.6, ...}, {...}],\n",
       " [{gunparticle_id: 11, gunparticle_energy: 332, gunparticle_pt: ..., ...}, ...],\n",
       " [{gunparticle_id: 11, gunparticle_energy: 186, gunparticle_pt: ..., ...}, ...],\n",
       " [{gunparticle_id: 11, gunparticle_energy: 43.9, ...}, {...}],\n",
       " [{gunparticle_id: 11, gunparticle_energy: 522, gunparticle_pt: ..., ...}, ...],\n",
       " ...,\n",
       " [{gunparticle_id: 11, gunparticle_energy: 41.2, ...}, {...}],\n",
       " [{gunparticle_id: 11, gunparticle_energy: 415, gunparticle_pt: 96, ...}, ...],\n",
       " [{gunparticle_id: 11, gunparticle_energy: 370, gunparticle_pt: ..., ...}, ...],\n",
       " [{gunparticle_id: 11, gunparticle_energy: 356, gunparticle_pt: ..., ...}, ...],\n",
       " [{gunparticle_id: 11, gunparticle_energy: 104, gunparticle_pt: 14, ...}, ...],\n",
       " [{gunparticle_id: 11, gunparticle_energy: 90, gunparticle_pt: 28.5, ...}, ...],\n",
       " [{gunparticle_id: 11, gunparticle_energy: 240, gunparticle_pt: ..., ...}, ...],\n",
       " [{gunparticle_id: 11, gunparticle_energy: 329, gunparticle_pt: ..., ...}, ...],\n",
       " [{gunparticle_id: 11, gunparticle_energy: 235, gunparticle_pt: ..., ...}, ...]]\n",
       "--------------------------------------------------------------------------------\n",
       "type: 100 * var * {\n",
       "    gunparticle_id: int32,\n",
       "    gunparticle_energy: float32,\n",
       "    gunparticle_pt: float32,\n",
       "    gunparticle_eta: float32,\n",
       "    gunparticle_phi: float32\n",
       "}</pre>"
      ],
      "text/plain": [
       "<Array [[{gunparticle_id: 11, ...}, ...], ...] type='100 * var * {gunpartic...'>"
      ]
     },
     "execution_count": 11,
     "metadata": {},
     "output_type": "execute_result"
    }
   ],
   "source": [
    "ale_gun_ = ale_tree.arrays(filter_name=\"gunparticle*\")\n",
    "ale_gun = ak.zip({key : ale_gun_[key][:, 0] for key in ale_gun_.fields})\n",
    "ale_gun"
   ]
  },
  {
   "cell_type": "code",
   "execution_count": 12,
   "metadata": {},
   "outputs": [
    {
     "data": {
      "text/html": [
       "<pre>{gunparticle_id: [[11, -11]],\n",
       " gunparticle_energy: [[261, 261]],\n",
       " gunparticle_pt: [[38.3, 38.3]],\n",
       " gunparticle_eta: [[2.6, -2.6]],\n",
       " gunparticle_phi: [[2.9, -0.239]]}\n",
       "--------------------------------------------\n",
       "type: {\n",
       "    gunparticle_id: var * var * int32,\n",
       "    gunparticle_energy: var * var * float32,\n",
       "    gunparticle_pt: var * var * float32,\n",
       "    gunparticle_eta: var * var * float32,\n",
       "    gunparticle_phi: var * var * float32\n",
       "}</pre>"
      ],
      "text/plain": [
       "<Record {gunparticle_id: [[...]], ...} type='{gunparticle_id: var * var * i...'>"
      ]
     },
     "execution_count": 12,
     "metadata": {},
     "output_type": "execute_result"
    }
   ],
   "source": [
    "ale_gun_[0]"
   ]
  },
  {
   "cell_type": "code",
   "execution_count": 13,
   "metadata": {},
   "outputs": [
    {
     "data": {
      "text/html": [
       "<pre>[[261, 261],\n",
       " [233, 233],\n",
       " [240, 240],\n",
       " [500, 500],\n",
       " [327, 327],\n",
       " [10.6, 10.6],\n",
       " [332, 332],\n",
       " [186, 186],\n",
       " [43.9, 43.9],\n",
       " [522, 522],\n",
       " ...,\n",
       " [41.2, 41.2],\n",
       " [415, 415],\n",
       " [370, 370],\n",
       " [356, 356],\n",
       " [104, 104],\n",
       " [90, 90],\n",
       " [240, 240],\n",
       " [329, 329],\n",
       " [235, 235]]\n",
       "-------------------------\n",
       "type: 100 * var * float32</pre>"
      ],
      "text/plain": [
       "<Array [[261, 261], [233, ...], ..., [235, 235]] type='100 * var * float32'>"
      ]
     },
     "execution_count": 13,
     "metadata": {},
     "output_type": "execute_result"
    }
   ],
   "source": [
    "ale_gun.gunparticle_energy"
   ]
  },
  {
   "cell_type": "code",
   "execution_count": 14,
   "metadata": {},
   "outputs": [
    {
     "data": {
      "text/html": [
       "<pre>[[261, 261],\n",
       " [233, 233],\n",
       " [240, 240],\n",
       " [500, 500],\n",
       " [327, 327],\n",
       " [10.6, 10.6],\n",
       " [332, 332],\n",
       " [186, 186],\n",
       " [43.9, 43.9],\n",
       " [522, 522],\n",
       " ...,\n",
       " [41.2, 41.2],\n",
       " [415, 415],\n",
       " [370, 370],\n",
       " [356, 356],\n",
       " [104, 104],\n",
       " [90, 90],\n",
       " [240, 240],\n",
       " [329, 329],\n",
       " [235, 235]]\n",
       "-------------------------\n",
       "type: 100 * var * float32</pre>"
      ],
      "text/plain": [
       "<Array [[261, 261], [233, ...], ..., [235, 235]] type='100 * var * float32'>"
      ]
     },
     "execution_count": 14,
     "metadata": {},
     "output_type": "execute_result"
    }
   ],
   "source": [
    "reader.simTrackstersCP.regressed_energy"
   ]
  },
  {
   "cell_type": "code",
   "execution_count": 15,
   "metadata": {},
   "outputs": [
    {
     "data": {
      "text/html": [
       "<pre>[[261, 261],\n",
       " [233, 233],\n",
       " [240, 240],\n",
       " [500, 500],\n",
       " [327, 327],\n",
       " [10.6, 10.6],\n",
       " [332, 332],\n",
       " [186, 186],\n",
       " [43.9, 43.9],\n",
       " [522, 522],\n",
       " ...,\n",
       " [41.2, 41.2],\n",
       " [415, 415],\n",
       " [370, 370],\n",
       " [356, 356],\n",
       " [104, 104],\n",
       " [90, 90],\n",
       " [240, 240],\n",
       " [329, 329],\n",
       " [235, 235]]\n",
       "-------------------------\n",
       "type: 100 * var * float32</pre>"
      ],
      "text/plain": [
       "<Array [[261, 261], [233, ...], ..., [235, 235]] type='100 * var * float32'>"
      ]
     },
     "execution_count": 15,
     "metadata": {},
     "output_type": "execute_result"
    }
   ],
   "source": [
    "ale_gun.gunparticle_energy"
   ]
  },
  {
   "cell_type": "code",
   "execution_count": 16,
   "metadata": {},
   "outputs": [
    {
     "data": {
      "text/plain": [
       "<matplotlib.legend.Legend at 0x7f7627301ed0>"
      ]
     },
     "execution_count": 16,
     "metadata": {},
     "output_type": "execute_result"
    },
    {
     "data": {
      "image/png": "[encoded data removed]",
      "text/plain": [
       "<Figure size 640x480 with 1 Axes>"
      ]
     },
     "metadata": {},
     "output_type": "display_data"
    }
   ],
   "source": [
    "eratio_axis = partial(hist.axis.Regular, 50, 0, 2, name=\"e_ratio\")\n",
    "h_scOverCP_energy = hist.Hist(eratio_axis(label=\"Supercluster energy / CaloParticle energy\"))\n",
    "hep.histplot([h_scOverCP_energy.copy().fill(ak.flatten(ts_ale_sorted.multiclus_energy[:, :2]/ale_gun.gunparticle_energy)), \n",
    "              h_scOverCP_energy.copy().fill(ak.flatten(ts_theo_sorted.raw_energy[:, :2]/reader.simTrackstersCP.raw_energy))],\n",
    "             label=[\"Alessandro\", \"Théo\"], yerr=False)\n",
    "plt.yscale(\"log\")\n",
    "plt.legend()"
   ]
  },
  {
   "cell_type": "code",
   "execution_count": null,
   "metadata": {},
   "outputs": [],
   "source": []
  }
 ],
 "metadata": {
  "kernelspec": {
   "display_name": "modules-python-3.11",
   "language": "python",
   "name": "python3"
  },
  "language_info": {
   "codemirror_mode": {
    "name": "ipython",
    "version": 3
   },
   "file_extension": ".py",
   "mimetype": "text/x-python",
   "name": "python",
   "nbconvert_exporter": "python",
   "pygments_lexer": "ipython3",
   "version": "3.11.6"
  }
 },
 "nbformat": 4,
 "nbformat_minor": 2
}
