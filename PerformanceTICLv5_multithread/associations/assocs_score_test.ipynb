{
 "cells": [
  {
   "cell_type": "code",
   "execution_count": 1,
   "metadata": {},
   "outputs": [],
   "source": [
    "%load_ext autoreload\n",
    "%autoreload 2\n",
    "import uproot\n",
    "import numpy as np\n",
    "import awkward as ak\n",
    "import matplotlib.pyplot as plt\n",
    "import mplhep as hep\n",
    "plt.style.use(hep.style.CMS)\n",
    "import hist\n",
    "\n",
    "import sys\n",
    "sys.path.append(\"../..\")\n",
    "from analyzer.dumperReader.reader import *"
   ]
  },
  {
   "cell_type": "code",
   "execution_count": 2,
   "metadata": {},
   "outputs": [],
   "source": [
    "reader = DumperReader(\"/data_cms_upgrade/cuisset/supercls/alessandro_electrons/supercls-v1/dumper_101.root\") #\"../runs_results/histo.root:ticlDumper\")"
   ]
  },
  {
   "cell_type": "code",
   "execution_count": 3,
   "metadata": {},
   "outputs": [
    {
     "data": {
      "text/html": [
       "<pre>[[[0, 1], [0, 1], [0, 1], [0, 1], [...], ..., [0, 1], [0, 1], [0, 1], [0, 1]],\n",
       " [[0, 1], [0, 1], [0, 1], [0, 1], [...], ..., [0, 1], [0, 1], [0, 1], [0, 1]],\n",
       " [[0, 1], [0, 1], [0, 1], [0, 1], [...], ..., [0, 1], [0, 1], [0, 1], [0, 1]],\n",
       " [[0, 1], [0, 1], [0, 1], [0, 1], [...], ..., [0, 1], [0, 1], [0, 1], [0, 1]],\n",
       " [[0, 1], [0, 1], [0, 1], [0, 1], [...], ..., [0, 1], [0, 1], [0, 1], [0, 1]],\n",
       " [[0, 1], [0, 1], [0, 1], [0, 1], [...], ..., [0, 1], [0, 1], [0, 1], [0, 1]],\n",
       " [[0, 1], [0, 1], [0, 1], [0, 1], [...], ..., [0, 1], [0, 1], [0, 1], [0, 1]],\n",
       " [[0, 1], [0, 1], [0, 1], [0, 1], [...], ..., [0, 1], [0, 1], [0, 1], [0, 1]],\n",
       " [[0, 1], [0, 1], [0, 1], [0, 1], [...], ..., [0, 1], [0, 1], [0, 1], [0, 1]],\n",
       " [[0, 1], [0, 1], [0, 1], [0, 1], [...], ..., [0, 1], [0, 1], [0, 1], [0, 1]],\n",
       " ...,\n",
       " [[0, 1], [0, 1], [0, 1], [0, 1], [...], ..., [0, 1], [0, 1], [0, 1], [0, 1]],\n",
       " [[0, 1], [0, 1], [0, 1], [0, 1], [...], ..., [0, 1], [0, 1], [0, 1], [0, 1]],\n",
       " [[0, 1], [0, 1], [0, 1], [0, 1], [...], ..., [0, 1], [0, 1], [0, 1], [0, 1]],\n",
       " [[0, 1], [0, 1], [0, 1], [0, 1], [...], ..., [0, 1], [0, 1], [0, 1], [0, 1]],\n",
       " [[0, 1], [0, 1], [0, 1], [0, 1], [...], ..., [0, 1], [0, 1], [0, 1], [0, 1]],\n",
       " [[0, 1], [0, 1], [0, 1], [0, 1], [...], ..., [0, 1], [0, 1], [0, 1], [0, 1]],\n",
       " [[0, 1], [0, 1], [0, 1], [0, 1], [...], ..., [0, 1], [0, 1], [0, 1], [0, 1]],\n",
       " [[0, 1], [0, 1], [0, 1], [0, 1], [...], ..., [0, 1], [0, 1], [0, 1], [0, 1]],\n",
       " [[0, 1], [0, 1], [0, 1], [0, 1], [...], ..., [0, 1], [0, 1], [0, 1], [0, 1]]]\n",
       "------------------------------------------------------------------------------\n",
       "type: 100 * var * var * uint32</pre>"
      ],
      "text/plain": [
       "<Array [[[0, 1], [0, ...], ..., [0, 1]], ...] type='100 * var * var * uint32'>"
      ]
     },
     "execution_count": 3,
     "metadata": {},
     "output_type": "execute_result"
    }
   ],
   "source": [
    "assocs_zip_recoToSim(reader.associations).simts_id"
   ]
  },
  {
   "cell_type": "code",
   "execution_count": 4,
   "metadata": {},
   "outputs": [
    {
     "data": {
      "text/html": [
       "<div>\n",
       "<style scoped>\n",
       "    .dataframe tbody tr th:only-of-type {\n",
       "        vertical-align: middle;\n",
       "    }\n",
       "\n",
       "    .dataframe tbody tr th {\n",
       "        vertical-align: top;\n",
       "    }\n",
       "\n",
       "    .dataframe thead th {\n",
       "        text-align: right;\n",
       "    }\n",
       "</style>\n",
       "<table border=\"1\" class=\"dataframe\">\n",
       "  <thead>\n",
       "    <tr style=\"text-align: right;\">\n",
       "      <th></th>\n",
       "      <th></th>\n",
       "      <th>regressed_energy</th>\n",
       "      <th>raw_energy</th>\n",
       "      <th>barycenter_x</th>\n",
       "      <th>barycenter_y</th>\n",
       "      <th>barycenter_z</th>\n",
       "      <th>barycenter_eta</th>\n",
       "      <th>barycenter_phi</th>\n",
       "    </tr>\n",
       "    <tr>\n",
       "      <th>entry</th>\n",
       "      <th>subentry</th>\n",
       "      <th></th>\n",
       "      <th></th>\n",
       "      <th></th>\n",
       "      <th></th>\n",
       "      <th></th>\n",
       "      <th></th>\n",
       "      <th></th>\n",
       "    </tr>\n",
       "  </thead>\n",
       "  <tbody>\n",
       "    <tr>\n",
       "      <th rowspan=\"2\" valign=\"top\">0</th>\n",
       "      <th>0</th>\n",
       "      <td>260.535889</td>\n",
       "      <td>262.060822</td>\n",
       "      <td>43.388233</td>\n",
       "      <td>-9.003727</td>\n",
       "      <td>-333.805603</td>\n",
       "      <td>-2.716815</td>\n",
       "      <td>-0.204611</td>\n",
       "    </tr>\n",
       "    <tr>\n",
       "      <th>1</th>\n",
       "      <td>260.535889</td>\n",
       "      <td>265.912811</td>\n",
       "      <td>-40.854183</td>\n",
       "      <td>15.595878</td>\n",
       "      <td>335.093597</td>\n",
       "      <td>2.733758</td>\n",
       "      <td>2.776922</td>\n",
       "    </tr>\n",
       "    <tr>\n",
       "      <th rowspan=\"2\" valign=\"top\">1</th>\n",
       "      <th>0</th>\n",
       "      <td>233.356415</td>\n",
       "      <td>236.375717</td>\n",
       "      <td>16.516609</td>\n",
       "      <td>-116.074348</td>\n",
       "      <td>-334.565704</td>\n",
       "      <td>-1.771104</td>\n",
       "      <td>-1.429452</td>\n",
       "    </tr>\n",
       "    <tr>\n",
       "      <th>1</th>\n",
       "      <td>233.356415</td>\n",
       "      <td>233.512634</td>\n",
       "      <td>-15.209192</td>\n",
       "      <td>116.131332</td>\n",
       "      <td>335.572937</td>\n",
       "      <td>1.774912</td>\n",
       "      <td>1.701021</td>\n",
       "    </tr>\n",
       "    <tr>\n",
       "      <th>2</th>\n",
       "      <th>0</th>\n",
       "      <td>239.973526</td>\n",
       "      <td>243.808395</td>\n",
       "      <td>95.294098</td>\n",
       "      <td>31.507908</td>\n",
       "      <td>-332.762024</td>\n",
       "      <td>-1.913738</td>\n",
       "      <td>0.319323</td>\n",
       "    </tr>\n",
       "    <tr>\n",
       "      <th>...</th>\n",
       "      <th>...</th>\n",
       "      <td>...</td>\n",
       "      <td>...</td>\n",
       "      <td>...</td>\n",
       "      <td>...</td>\n",
       "      <td>...</td>\n",
       "      <td>...</td>\n",
       "      <td>...</td>\n",
       "    </tr>\n",
       "    <tr>\n",
       "      <th>97</th>\n",
       "      <th>1</th>\n",
       "      <td>239.547318</td>\n",
       "      <td>240.925400</td>\n",
       "      <td>40.346405</td>\n",
       "      <td>-44.297031</td>\n",
       "      <td>336.988403</td>\n",
       "      <td>2.428045</td>\n",
       "      <td>-0.832038</td>\n",
       "    </tr>\n",
       "    <tr>\n",
       "      <th rowspan=\"2\" valign=\"top\">98</th>\n",
       "      <th>0</th>\n",
       "      <td>329.190918</td>\n",
       "      <td>336.582977</td>\n",
       "      <td>-9.159848</td>\n",
       "      <td>-101.258446</td>\n",
       "      <td>-334.794342</td>\n",
       "      <td>-1.907210</td>\n",
       "      <td>-1.661011</td>\n",
       "    </tr>\n",
       "    <tr>\n",
       "      <th>1</th>\n",
       "      <td>329.190918</td>\n",
       "      <td>319.961426</td>\n",
       "      <td>7.929540</td>\n",
       "      <td>102.041672</td>\n",
       "      <td>335.088593</td>\n",
       "      <td>1.901698</td>\n",
       "      <td>1.493243</td>\n",
       "    </tr>\n",
       "    <tr>\n",
       "      <th rowspan=\"2\" valign=\"top\">99</th>\n",
       "      <th>0</th>\n",
       "      <td>234.995773</td>\n",
       "      <td>235.146133</td>\n",
       "      <td>-42.319241</td>\n",
       "      <td>91.937134</td>\n",
       "      <td>-333.584259</td>\n",
       "      <td>-1.908107</td>\n",
       "      <td>2.002188</td>\n",
       "    </tr>\n",
       "    <tr>\n",
       "      <th>1</th>\n",
       "      <td>234.995773</td>\n",
       "      <td>227.163223</td>\n",
       "      <td>40.490250</td>\n",
       "      <td>-94.441696</td>\n",
       "      <td>333.471680</td>\n",
       "      <td>1.893287</td>\n",
       "      <td>-1.165768</td>\n",
       "    </tr>\n",
       "  </tbody>\n",
       "</table>\n",
       "<p>200 rows × 7 columns</p>\n",
       "</div>"
      ],
      "text/plain": [
       "                regressed_energy  raw_energy  barycenter_x  barycenter_y  \\\n",
       "entry subentry                                                             \n",
       "0     0               260.535889  262.060822     43.388233     -9.003727   \n",
       "      1               260.535889  265.912811    -40.854183     15.595878   \n",
       "1     0               233.356415  236.375717     16.516609   -116.074348   \n",
       "      1               233.356415  233.512634    -15.209192    116.131332   \n",
       "2     0               239.973526  243.808395     95.294098     31.507908   \n",
       "...                          ...         ...           ...           ...   \n",
       "97    1               239.547318  240.925400     40.346405    -44.297031   \n",
       "98    0               329.190918  336.582977     -9.159848   -101.258446   \n",
       "      1               329.190918  319.961426      7.929540    102.041672   \n",
       "99    0               234.995773  235.146133    -42.319241     91.937134   \n",
       "      1               234.995773  227.163223     40.490250    -94.441696   \n",
       "\n",
       "                barycenter_z  barycenter_eta  barycenter_phi  \n",
       "entry subentry                                                \n",
       "0     0          -333.805603       -2.716815       -0.204611  \n",
       "      1           335.093597        2.733758        2.776922  \n",
       "1     0          -334.565704       -1.771104       -1.429452  \n",
       "      1           335.572937        1.774912        1.701021  \n",
       "2     0          -332.762024       -1.913738        0.319323  \n",
       "...                      ...             ...             ...  \n",
       "97    1           336.988403        2.428045       -0.832038  \n",
       "98    0          -334.794342       -1.907210       -1.661011  \n",
       "      1           335.088593        1.901698        1.493243  \n",
       "99    0          -333.584259       -1.908107        2.002188  \n",
       "      1           333.471680        1.893287       -1.165768  \n",
       "\n",
       "[200 rows x 7 columns]"
      ]
     },
     "execution_count": 4,
     "metadata": {},
     "output_type": "execute_result"
    }
   ],
   "source": [
    "ak.to_dataframe(reader.simTrackstersCP)"
   ]
  },
  {
   "cell_type": "code",
   "execution_count": 5,
   "metadata": {},
   "outputs": [
    {
     "data": {
      "text/html": [
       "<pre>[[[1], [1], [1], [1], [1], [1], [1], ..., [1], [1], [1], [1], [1], [1], [1]],\n",
       " [[1], [1], [1], [1], [1], [1], [1], ..., [1], [1], [1], [1], [1], [1], [1]],\n",
       " [[1], [1], [1], [1], [1], [1], [1], ..., [1], [1], [1], [1], [1], [1], [1]],\n",
       " [[1], [1], [1], [1], [1], [1], [1], ..., [1], [1], [1], [1], [1], [1], [1]],\n",
       " [[1], [1], [1], [1], [1], [1], [1], ..., [1], [1], [1], [1], [1], [1], [1]],\n",
       " [[1], [1], [1], [1], [1], [1], [1], ..., [1], [1], [1], [1], [1], [1], [1]],\n",
       " [[1], [1], [1], [1], [1], [1], [1], ..., [1], [1], [1], [1], [1], [1], [1]],\n",
       " [[1], [1], [1], [1], [1], [1], [1], ..., [1], [1], [1], [1], [1], [1], [1]],\n",
       " [[1], [1], [1], [1], [1], [1], [1], ..., [1], [1], [1], [1], [1], [1], [1]],\n",
       " [[1], [1], [1], [1], [1], [1], [1], ..., [1], [1], [1], [1], [1], [1], [1]],\n",
       " ...,\n",
       " [[1], [1], [1], [1], [1], [1], [1], ..., [1], [1], [1], [1], [1], [1], [1]],\n",
       " [[1], [1], [1], [1], [1], [1], [1], ..., [1], [1], [1], [1], [1], [1], [1]],\n",
       " [[1], [1], [1], [1], [1], [1], [1], ..., [1], [1], [1], [1], [1], [1], [1]],\n",
       " [[1], [1], [1], [1], [1], [1], [1], ..., [1], [1], [1], [1], [1], [1], [1]],\n",
       " [[1], [1], [1], [1], [1], [1], [1], ..., [1], [1], [1], [1], [1], [1], [1]],\n",
       " [[1], [1], [1], [1], [1], [1], [1], ..., [1], [1], [1], [1], [1], [1], [1]],\n",
       " [[1], [1], [1], [1], [1], [1], [1], ..., [1], [1], [1], [1], [1], [1], [1]],\n",
       " [[1], [1], [1], [1], [1], [1], [1], ..., [1], [1], [1], [1], [1], [1], [1]],\n",
       " [[1], [1], [1], [1], [1], [1], [1], ..., [1], [1], [1], [1], [1], [1], [1]]]\n",
       "-----------------------------------------------------------------------------\n",
       "type: 100 * var * var * float32</pre>"
      ],
      "text/plain": [
       "<Array [[[1], [1], [1], ..., [1], [1]], ...] type='100 * var * var * float32'>"
      ]
     },
     "execution_count": 5,
     "metadata": {},
     "output_type": "execute_result"
    }
   ],
   "source": [
    "reader.associations.tsCLUE3D_recoToSim_CP_score[reader.associations.tsCLUE3D_recoToSim_CP == 1]"
   ]
  },
  {
   "cell_type": "code",
   "execution_count": 6,
   "metadata": {},
   "outputs": [
    {
     "data": {
      "text/html": [
       "<pre>[0,\n",
       " 1,\n",
       " 0,\n",
       " 1,\n",
       " 0,\n",
       " 1,\n",
       " 0,\n",
       " 1,\n",
       " 0,\n",
       " 1,\n",
       " ...,\n",
       " 1,\n",
       " 0,\n",
       " 1,\n",
       " 0,\n",
       " 1,\n",
       " 0,\n",
       " 1,\n",
       " 0,\n",
       " 1]\n",
       "---------------------\n",
       "type: 695390 * uint32</pre>"
      ],
      "text/plain": [
       "<Array [0, 1, 0, 1, 0, 1, 0, ..., 1, 0, 1, 0, 1, 0, 1] type='695390 * uint32'>"
      ]
     },
     "execution_count": 6,
     "metadata": {},
     "output_type": "execute_result"
    }
   ],
   "source": [
    "ak.flatten(reader.associations.tsCLUE3D_recoToSim_CP, axis=None)"
   ]
  },
  {
   "cell_type": "code",
   "execution_count": 7,
   "metadata": {},
   "outputs": [
    {
     "data": {
      "text/plain": [
       "<matplotlib.legend.Legend at 0x7fbceb75d1d0>"
      ]
     },
     "execution_count": 7,
     "metadata": {},
     "output_type": "execute_result"
    },
    {
     "data": {
      "image/png": "[encoded data removed]",
      "text/plain": [
       "<Figure size 1000x1000 with 1 Axes>"
      ]
     },
     "metadata": {},
     "output_type": "display_data"
    }
   ],
   "source": [
    "nbins=100\n",
    "axis = hist.axis.Regular(100, 0, 1, name=\"score\", label=\"Association score\")\n",
    "h0 = hist.Hist(axis, name=\"CP0\")\n",
    "h0.fill(ak.flatten(reader.associations.tsCLUE3D_recoToSim_CP_score[reader.associations.tsCLUE3D_recoToSim_CP == 0], axis=None))\n",
    "h1 = hist.Hist(axis, name=\"CP1\")\n",
    "h1.fill(ak.flatten(reader.associations.tsCLUE3D_recoToSim_CP_score[reader.associations.tsCLUE3D_recoToSim_CP == 1], axis=None))\n",
    "hep.histplot([h0, h1], yerr=False, label=[\"CP0\", \"CP1\"])\n",
    "plt.yscale(\"log\")\n",
    "plt.legend()"
   ]
  },
  {
   "cell_type": "code",
   "execution_count": null,
   "metadata": {},
   "outputs": [],
   "source": []
  },
  {
   "cell_type": "code",
   "execution_count": 8,
   "metadata": {},
   "outputs": [
    {
     "data": {
      "text/html": [
       "<pre>[[0.766, 1],\n",
       " [0.437, 1],\n",
       " [0.54, 1],\n",
       " [0.882, 1],\n",
       " [0.795, 1],\n",
       " [0.388, 1],\n",
       " [0.582, 1],\n",
       " [0.876, 1],\n",
       " [0.0125, 1],\n",
       " [0.663, 1],\n",
       " ...,\n",
       " [0.485, 1],\n",
       " [0.881, 1],\n",
       " [0.765, 1],\n",
       " [0.866, 1],\n",
       " [0.0961, 1],\n",
       " [0.835, 1],\n",
       " [0.388, 1],\n",
       " [0.892, 1],\n",
       " [0.473, 1]]\n",
       "----------------------\n",
       "type: 54 * 2 * float32</pre>"
      ],
      "text/plain": [
       "<Array [[0.766, 1], [0.437, 1], ..., [...], [0.473, 1]] type='54 * 2 * float32'>"
      ]
     },
     "execution_count": 8,
     "metadata": {},
     "output_type": "execute_result"
    }
   ],
   "source": [
    "ak.to_regular(reader.associations.tsCLUE3D_recoToSim_CP_score[ak.any(reader.associations.tsCLUE3D_recoToSim_CP_score < 0.9, axis=-1)][0])"
   ]
  },
  {
   "cell_type": "code",
   "execution_count": 9,
   "metadata": {},
   "outputs": [
    {
     "data": {
      "text/html": [
       "<pre>[{simts_id: 1, ts_id: 2242, score: 0.567, sharedE: 111},\n",
       " {simts_id: 1, ts_id: 2336, score: 0.459, sharedE: 97.2},\n",
       " {simts_id: 1, ts_id: 2647, score: 0.998, sharedE: 8.85},\n",
       " {simts_id: 1, ts_id: 2676, score: 0.998, sharedE: 8.14},\n",
       " {simts_id: 1, ts_id: 2337, score: 1, sharedE: 1.09},\n",
       " {simts_id: 1, ts_id: 2508, score: 1, sharedE: 0.876},\n",
       " {simts_id: 1, ts_id: 1865, score: 1, sharedE: 0.562},\n",
       " {simts_id: 1, ts_id: 2246, score: 1, sharedE: 0.561},\n",
       " {simts_id: 1, ts_id: 2463, score: 1, sharedE: 0.485},\n",
       " {simts_id: 1, ts_id: 2787, score: 1, sharedE: 0.465},\n",
       " ...,\n",
       " {simts_id: 1, ts_id: 1125, score: 1, sharedE: 0},\n",
       " {simts_id: 1, ts_id: 1126, score: 1, sharedE: 0},\n",
       " {simts_id: 1, ts_id: 1127, score: 1, sharedE: 0},\n",
       " {simts_id: 1, ts_id: 1128, score: 1, sharedE: 0},\n",
       " {simts_id: 1, ts_id: 1129, score: 1, sharedE: 0},\n",
       " {simts_id: 1, ts_id: 1130, score: 1, sharedE: 0},\n",
       " {simts_id: 1, ts_id: 1131, score: 1, sharedE: 0},\n",
       " {simts_id: 1, ts_id: 1132, score: 1, sharedE: 0},\n",
       " {simts_id: 1, ts_id: 1133, score: 1, sharedE: 0}]\n",
       "---------------------------------------------------------\n",
       "type: 3378 * {\n",
       "    simts_id: int64,\n",
       "    ts_id: uint32,\n",
       "    score: float32,\n",
       "    sharedE: float32\n",
       "}</pre>"
      ],
      "text/plain": [
       "<Array [{simts_id: 1, ts_id: 2242, ...}, ...] type='3378 * {simts_id: int64...'>"
      ]
     },
     "execution_count": 9,
     "metadata": {},
     "output_type": "execute_result"
    }
   ],
   "source": [
    "assocs_zip_simToReco(reader.associations)[0][1]#.simts_id"
   ]
  },
  {
   "cell_type": "code",
   "execution_count": 10,
   "metadata": {},
   "outputs": [
    {
     "data": {
      "text/html": [
       "<pre>[[[], [{simts_id: 1, ts_id: 2242, score: 0.567, sharedE: 111}, ...]],\n",
       " [[], [{simts_id: 1, ts_id: 2223, score: 0.415, sharedE: 148}, ...]],\n",
       " [[], [{simts_id: 1, ts_id: 2711, score: 0.481, sharedE: 100}, ...]],\n",
       " [[], [{simts_id: 1, ts_id: 2302, score: 0.554, sharedE: 228}, ...]],\n",
       " [[], [{simts_id: 1, ts_id: 2539, score: 0.548, sharedE: 146}, ...]],\n",
       " [[], [{simts_id: 1, ts_id: 1911, score: 0.737, sharedE: 2.04}, ...]],\n",
       " [[], [{simts_id: 1, ts_id: 2699, score: 0.00156, ...}, ..., {...}]],\n",
       " [[], [{simts_id: 1, ts_id: 2503, score: 0.537, sharedE: 76.4}, ...]],\n",
       " [[], [{simts_id: 1, ts_id: 2604, score: 0.686, sharedE: 9.49}, ...]],\n",
       " [[], [{simts_id: 1, ts_id: 3052, score: 0.00161, ...}, ..., {...}]],\n",
       " ...,\n",
       " [[], [{simts_id: 1, ts_id: 2649, score: 0.628, sharedE: 16.5}, ...]],\n",
       " [[], [{simts_id: 1, ts_id: 2384, score: 0.592, sharedE: 196}, ...]],\n",
       " [[], [{simts_id: 1, ts_id: 2586, score: 0.498, sharedE: 180}, ...]],\n",
       " [[], [{simts_id: 1, ts_id: 2141, score: 0.533, sharedE: 159}, ...]],\n",
       " [[], [{simts_id: 1, ts_id: 2536, score: 0.448, sharedE: 38.8}, ...]],\n",
       " [[], [{simts_id: 1, ts_id: 2679, score: 0.731, sharedE: 16.6}, ...]],\n",
       " [[], [{simts_id: 1, ts_id: 2825, score: 0.0119, sharedE: 203}, ...]],\n",
       " [[], [{simts_id: 1, ts_id: 2349, score: 0.021, sharedE: 270}, ...]],\n",
       " [[], [{simts_id: 1, ts_id: 2459, score: 0.545, sharedE: 73.7}, ...]]]\n",
       "----------------------------------------------------------------------\n",
       "type: 100 * var * var * {\n",
       "    simts_id: int64,\n",
       "    ts_id: uint32,\n",
       "    score: float32,\n",
       "    sharedE: float32\n",
       "}</pre>"
      ],
      "text/plain": [
       "<Array [[[], [{...}, ..., {...}]], ..., [...]] type='100 * var * var * {sim...'>"
      ]
     },
     "execution_count": 10,
     "metadata": {},
     "output_type": "execute_result"
    }
   ],
   "source": [
    "assocs_zip_simToReco(reader.associations)[(assocs_zip_simToReco(reader.associations).simts_id == 1) & (assocs_zip_simToReco(reader.associations).score < 1)]"
   ]
  },
  {
   "cell_type": "code",
   "execution_count": 11,
   "metadata": {},
   "outputs": [
    {
     "data": {
      "text/html": [
       "<pre>[[[{ts_id: 1728, simts_id: 1, score: 0.871, sharedE: 0.361}], ..., [{...}]],\n",
       " [[{ts_id: 2101, simts_id: 1, score: 4e-05, sharedE: 43.6}], ..., [{...}]],\n",
       " [[{ts_id: 2108, simts_id: 1, score: 0.853, sharedE: 0.274}], ..., [{...}]],\n",
       " [[{ts_id: 1742, simts_id: 1, score: 0.816, sharedE: 0.162}], ..., [{...}]],\n",
       " [[{ts_id: 1858, simts_id: 1, score: 0.821, sharedE: 0.394}], ..., [{...}]],\n",
       " [[{ts_id: 1850, simts_id: 1, score: 0.842, sharedE: 0.185}], ..., [{...}]],\n",
       " [[{ts_id: 1892, simts_id: 1, score: 0.867, sharedE: 0.287}], ..., [{...}]],\n",
       " [[{ts_id: 1908, simts_id: 1, score: 0.0291, sharedE: 2.77}], ..., [{...}]],\n",
       " [[{ts_id: 1870, simts_id: 1, score: 0.0212, sharedE: 1.17}], ..., [{...}]],\n",
       " [[{ts_id: 2175, simts_id: 1, score: 0.75, sharedE: 0.856}], ..., [{...}]],\n",
       " ...,\n",
       " [[{ts_id: 2154, simts_id: 1, score: 0.000745, sharedE: 1.61}], ..., [{...}]],\n",
       " [[{ts_id: 1737, simts_id: 1, score: 0.844, sharedE: 0.434}], ..., [{...}]],\n",
       " [[{ts_id: 1899, simts_id: 1, score: 0.781, sharedE: 0.122}], ..., [{...}]],\n",
       " [[{ts_id: 1607, simts_id: 1, score: 0.0952, sharedE: 2.4}], ..., [{...}]],\n",
       " [[{ts_id: 2535, simts_id: 1, score: 0.721, sharedE: 0.28}], ..., [{...}]],\n",
       " [[{ts_id: 2000, simts_id: 1, score: 0.00243, sharedE: 2.51}], ..., [{...}]],\n",
       " [[{ts_id: 2031, simts_id: 1, score: 0.865, sharedE: 0.0188}], ..., [{...}]],\n",
       " [[{ts_id: 1847, simts_id: 1, score: 0.739, sharedE: 0.192}], ..., [{...}]],\n",
       " [[{ts_id: 2066, simts_id: 1, score: 0.0873, sharedE: 0.751}], ..., [{...}]]]\n",
       "------------------------------------------------------------------------------\n",
       "type: 100 * var * var * {\n",
       "    ts_id: int64,\n",
       "    simts_id: uint32,\n",
       "    score: float32,\n",
       "    sharedE: float32\n",
       "}</pre>"
      ],
      "text/plain": [
       "<Array [[[{ts_id: 1728, ...}], ...], ...] type='100 * var * var * {ts_id: i...'>"
      ]
     },
     "execution_count": 11,
     "metadata": {},
     "output_type": "execute_result"
    }
   ],
   "source": [
    "ar = assocs_zip_recoToSim(reader.associations)[(assocs_zip_recoToSim(reader.associations).simts_id == 1) & (assocs_zip_recoToSim(reader.associations).score < 0.9)]\n",
    "ar[ak.num(ar, axis=-1) > 0]"
   ]
  },
  {
   "cell_type": "code",
   "execution_count": 12,
   "metadata": {},
   "outputs": [
    {
     "data": {
      "text/html": [
       "<pre>[{ts_id: 1728, simts_id: 1, score: 0.871, sharedE: 0.361},\n",
       " {ts_id: 1728, simts_id: 0, score: 1, sharedE: 0}]\n",
       "----------------------------------------------------------\n",
       "type: 2 * {\n",
       "    ts_id: int64,\n",
       "    simts_id: uint32,\n",
       "    score: float32,\n",
       "    sharedE: float32\n",
       "}</pre>"
      ],
      "text/plain": [
       "<Array [{ts_id: 1728, simts_id: 1, ...}, ...] type='2 * {ts_id: int64, simt...'>"
      ]
     },
     "execution_count": 12,
     "metadata": {},
     "output_type": "execute_result"
    }
   ],
   "source": [
    "assocs_zip_recoToSim(reader.associations)[0][1728]"
   ]
  },
  {
   "cell_type": "code",
   "execution_count": 13,
   "metadata": {},
   "outputs": [
    {
     "data": {
      "text/html": [
       "<pre>[[[558, 89], [2242, 2172], [211, 1343], ..., [...], [2136, 2227], [2809, 1803]],\n",
       " [[736, 452], [2223, 2101], [2880, ..., 2496], ..., [2253, 2109], [424, 296]],\n",
       " [[2711, 2776, 3016, 2120, 2119], [757, 201, 649, 819], ..., [1360, 556]],\n",
       " [[2302, 1742], [2214, 2362], [2131, ...], ..., [2602, 2014], [1414, 280]],\n",
       " [[2539, 2108, 2281], [2122, 3103], [766, ...], ..., [1593, 168], [2581, 2472]],\n",
       " [[1900, 2686, 1901, 2848, 3057, 3039], [1104, 1130], ..., [...], [1602, 1267]],\n",
       " [[2699, 1983, 3012], [926, 972, 973, 242, 1496], ..., [...], [3569, 2714]],\n",
       " [[684, 750], [2503, 2448], [2476, 1846], ..., [586, 1300], [2300, 3260]],\n",
       " [[3345, 2447], [2237, 3225], [2135, ...], ..., [1891, 2399], [3663, 2200]],\n",
       " [[817, 1299, 1254, 239, 1089], [904, 1300], ..., [2037, ...], [824, 842]],\n",
       " ...,\n",
       " [[856, 1171], [907, 1074, 1421], [2572, ...], ..., [2354, 2507], [3528, 3239]],\n",
       " [[2384, 1733], [2332, 2651, 2027, 2331], [...], ..., [1457, 24], [2478, 2618]],\n",
       " [[2586, 2669, 2353, 1899, 2587], [732, 733, ..., 1277], ..., [2562, 3071]],\n",
       " [[601, 858, 174, 1214], [2141, 2194, 1607, 1982], ..., [...], [1279, 504]],\n",
       " [[889, 95], [2762, 2568], [2788, ..., 2148], ..., [682, 550], [637, 741]],\n",
       " [[1006, 812, 212], [2442, 2584], [2616, ...], ..., [3171, 2755], [2979, 3260]],\n",
       " [[2825, 2511], [572, 683, 272], [713, ...], ..., [3535, 3219], [3350, 3101]],\n",
       " [[749, 1000, 803, 672], [2349, 2578, 2819, 1847], ..., [...], [1625, 589]],\n",
       " [[767, 695, 1031, 1172], [2459, 2663, 2465], ..., [2975, ...], [3044, 2170]]]\n",
       "--------------------------------------------------------------------------------\n",
       "type: 100 * var * var * uint64</pre>"
      ],
      "text/plain": [
       "<Array [[[558, 89], ..., [2809, ...]], ...] type='100 * var * var * uint64'>"
      ]
     },
     "execution_count": 13,
     "metadata": {},
     "output_type": "execute_result"
    }
   ],
   "source": [
    "reader.superclusters"
   ]
  },
  {
   "cell_type": "code",
   "execution_count": 14,
   "metadata": {},
   "outputs": [
    {
     "data": {
      "text/html": [
       "<pre>[[{ts_id: 1657, time: -99, timeError: -1, regressed_energy: 6.46, ...}, ...],\n",
       " [{ts_id: 1479, time: -99, timeError: -1, regressed_energy: 6.46, ...}, ...],\n",
       " [{ts_id: 1921, time: -99, timeError: -1, regressed_energy: 6.64, ...}, ...],\n",
       " [{ts_id: 1717, time: -99, timeError: -1, regressed_energy: 6.63, ...}, ...],\n",
       " [{ts_id: 1830, time: -99, timeError: -1, regressed_energy: 6.63, ...}, ...],\n",
       " [{ts_id: 1808, time: -99, timeError: -1, regressed_energy: 6.61, ...}, ...],\n",
       " [{ts_id: 1855, time: -99, timeError: -1, regressed_energy: 6.5, ...}, ...],\n",
       " [{ts_id: 1696, time: -99, timeError: -1, regressed_energy: 6.47, ...}, ...],\n",
       " [{ts_id: 1806, time: -99, timeError: -1, regressed_energy: 6.24, ...}, ...],\n",
       " [{ts_id: 2145, time: -99, timeError: -1, regressed_energy: 6.61, ...}, ...],\n",
       " ...,\n",
       " [{ts_id: 2074, time: -99, timeError: -1, regressed_energy: 6.76, ...}, ...],\n",
       " [{ts_id: 1613, time: -99, timeError: -1, regressed_energy: 6.38, ...}, ...],\n",
       " [{ts_id: 1829, time: -99, timeError: -1, regressed_energy: 6.34, ...}, ...],\n",
       " [{ts_id: 1527, time: -99, timeError: -1, regressed_energy: 6.37, ...}, ...],\n",
       " [{ts_id: 1980, time: -99, timeError: -1, regressed_energy: 6.57, ...}, ...],\n",
       " [{ts_id: 1778, time: -99, timeError: -1, regressed_energy: 6.63, ...}, ...],\n",
       " [{ts_id: 1830, time: -99, timeError: -1, regressed_energy: 6.46, ...}, ...],\n",
       " [{ts_id: 1666, time: -99, timeError: -1, regressed_energy: 6.55, ...}, ...],\n",
       " [{ts_id: 1830, time: -99, timeError: -1, regressed_energy: 6.54, ...}, ...]]\n",
       "-----------------------------------------------------------------------------\n",
       "type: 100 * var * tracksters[\n",
       "    ts_id: int64,\n",
       "    time: float32,\n",
       "    timeError: float32,\n",
       "    regressed_energy: float32,\n",
       "    raw_energy: float32,\n",
       "    raw_em_energy: float32,\n",
       "    raw_pt: float32,\n",
       "    raw_em_pt: float32,\n",
       "    barycenter_x: float32,\n",
       "    barycenter_y: float32,\n",
       "    barycenter_z: float32,\n",
       "    barycenter_eta: float32,\n",
       "    barycenter_phi: float32,\n",
       "    EV1: float32,\n",
       "    EV2: float32,\n",
       "    EV3: float32,\n",
       "    eVector0_x: float32,\n",
       "    eVector0_y: float32,\n",
       "    eVector0_z: float32,\n",
       "    sigmaPCA1: float32,\n",
       "    sigmaPCA2: float32,\n",
       "    sigmaPCA3: float32,\n",
       "    id_probabilities: var * float32,\n",
       "    vertices_indexes: var * uint32,\n",
       "    vertices_x: var * float32,\n",
       "    vertices_y: var * float32,\n",
       "    vertices_z: var * float32,\n",
       "    vertices_time: var * float32,\n",
       "    vertices_timeErr: var * float32,\n",
       "    vertices_energy: var * float32,\n",
       "    vertices_correctedEnergy: var * float32,\n",
       "    vertices_correctedEnergyUncertainty: var * float32,\n",
       "    vertices_multiplicity: var * float32\n",
       "]</pre>"
      ],
      "text/plain": [
       "<Array [[{ts_id: 1657, ...}, {...}], ...] type='100 * var * tracksters[ts_i...'>"
      ]
     },
     "execution_count": 14,
     "metadata": {},
     "output_type": "execute_result"
    }
   ],
   "source": [
    "tracksters_getSeeds(reader.tracksters_zipped)"
   ]
  }
 ],
 "metadata": {
  "kernelspec": {
   "display_name": "modules-python-3.11",
   "language": "python",
   "name": "python3"
  },
  "language_info": {
   "codemirror_mode": {
    "name": "ipython",
    "version": 3
   },
   "file_extension": ".py",
   "mimetype": "text/x-python",
   "name": "python",
   "nbconvert_exporter": "python",
   "pygments_lexer": "ipython3",
   "version": "3.11.6"
  }
 },
 "nbformat": 4,
 "nbformat_minor": 2
}
