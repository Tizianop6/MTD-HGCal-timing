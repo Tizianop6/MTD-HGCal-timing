{
 "cells": [
  {
   "cell_type": "code",
   "execution_count": null,
   "metadata": {},
   "outputs": [],
   "source": [
    "%load_ext autoreload\n",
    "%autoreload 2\n",
    "import sys\n",
    "sys.path.append(\"../..\")\n",
    "\n",
    "import uproot\n",
    "import numpy as np\n",
    "import awkward as ak\n",
    "import pandas as pd\n",
    "import matplotlib.pyplot as plt\n",
    "import mplhep as hep\n",
    "plt.style.use(hep.style.CMS)\n",
    "import hist\n",
    "\n",
    "from analyzer.driver.fileTools import *\n",
    "from analyzer.driver.computations import *"
   ]
  },
  {
   "cell_type": "code",
   "execution_count": null,
   "metadata": {},
   "outputs": [],
   "source": [
    "dumperInput = DumperInputManager([\"/data_cms_upgrade/cuisset/supercls/alessandro_electrons/reco-v1/\", \"/data_cms_upgrade/cuisset/supercls/alessandro_electrons/supercls-v9/\"], \n",
    "                                limitFileCount=5, restrictToAvailableDumperTypes=[DumperType.TICL, DumperType.TICLsupercls]\n",
    "                                )"
   ]
  },
  {
   "cell_type": "code",
   "execution_count": null,
   "metadata": {},
   "outputs": [],
   "source": [
    "res = runComputations([CPToSuperclusterProperties, CPtoTrackster_properties], dumperInput, max_workers=10)\n",
    "CPtoSC_df = res[0]\n",
    "CPtoTs_df = res[1]"
   ]
  }
 ],
 "metadata": {
  "language_info": {
   "name": "python"
  }
 },
 "nbformat": 4,
 "nbformat_minor": 2
}
