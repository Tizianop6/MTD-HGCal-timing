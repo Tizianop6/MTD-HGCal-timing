{
 "cells": [
  {
   "cell_type": "code",
   "execution_count": 1,
   "metadata": {},
   "outputs": [
    {
     "name": "stdout",
     "output_type": "stream",
     "text": [
      "Welcome to JupyROOT 6.26/11\n"
     ]
    }
   ],
   "source": [
    "%load_ext autoreload\n",
    "%autoreload 1\n",
    "import ROOT\n",
    "import JupyROOT.helpers.utils\n",
    "JupyROOT.helpers.utils.GetGeometryDrawer = lambda:None\n",
    "import cppyy\n",
    "from DataFormats.FWLite import Handle\n",
    "import hist\n",
    "import matplotlib.pyplot as plt\n",
    "import mplhep as hep\n",
    "plt.style.use(hep.style.CMS)\n",
    "import sys\n",
    "sys.path.append(\"..\")\n",
    "#import edmReader.pythonizations\n",
    "%aimport edmReader.edmReader\n",
    "from edmReader.edmReader import EdmReader, MultiEdmReader"
   ]
  },
  {
   "cell_type": "code",
   "execution_count": 2,
   "metadata": {},
   "outputs": [
    {
     "name": "stderr",
     "output_type": "stream",
     "text": [
      "cling::DynamicLibraryManager::loadLibrary(): libcuda.so.1: cannot open shared object file: No such file or directory\n",
      "Error in <TInterpreter::TCling::AutoLoad>: failure loading library libSimTrackerTrackTriggerAssociation.so for map<edm::Ref<edmNew::DetSetVector<TTCluster<edm::Ref<edm::DetSetVector<Phase2TrackerDigi>,Phase2TrackerDigi,edm::refhelper::FindForDetSetVector<Phase2TrackerDigi> > > >,TTCluster<edm::Ref<edm::DetSetVector<Phase2TrackerDigi>,Phase2TrackerDigi,edm::refhelper::FindForDetSetVector<Phase2TrackerDigi> > >,edmNew::DetSetVector<TTCluster<edm::Ref<edm::DetSetVector<Phase2TrackerDigi>,Phase2TrackerDigi,edm::refhelper::FindForDetSetVector<Phase2TrackerDigi> > > >::FindForDetSetVector>,vector<edm::Ptr<TrackingParticle> > >\n",
      "cling::DynamicLibraryManager::loadLibrary(): libcuda.so.1: cannot open shared object file: No such file or directory\n",
      "Error in <TInterpreter::TCling::AutoLoad>: failure loading library libSimTrackerTrackTriggerAssociation.so for map<edm::Ptr<TrackingParticle>,vector<edm::Ref<edmNew::DetSetVector<TTCluster<edm::Ref<edm::DetSetVector<Phase2TrackerDigi>,Phase2TrackerDigi,edm::refhelper::FindForDetSetVector<Phase2TrackerDigi> > > >,TTCluster<edm::Ref<edm::DetSetVector<Phase2TrackerDigi>,Phase2TrackerDigi,edm::refhelper::FindForDetSetVector<Phase2TrackerDigi> > >,edmNew::DetSetVector<TTCluster<edm::Ref<edm::DetSetVector<Phase2TrackerDigi>,Phase2TrackerDigi,edm::refhelper::FindForDetSetVector<Phase2TrackerDigi> > > >::FindForDetSetVector> > >\n",
      "cling::DynamicLibraryManager::loadLibrary(): libcuda.so.1: cannot open shared object file: No such file or directory\n",
      "Error in <TInterpreter::TCling::AutoLoad>: failure loading library libSimTrackerTrackTriggerAssociation.so for map<edm::Ref<edmNew::DetSetVector<TTStub<edm::Ref<edm::DetSetVector<Phase2TrackerDigi>,Phase2TrackerDigi,edm::refhelper::FindForDetSetVector<Phase2TrackerDigi> > > >,TTStub<edm::Ref<edm::DetSetVector<Phase2TrackerDigi>,Phase2TrackerDigi,edm::refhelper::FindForDetSetVector<Phase2TrackerDigi> > >,edmNew::DetSetVector<TTStub<edm::Ref<edm::DetSetVector<Phase2TrackerDigi>,Phase2TrackerDigi,edm::refhelper::FindForDetSetVector<Phase2TrackerDigi> > > >::FindForDetSetVector>,edm::Ptr<TrackingParticle> >\n",
      "cling::DynamicLibraryManager::loadLibrary(): libcuda.so.1: cannot open shared object file: No such file or directory\n",
      "Error in <TInterpreter::TCling::AutoLoad>: failure loading library libSimTrackerTrackTriggerAssociation.so for map<edm::Ptr<TrackingParticle>,vector<edm::Ref<edmNew::DetSetVector<TTStub<edm::Ref<edm::DetSetVector<Phase2TrackerDigi>,Phase2TrackerDigi,edm::refhelper::FindForDetSetVector<Phase2TrackerDigi> > > >,TTStub<edm::Ref<edm::DetSetVector<Phase2TrackerDigi>,Phase2TrackerDigi,edm::refhelper::FindForDetSetVector<Phase2TrackerDigi> > >,edmNew::DetSetVector<TTStub<edm::Ref<edm::DetSetVector<Phase2TrackerDigi>,Phase2TrackerDigi,edm::refhelper::FindForDetSetVector<Phase2TrackerDigi> > > >::FindForDetSetVector> > >\n",
      "cling::DynamicLibraryManager::loadLibrary(): libcuda.so.1: cannot open shared object file: No such file or directory\n",
      "Error in <TInterpreter::TCling::AutoLoad>: failure loading library libSimTrackerTrackTriggerAssociation.so for edm::Wrapper<TTClusterAssociationMap<edm::Ref<edm::DetSetVector<Phase2TrackerDigi>,Phase2TrackerDigi,edm::refhelper::FindForDetSetVector<Phase2TrackerDigi> > > >\n",
      "cling::DynamicLibraryManager::loadLibrary(): libcuda.so.1: cannot open shared object file: No such file or directory\n",
      "Error in <TInterpreter::TCling::AutoLoad>: failure loading library libSimTrackerTrackTriggerAssociation.so for edm::Wrapper<TTClusterAssociationMap<edm::Ref<edm::DetSetVector<Phase2TrackerDigi>,Phase2TrackerDigi,edm::refhelper::FindForDetSetVector<Phase2TrackerDigi> > > >\n",
      "cling::DynamicLibraryManager::loadLibrary(): libcuda.so.1: cannot open shared object file: No such file or directory\n",
      "Error in <TInterpreter::TCling::AutoLoad>: failure loading library libSimTrackerTrackTriggerAssociation.so for edm::Wrapper<TTClusterAssociationMap<edm::Ref<edm::DetSetVector<Phase2TrackerDigi>,Phase2TrackerDigi,edm::refhelper::FindForDetSetVector<Phase2TrackerDigi> > > >\n",
      "cling::DynamicLibraryManager::loadLibrary(): libcuda.so.1: cannot open shared object file: No such file or directory\n",
      "Error in <TInterpreter::TCling::AutoLoad>: failure loading library libSimTrackerTrackTriggerAssociation.so for TTClusterAssociationMap<edm::Ref<edm::DetSetVector<Phase2TrackerDigi>,Phase2TrackerDigi,edm::refhelper::FindForDetSetVector<Phase2TrackerDigi> > >\n",
      "cling::DynamicLibraryManager::loadLibrary(): libcuda.so.1: cannot open shared object file: No such file or directory\n",
      "Error in <TInterpreter::TCling::AutoLoad>: failure loading library libSimTrackerTrackTriggerAssociation.so for TTClusterAssociationMap<edm::Ref<edm::DetSetVector<Phase2TrackerDigi>,Phase2TrackerDigi,edm::refhelper::FindForDetSetVector<Phase2TrackerDigi> > >\n",
      "Warning in <TClass::Init>: no dictionary for class edm::Wrapper<TTClusterAssociationMap<edm::Ref<edm::DetSetVector<Phase2TrackerDigi>,Phase2TrackerDigi,edm::refhelper::FindForDetSetVector<Phase2TrackerDigi> > > > is available\n",
      "cling::DynamicLibraryManager::loadLibrary(): libcuda.so.1: cannot open shared object file: No such file or directory\n",
      "Error in <TInterpreter::TCling::AutoLoad>: failure loading library libSimTrackerTrackTriggerAssociation.so for edm::Wrapper<TTStubAssociationMap<edm::Ref<edm::DetSetVector<Phase2TrackerDigi>,Phase2TrackerDigi,edm::refhelper::FindForDetSetVector<Phase2TrackerDigi> > > >\n",
      "cling::DynamicLibraryManager::loadLibrary(): libcuda.so.1: cannot open shared object file: No such file or directory\n",
      "Error in <TInterpreter::TCling::AutoLoad>: failure loading library libSimTrackerTrackTriggerAssociation.so for edm::Wrapper<TTStubAssociationMap<edm::Ref<edm::DetSetVector<Phase2TrackerDigi>,Phase2TrackerDigi,edm::refhelper::FindForDetSetVector<Phase2TrackerDigi> > > >\n",
      "cling::DynamicLibraryManager::loadLibrary(): libcuda.so.1: cannot open shared object file: No such file or directory\n",
      "Error in <TInterpreter::TCling::AutoLoad>: failure loading library libSimTrackerTrackTriggerAssociation.so for edm::Wrapper<TTStubAssociationMap<edm::Ref<edm::DetSetVector<Phase2TrackerDigi>,Phase2TrackerDigi,edm::refhelper::FindForDetSetVector<Phase2TrackerDigi> > > >\n",
      "cling::DynamicLibraryManager::loadLibrary(): libcuda.so.1: cannot open shared object file: No such file or directory\n",
      "Error in <TInterpreter::TCling::AutoLoad>: failure loading library libSimTrackerTrackTriggerAssociation.so for TTStubAssociationMap<edm::Ref<edm::DetSetVector<Phase2TrackerDigi>,Phase2TrackerDigi,edm::refhelper::FindForDetSetVector<Phase2TrackerDigi> > >\n",
      "cling::DynamicLibraryManager::loadLibrary(): libcuda.so.1: cannot open shared object file: No such file or directory\n",
      "Error in <TInterpreter::TCling::AutoLoad>: failure loading library libSimTrackerTrackTriggerAssociation.so for TTStubAssociationMap<edm::Ref<edm::DetSetVector<Phase2TrackerDigi>,Phase2TrackerDigi,edm::refhelper::FindForDetSetVector<Phase2TrackerDigi> > >\n",
      "Warning in <TClass::Init>: no dictionary for class edm::Wrapper<TTStubAssociationMap<edm::Ref<edm::DetSetVector<Phase2TrackerDigi>,Phase2TrackerDigi,edm::refhelper::FindForDetSetVector<Phase2TrackerDigi> > > > is available\n",
      "cling::DynamicLibraryManager::loadLibrary(): libcuda.so.1: cannot open shared object file: No such file or directory\n",
      "Error in <TInterpreter::TCling::AutoLoad>: failure loading library libSimTrackerTrackTriggerAssociation.so for edm::RefProd<TTClusterAssociationMap<edm::Ref<edm::DetSetVector<Phase2TrackerDigi>,Phase2TrackerDigi,edm::refhelper::FindForDetSetVector<Phase2TrackerDigi> > > >\n",
      "cling::DynamicLibraryManager::loadLibrary(): libcuda.so.1: cannot open shared object file: No such file or directory\n",
      "Error in <TInterpreter::TCling::AutoLoad>: failure loading library libSimTrackerTrackTriggerAssociation.so for edm::RefProd<TTClusterAssociationMap<edm::Ref<edm::DetSetVector<Phase2TrackerDigi>,Phase2TrackerDigi,edm::refhelper::FindForDetSetVector<Phase2TrackerDigi> > > >\n",
      "cling::DynamicLibraryManager::loadLibrary(): libcuda.so.1: cannot open shared object file: No such file or directory\n",
      "Error in <TInterpreter::TCling::AutoLoad>: failure loading library libSimTrackerTrackTriggerAssociation.so for edm::RefProd<TTClusterAssociationMap<edm::Ref<edm::DetSetVector<Phase2TrackerDigi>,Phase2TrackerDigi,edm::refhelper::FindForDetSetVector<Phase2TrackerDigi> > > >\n",
      "cling::DynamicLibraryManager::loadLibrary(): libcuda.so.1: cannot open shared object file: No such file or directory\n",
      "Error in <TInterpreter::TCling::AutoLoad>: failure loading library libSimTrackerTrackTriggerAssociation.so for edm::Wrapper<TTTrackAssociationMap<edm::Ref<edm::DetSetVector<Phase2TrackerDigi>,Phase2TrackerDigi,edm::refhelper::FindForDetSetVector<Phase2TrackerDigi> > > >\n",
      "cling::DynamicLibraryManager::loadLibrary(): libcuda.so.1: cannot open shared object file: No such file or directory\n",
      "Error in <TInterpreter::TCling::AutoLoad>: failure loading library libSimTrackerTrackTriggerAssociation.so for edm::Wrapper<TTTrackAssociationMap<edm::Ref<edm::DetSetVector<Phase2TrackerDigi>,Phase2TrackerDigi,edm::refhelper::FindForDetSetVector<Phase2TrackerDigi> > > >\n",
      "cling::DynamicLibraryManager::loadLibrary(): libcuda.so.1: cannot open shared object file: No such file or directory\n",
      "Error in <TInterpreter::TCling::AutoLoad>: failure loading library libSimTrackerTrackTriggerAssociation.so for edm::Wrapper<TTTrackAssociationMap<edm::Ref<edm::DetSetVector<Phase2TrackerDigi>,Phase2TrackerDigi,edm::refhelper::FindForDetSetVector<Phase2TrackerDigi> > > >\n",
      "cling::DynamicLibraryManager::loadLibrary(): libcuda.so.1: cannot open shared object file: No such file or directory\n",
      "Error in <TInterpreter::TCling::AutoLoad>: failure loading library libSimTrackerTrackTriggerAssociation.so for TTTrackAssociationMap<edm::Ref<edm::DetSetVector<Phase2TrackerDigi>,Phase2TrackerDigi,edm::refhelper::FindForDetSetVector<Phase2TrackerDigi> > >\n",
      "cling::DynamicLibraryManager::loadLibrary(): libcuda.so.1: cannot open shared object file: No such file or directory\n",
      "Error in <TInterpreter::TCling::AutoLoad>: failure loading library libSimTrackerTrackTriggerAssociation.so for TTTrackAssociationMap<edm::Ref<edm::DetSetVector<Phase2TrackerDigi>,Phase2TrackerDigi,edm::refhelper::FindForDetSetVector<Phase2TrackerDigi> > >\n",
      "Warning in <TClass::Init>: no dictionary for class edm::Wrapper<TTTrackAssociationMap<edm::Ref<edm::DetSetVector<Phase2TrackerDigi>,Phase2TrackerDigi,edm::refhelper::FindForDetSetVector<Phase2TrackerDigi> > > > is available\n",
      "cling::DynamicLibraryManager::loadLibrary(): libcuda.so.1: cannot open shared object file: No such file or directory\n",
      "Error in <TInterpreter::TCling::AutoLoad>: failure loading library libSimTrackerTrackTriggerAssociation.so for edm::RefProd<TTStubAssociationMap<edm::Ref<edm::DetSetVector<Phase2TrackerDigi>,Phase2TrackerDigi,edm::refhelper::FindForDetSetVector<Phase2TrackerDigi> > > >\n",
      "cling::DynamicLibraryManager::loadLibrary(): libcuda.so.1: cannot open shared object file: No such file or directory\n",
      "Error in <TInterpreter::TCling::AutoLoad>: failure loading library libSimTrackerTrackTriggerAssociation.so for edm::RefProd<TTStubAssociationMap<edm::Ref<edm::DetSetVector<Phase2TrackerDigi>,Phase2TrackerDigi,edm::refhelper::FindForDetSetVector<Phase2TrackerDigi> > > >\n",
      "cling::DynamicLibraryManager::loadLibrary(): libcuda.so.1: cannot open shared object file: No such file or directory\n",
      "Error in <TInterpreter::TCling::AutoLoad>: failure loading library libSimTrackerTrackTriggerAssociation.so for edm::RefProd<TTStubAssociationMap<edm::Ref<edm::DetSetVector<Phase2TrackerDigi>,Phase2TrackerDigi,edm::refhelper::FindForDetSetVector<Phase2TrackerDigi> > > >\n",
      "cling::DynamicLibraryManager::loadLibrary(): libcuda.so.1: cannot open shared object file: No such file or directory\n",
      "Error in <TInterpreter::TCling::AutoLoad>: failure loading library libSimTrackerTrackTriggerAssociation.so for TTClusterAssociationMap<edm::Ref<edm::DetSetVector<Phase2TrackerDigi>,Phase2TrackerDigi,edm::refhelper::FindForDetSetVector<Phase2TrackerDigi> > >\n",
      "cling::DynamicLibraryManager::loadLibrary(): libcuda.so.1: cannot open shared object file: No such file or directory\n",
      "Error in <TInterpreter::TCling::AutoLoad>: failure loading library libSimTrackerTrackTriggerAssociation.so for TTClusterAssociationMap<edm::Ref<edm::DetSetVector<Phase2TrackerDigi>,Phase2TrackerDigi,edm::refhelper::FindForDetSetVector<Phase2TrackerDigi> > >\n",
      "cling::DynamicLibraryManager::loadLibrary(): libcuda.so.1: cannot open shared object file: No such file or directory\n",
      "Error in <TInterpreter::TCling::AutoLoad>: failure loading library libSimTrackerTrackTriggerAssociation.so for TTClusterAssociationMap<edm::Ref<edm::DetSetVector<Phase2TrackerDigi>,Phase2TrackerDigi,edm::refhelper::FindForDetSetVector<Phase2TrackerDigi> > >\n",
      "Warning in <TClass::Init>: no dictionary for class TTClusterAssociationMap<edm::Ref<edm::DetSetVector<Phase2TrackerDigi>,Phase2TrackerDigi,edm::refhelper::FindForDetSetVector<Phase2TrackerDigi> > > is available\n",
      "cling::DynamicLibraryManager::loadLibrary(): libcuda.so.1: cannot open shared object file: No such file or directory\n",
      "Error in <TInterpreter::TCling::AutoLoad>: failure loading library libSimTrackerTrackTriggerAssociation.so for TTStubAssociationMap<edm::Ref<edm::DetSetVector<Phase2TrackerDigi>,Phase2TrackerDigi,edm::refhelper::FindForDetSetVector<Phase2TrackerDigi> > >\n",
      "cling::DynamicLibraryManager::loadLibrary(): libcuda.so.1: cannot open shared object file: No such file or directory\n",
      "Error in <TInterpreter::TCling::AutoLoad>: failure loading library libSimTrackerTrackTriggerAssociation.so for TTStubAssociationMap<edm::Ref<edm::DetSetVector<Phase2TrackerDigi>,Phase2TrackerDigi,edm::refhelper::FindForDetSetVector<Phase2TrackerDigi> > >\n",
      "cling::DynamicLibraryManager::loadLibrary(): libcuda.so.1: cannot open shared object file: No such file or directory\n",
      "Error in <TInterpreter::TCling::AutoLoad>: failure loading library libSimTrackerTrackTriggerAssociation.so for TTStubAssociationMap<edm::Ref<edm::DetSetVector<Phase2TrackerDigi>,Phase2TrackerDigi,edm::refhelper::FindForDetSetVector<Phase2TrackerDigi> > >\n",
      "Warning in <TClass::Init>: no dictionary for class TTStubAssociationMap<edm::Ref<edm::DetSetVector<Phase2TrackerDigi>,Phase2TrackerDigi,edm::refhelper::FindForDetSetVector<Phase2TrackerDigi> > > is available\n",
      "cling::DynamicLibraryManager::loadLibrary(): libcuda.so.1: cannot open shared object file: No such file or directory\n",
      "Error in <TInterpreter::TCling::AutoLoad>: failure loading library libSimTrackerTrackTriggerAssociation.so for TTTrackAssociationMap<edm::Ref<edm::DetSetVector<Phase2TrackerDigi>,Phase2TrackerDigi,edm::refhelper::FindForDetSetVector<Phase2TrackerDigi> > >\n",
      "cling::DynamicLibraryManager::loadLibrary(): libcuda.so.1: cannot open shared object file: No such file or directory\n",
      "Error in <TInterpreter::TCling::AutoLoad>: failure loading library libSimTrackerTrackTriggerAssociation.so for TTTrackAssociationMap<edm::Ref<edm::DetSetVector<Phase2TrackerDigi>,Phase2TrackerDigi,edm::refhelper::FindForDetSetVector<Phase2TrackerDigi> > >\n",
      "cling::DynamicLibraryManager::loadLibrary(): libcuda.so.1: cannot open shared object file: No such file or directory\n",
      "Error in <TInterpreter::TCling::AutoLoad>: failure loading library libSimTrackerTrackTriggerAssociation.so for TTTrackAssociationMap<edm::Ref<edm::DetSetVector<Phase2TrackerDigi>,Phase2TrackerDigi,edm::refhelper::FindForDetSetVector<Phase2TrackerDigi> > >\n",
      "Warning in <TClass::Init>: no dictionary for class TTTrackAssociationMap<edm::Ref<edm::DetSetVector<Phase2TrackerDigi>,Phase2TrackerDigi,edm::refhelper::FindForDetSetVector<Phase2TrackerDigi> > > is available\n",
      "cling::DynamicLibraryManager::loadLibrary(): libnvidia-ml.so.1: cannot open shared object file: No such file or directory\n",
      "Error in <TInterpreter::TCling::AutoLoad>: failure loading library libSimGeneralTrackingAnalysis.so for pair<edm::Ptr<TTTrack<edm::Ref<edm::DetSetVector<Phase2TrackerDigi>,Phase2TrackerDigi,edm::refhelper::FindForDetSetVector<Phase2TrackerDigi> > > >,edm::Ptr<TrackingParticle> >\n",
      "cling::DynamicLibraryManager::loadLibrary(): libcuda.so.1: cannot open shared object file: No such file or directory\n",
      "Error in <TInterpreter::TCling::AutoLoad>: failure loading library libSimTrackerTrackTriggerAssociation.so for map<edm::Ptr<TTTrack<edm::Ref<edm::DetSetVector<Phase2TrackerDigi>,Phase2TrackerDigi,edm::refhelper::FindForDetSetVector<Phase2TrackerDigi> > > >,edm::Ptr<TrackingParticle> >\n",
      "cling::DynamicLibraryManager::loadLibrary(): libnvidia-ml.so.1: cannot open shared object file: No such file or directory\n",
      "Error in <TInterpreter::TCling::AutoLoad>: failure loading library libSimGeneralTrackingAnalysis.so for pair<edm::Ptr<TTTrack<edm::Ref<edm::DetSetVector<Phase2TrackerDigi>,Phase2TrackerDigi,edm::refhelper::FindForDetSetVector<Phase2TrackerDigi> > > >,edm::Ptr<TrackingParticle> >\n",
      "cling::DynamicLibraryManager::loadLibrary(): libnvidia-ml.so.1: cannot open shared object file: No such file or directory\n",
      "Error in <TInterpreter::TCling::AutoLoad>: failure loading library libSimGeneralTrackingAnalysis.so for pair<edm::Ptr<TTTrack<edm::Ref<edm::DetSetVector<Phase2TrackerDigi>,Phase2TrackerDigi,edm::refhelper::FindForDetSetVector<Phase2TrackerDigi> > > >,edm::Ptr<TrackingParticle> >\n",
      "cling::DynamicLibraryManager::loadLibrary(): libnvidia-ml.so.1: cannot open shared object file: No such file or directory\n",
      "Error in <TInterpreter::TCling::AutoLoad>: failure loading library libSimGeneralTrackingAnalysis.so for pair<edm::Ptr<TrackingParticle>,vector<edm::Ptr<TTTrack<edm::Ref<edm::DetSetVector<Phase2TrackerDigi>,Phase2TrackerDigi,edm::refhelper::FindForDetSetVector<Phase2TrackerDigi> > > > > >\n",
      "cling::DynamicLibraryManager::loadLibrary(): libcuda.so.1: cannot open shared object file: No such file or directory\n",
      "Error in <TInterpreter::TCling::AutoLoad>: failure loading library libSimTrackerTrackTriggerAssociation.so for map<edm::Ptr<TrackingParticle>,vector<edm::Ptr<TTTrack<edm::Ref<edm::DetSetVector<Phase2TrackerDigi>,Phase2TrackerDigi,edm::refhelper::FindForDetSetVector<Phase2TrackerDigi> > > > > >\n",
      "cling::DynamicLibraryManager::loadLibrary(): libnvidia-ml.so.1: cannot open shared object file: No such file or directory\n",
      "Error in <TInterpreter::TCling::AutoLoad>: failure loading library libSimGeneralTrackingAnalysis.so for pair<edm::Ptr<TrackingParticle>,vector<edm::Ptr<TTTrack<edm::Ref<edm::DetSetVector<Phase2TrackerDigi>,Phase2TrackerDigi,edm::refhelper::FindForDetSetVector<Phase2TrackerDigi> > > > > >\n",
      "cling::DynamicLibraryManager::loadLibrary(): libnvidia-ml.so.1: cannot open shared object file: No such file or directory\n",
      "Error in <TInterpreter::TCling::AutoLoad>: failure loading library libSimGeneralTrackingAnalysis.so for pair<edm::Ptr<TrackingParticle>,vector<edm::Ptr<TTTrack<edm::Ref<edm::DetSetVector<Phase2TrackerDigi>,Phase2TrackerDigi,edm::refhelper::FindForDetSetVector<Phase2TrackerDigi> > > > > >\n",
      "cling::DynamicLibraryManager::loadLibrary(): libnvidia-ml.so.1: cannot open shared object file: No such file or directory\n",
      "Error in <TInterpreter::TCling::AutoLoad>: failure loading library libTrackingToolsGsfTracking.so for edm::Wrapper<edm::AssociationMap<edm::OneToOne<vector<Trajectory>,vector<reco::GsfTrack>,unsigned short> > >\n",
      "cling::DynamicLibraryManager::loadLibrary(): libnvidia-ml.so.1: cannot open shared object file: No such file or directory\n",
      "Error in <TInterpreter::TCling::AutoLoad>: failure loading library libTrackingToolsGsfTracking.so for edm::Wrapper<edm::AssociationMap<edm::OneToOne<vector<Trajectory>,vector<reco::GsfTrack>,unsigned short> > >\n",
      "cling::DynamicLibraryManager::loadLibrary(): libnvidia-ml.so.1: cannot open shared object file: No such file or directory\n",
      "Error in <TInterpreter::TCling::AutoLoad>: failure loading library libTrackingToolsGsfTracking.so for edm::Wrapper<edm::AssociationMap<edm::OneToOne<vector<Trajectory>,vector<reco::GsfTrack>,unsigned short> > >\n",
      "cling::DynamicLibraryManager::loadLibrary(): libnvidia-ml.so.1: cannot open shared object file: No such file or directory\n",
      "Error in <TInterpreter::TCling::AutoLoad>: failure loading library libTrackingToolsGsfTracking.so for edm::AssociationMap<edm::OneToOne<vector<Trajectory>,vector<reco::GsfTrack>,unsigned short> >\n",
      "cling::DynamicLibraryManager::loadLibrary(): libnvidia-ml.so.1: cannot open shared object file: No such file or directory\n",
      "Error in <TInterpreter::TCling::AutoLoad>: failure loading library libTrackingToolsGsfTracking.so for edm::AssociationMap<edm::OneToOne<vector<Trajectory>,vector<reco::GsfTrack>,unsigned short> >\n",
      "cling::DynamicLibraryManager::loadLibrary(): libnvidia-ml.so.1: cannot open shared object file: No such file or directory\n",
      "Error in <TInterpreter::TCling::AutoLoad>: failure loading library libTrackingToolsGsfTracking.so for edm::helpers::KeyVal<edm::Ref<vector<Trajectory>,Trajectory,edm::refhelper::FindUsingAdvance<vector<Trajectory>,Trajectory> >,edm::Ref<vector<reco::GsfTrack>,reco::GsfTrack,edm::refhelper::FindUsingAdvance<vector<reco::GsfTrack>,reco::GsfTrack> > >\n",
      "cling::DynamicLibraryManager::loadLibrary(): libnvidia-ml.so.1: cannot open shared object file: No such file or directory\n",
      "Error in <TInterpreter::TCling::AutoLoad>: failure loading library libTrackingToolsGsfTracking.so for edm::helpers::KeyVal<edm::Ref<vector<Trajectory>,Trajectory,edm::refhelper::FindUsingAdvance<vector<Trajectory>,Trajectory> >,edm::Ref<vector<reco::GsfTrack>,reco::GsfTrack,edm::refhelper::FindUsingAdvance<vector<reco::GsfTrack>,reco::GsfTrack> > >\n",
      "cling::DynamicLibraryManager::loadLibrary(): libnvidia-ml.so.1: cannot open shared object file: No such file or directory\n",
      "Error in <TInterpreter::TCling::AutoLoad>: failure loading library libTrackingToolsGsfTracking.so for edm::helpers::KeyVal<edm::RefProd<vector<Trajectory> >,edm::RefProd<vector<reco::GsfTrack> > >\n",
      "cling::DynamicLibraryManager::loadLibrary(): libnvidia-ml.so.1: cannot open shared object file: No such file or directory\n",
      "Error in <TInterpreter::TCling::AutoLoad>: failure loading library libTrackingToolsGsfTracking.so for edm::helpers::KeyVal<edm::RefProd<vector<Trajectory> >,edm::RefProd<vector<reco::GsfTrack> > >\n",
      "cling::DynamicLibraryManager::loadLibrary(): libnvidia-ml.so.1: cannot open shared object file: No such file or directory\n",
      "Error in <TInterpreter::TCling::AutoLoad>: failure loading library libTrackingToolsGsfTracking.so for edm::AssociationMap<edm::OneToOne<vector<Trajectory>,vector<reco::GsfTrack>,unsigned short> >\n",
      "cling::DynamicLibraryManager::loadLibrary(): libnvidia-ml.so.1: cannot open shared object file: No such file or directory\n",
      "Error in <TInterpreter::TCling::AutoLoad>: failure loading library libTrackingToolsGsfTracking.so for edm::helpers::KeyVal<edm::RefProd<vector<Trajectory> >,edm::RefProd<vector<reco::GsfTrack> > >\n",
      "cling::DynamicLibraryManager::loadLibrary(): libnvidia-ml.so.1: cannot open shared object file: No such file or directory\n",
      "Error in <TInterpreter::TCling::AutoLoad>: failure loading library libTrackingToolsGsfTracking.so for edm::helpers::KeyVal<edm::RefProd<vector<Trajectory> >,edm::RefProd<vector<reco::GsfTrack> > >\n",
      "Error in <TClass::BuildRealData>: Inspection for hash<unsigned short> not supported!\n",
      "Error in <TClass::BuildRealData>: Inspection for equal_to<unsigned short> not supported!\n",
      "cling::DynamicLibraryManager::loadLibrary(): libnvidia-ml.so.1: cannot open shared object file: No such file or directory\n",
      "Error in <TInterpreter::TCling::AutoLoad>: failure loading library libTrackingToolsGsfTracking.so for edm::helpers::KeyVal<edm::RefProd<vector<Trajectory> >,edm::RefProd<vector<reco::GsfTrack> > >\n",
      "cling::DynamicLibraryManager::loadLibrary(): libnvidia-ml.so.1: cannot open shared object file: No such file or directory\n",
      "Error in <TInterpreter::TCling::AutoLoad>: failure loading library libTrackingToolsGsfTracking.so for edm::helpers::KeyVal<edm::RefProd<vector<Trajectory> >,edm::RefProd<vector<reco::GsfTrack> > >\n",
      "Warning in <TStreamerInfo::Build>: edm::AssociationMap<edm::OneToOne<vector<Trajectory>,vector<reco::GsfTrack>,unsigned short> >: edm::helpers::KeyVal<edm::RefProd<vector<Trajectory> >,edm::RefProd<vector<reco::GsfTrack> > > has no streamer or dictionary, data member \"ref_\" will not be saved\n",
      "cling::DynamicLibraryManager::loadLibrary(): libnvidia-ml.so.1: cannot open shared object file: No such file or directory\n",
      "Error in <TInterpreter::TCling::AutoLoad>: failure loading library libTrackingToolsGsfTracking.so for edm::helpers::KeyVal<edm::RefProd<vector<Trajectory> >,edm::RefProd<vector<reco::GsfTrack> > >\n",
      "Warning in <TStreamerInfo::Build>: edm::AssociationMap<edm::OneToOne<vector<Trajectory>,vector<reco::GsfTrack>,unsigned short> >: tbb::detail::d1::concurrent_unordered_map<unsigned short,edm::helpers::KeyVal<edm::Ref<vector<Trajectory>,Trajectory,edm::refhelper::FindUsingAdvance<vector<Trajectory>,Trajectory> >,edm::Ref<vector<reco::GsfTrack>,reco::GsfTrack,edm::refhelper::FindUsingAdvance<vector<reco::GsfTrack>,reco::GsfTrack> > >,hash<unsigned short>,equal_to<unsigned short>,tbb::detail::d1::tbb_allocator<pair<const unsigned short,edm::helpers::KeyVal<edm::Ref<vector<Trajectory>,Trajectory,edm::refhelper::FindUsingAdvance<vector<Trajectory>,Trajectory> >,edm::Ref<vector<reco::GsfTrack>,reco::GsfTrack,edm::refhelper::FindUsingAdvance<vector<reco::GsfTrack>,reco::GsfTrack> > > > > > has no streamer or dictionary, data member \"transientMap_\" will not be saved\n",
      "cling::DynamicLibraryManager::loadLibrary(): libnvidia-ml.so.1: cannot open shared object file: No such file or directory\n",
      "Error in <TInterpreter::TCling::AutoLoad>: failure loading library libTrackingToolsGsfTracking.so for edm::helpers::KeyVal<edm::RefProd<vector<Trajectory> >,edm::RefProd<vector<reco::GsfTrack> > >\n",
      "cling::DynamicLibraryManager::loadLibrary(): libnvidia-ml.so.1: cannot open shared object file: No such file or directory\n",
      "Error in <TInterpreter::TCling::AutoLoad>: failure loading library libSimGeneralTrackingAnalysis.so for edm::Wrapper<vector<pair<edm::Ref<vector<TrackingParticle>,TrackingParticle,edm::refhelper::FindUsingAdvance<vector<TrackingParticle>,TrackingParticle> >,edm::Ref<vector<PSimHit>,PSimHit,edm::refhelper::FindUsingAdvance<vector<PSimHit>,PSimHit> > > > >\n",
      "cling::DynamicLibraryManager::loadLibrary(): libnvidia-ml.so.1: cannot open shared object file: No such file or directory\n",
      "Error in <TInterpreter::TCling::AutoLoad>: failure loading library libSimGeneralTrackingAnalysis.so for edm::Wrapper<vector<pair<edm::Ref<vector<TrackingParticle>,TrackingParticle,edm::refhelper::FindUsingAdvance<vector<TrackingParticle>,TrackingParticle> >,edm::Ref<vector<PSimHit>,PSimHit,edm::refhelper::FindUsingAdvance<vector<PSimHit>,PSimHit> > > > >\n",
      "cling::DynamicLibraryManager::loadLibrary(): libnvidia-ml.so.1: cannot open shared object file: No such file or directory\n",
      "Error in <TInterpreter::TCling::AutoLoad>: failure loading library libSimGeneralTrackingAnalysis.so for edm::Wrapper<vector<pair<edm::Ref<vector<TrackingParticle>,TrackingParticle,edm::refhelper::FindUsingAdvance<vector<TrackingParticle>,TrackingParticle> >,edm::Ref<vector<PSimHit>,PSimHit,edm::refhelper::FindUsingAdvance<vector<PSimHit>,PSimHit> > > > >\n",
      "cling::DynamicLibraryManager::loadLibrary(): libnvidia-ml.so.1: cannot open shared object file: No such file or directory\n",
      "Error in <TInterpreter::TCling::AutoLoad>: failure loading library libSimGeneralTrackingAnalysis.so for pair<edm::Ref<vector<TrackingParticle>,TrackingParticle,edm::refhelper::FindUsingAdvance<vector<TrackingParticle>,TrackingParticle> >,edm::Ref<vector<PSimHit>,PSimHit,edm::refhelper::FindUsingAdvance<vector<PSimHit>,PSimHit> > >\n",
      "cling::DynamicLibraryManager::loadLibrary(): libnvidia-ml.so.1: cannot open shared object file: No such file or directory\n",
      "Error in <TInterpreter::TCling::AutoLoad>: failure loading library libSimGeneralTrackingAnalysis.so for pair<edm::Ref<vector<TrackingParticle>,TrackingParticle,edm::refhelper::FindUsingAdvance<vector<TrackingParticle>,TrackingParticle> >,edm::Ref<vector<PSimHit>,PSimHit,edm::refhelper::FindUsingAdvance<vector<PSimHit>,PSimHit> > >\n",
      "cling::DynamicLibraryManager::loadLibrary(): libnvidia-ml.so.1: cannot open shared object file: No such file or directory\n",
      "Error in <TInterpreter::TCling::AutoLoad>: failure loading library libSimGeneralTrackingAnalysis.so for pair<edm::Ref<vector<TrackingParticle>,TrackingParticle,edm::refhelper::FindUsingAdvance<vector<TrackingParticle>,TrackingParticle> >,edm::Ref<vector<PSimHit>,PSimHit,edm::refhelper::FindUsingAdvance<vector<PSimHit>,PSimHit> > >\n",
      "cling::DynamicLibraryManager::loadLibrary(): libnvidia-ml.so.1: cannot open shared object file: No such file or directory\n",
      "Error in <TInterpreter::TCling::AutoLoad>: failure loading library libRecoTrackerTkHitPairs.so for IntermediateHitDoublets\n",
      "cling::DynamicLibraryManager::loadLibrary(): libnvidia-ml.so.1: cannot open shared object file: No such file or directory\n",
      "Error in <TInterpreter::TCling::AutoLoad>: failure loading library libRecoTrackerTkHitPairs.so for IntermediateHitDoublets\n",
      "cling::DynamicLibraryManager::loadLibrary(): libnvidia-ml.so.1: cannot open shared object file: No such file or directory\n",
      "Error in <TInterpreter::TCling::AutoLoad>: failure loading library libRecoTrackerTkHitPairs.so for IntermediateHitDoublets\n",
      "cling::DynamicLibraryManager::loadLibrary(): libnvidia-ml.so.1: cannot open shared object file: No such file or directory\n",
      "Error in <TInterpreter::TCling::AutoLoad>: failure loading library libRecoTrackerTkHitPairs.so for IntermediateHitDoublets\n",
      "cling::DynamicLibraryManager::loadLibrary(): libnvidia-ml.so.1: cannot open shared object file: No such file or directory\n",
      "Error in <TInterpreter::TCling::AutoLoad>: failure loading library libRecoTrackerTkHitPairs.so for IntermediateHitDoublets\n",
      "cling::DynamicLibraryManager::loadLibrary(): libnvidia-ml.so.1: cannot open shared object file: No such file or directory\n",
      "Error in <TInterpreter::TCling::AutoLoad>: failure loading library libRecoTrackerTkHitPairs.so for IntermediateHitDoublets\n",
      "cling::DynamicLibraryManager::loadLibrary(): libnvidia-ml.so.1: cannot open shared object file: No such file or directory\n",
      "Error in <TInterpreter::TCling::AutoLoad>: failure loading library libRecoTrackerTkHitPairs.so for IntermediateHitDoublets\n",
      "cling::DynamicLibraryManager::loadLibrary(): libnvidia-ml.so.1: cannot open shared object file: No such file or directory\n",
      "Error in <TInterpreter::TCling::AutoLoad>: failure loading library libRecoTrackerTkHitPairs.so for IntermediateHitDoublets\n",
      "cling::DynamicLibraryManager::loadLibrary(): libnvidia-ml.so.1: cannot open shared object file: No such file or directory\n",
      "Error in <TInterpreter::TCling::AutoLoad>: failure loading library libRecoTrackerTkHitPairs.so for IntermediateHitDoublets\n",
      "cling::DynamicLibraryManager::loadLibrary(): libnvidia-ml.so.1: cannot open shared object file: No such file or directory\n",
      "Error in <TInterpreter::TCling::AutoLoad>: failure loading library libRecoTrackerTkHitPairs.so for IntermediateHitDoublets\n",
      "cling::DynamicLibraryManager::loadLibrary(): libnvidia-ml.so.1: cannot open shared object file: No such file or directory\n",
      "Error in <TInterpreter::TCling::AutoLoad>: failure loading library libRecoTrackerTkHitPairs.so for IntermediateHitDoublets\n",
      "Warning in <TClass::Init>: no dictionary for class IntermediateHitDoublets is available\n",
      "cling::DynamicLibraryManager::loadLibrary(): libnvidia-ml.so.1: cannot open shared object file: No such file or directory\n",
      "Error in <TInterpreter::TCling::AutoLoad>: failure loading library libRecoTrackerTkHitPairs.so for edm::Wrapper<IntermediateHitDoublets>\n",
      "cling::DynamicLibraryManager::loadLibrary(): libnvidia-ml.so.1: cannot open shared object file: No such file or directory\n",
      "Error in <TInterpreter::TCling::AutoLoad>: failure loading library libRecoTrackerTkHitPairs.so for IntermediateHitDoublets\n",
      "cling::DynamicLibraryManager::loadLibrary(): libnvidia-ml.so.1: cannot open shared object file: No such file or directory\n",
      "Error in <TInterpreter::TCling::AutoLoad>: failure loading library libRecoTrackerTkHitPairs.so for IntermediateHitDoublets\n",
      "cling::DynamicLibraryManager::loadLibrary(): libnvidia-ml.so.1: cannot open shared object file: No such file or directory\n",
      "Error in <TInterpreter::TCling::AutoLoad>: failure loading library libRecoTrackerTkHitPairs.so for IntermediateHitDoublets\n",
      "cling::DynamicLibraryManager::loadLibrary(): libnvidia-ml.so.1: cannot open shared object file: No such file or directory\n",
      "Error in <TInterpreter::TCling::AutoLoad>: failure loading library libRecoTrackerTkHitPairs.so for IntermediateHitDoublets\n",
      "cling::DynamicLibraryManager::loadLibrary(): libnvidia-ml.so.1: cannot open shared object file: No such file or directory\n",
      "Error in <TInterpreter::TCling::AutoLoad>: failure loading library libRecoTrackerTkHitPairs.so for edm::Wrapper<IntermediateHitDoublets>\n",
      "cling::DynamicLibraryManager::loadLibrary(): libnvidia-ml.so.1: cannot open shared object file: No such file or directory\n",
      "Error in <TInterpreter::TCling::AutoLoad>: failure loading library libRecoTrackerTkHitPairs.so for edm::Wrapper<IntermediateHitDoublets>\n",
      "cling::DynamicLibraryManager::loadLibrary(): libnvidia-ml.so.1: cannot open shared object file: No such file or directory\n",
      "Error in <TInterpreter::TCling::AutoLoad>: failure loading library libRecoTrackerTkHitPairs.so for IntermediateHitDoublets\n",
      "cling::DynamicLibraryManager::loadLibrary(): libnvidia-ml.so.1: cannot open shared object file: No such file or directory\n",
      "Error in <TInterpreter::TCling::AutoLoad>: failure loading library libRecoTrackerTkHitPairs.so for IntermediateHitDoublets\n",
      "cling::DynamicLibraryManager::loadLibrary(): libnvidia-ml.so.1: cannot open shared object file: No such file or directory\n",
      "Error in <TInterpreter::TCling::AutoLoad>: failure loading library libRecoTrackerMeasurementDet.so for MeasurementTrackerEvent\n",
      "cling::DynamicLibraryManager::loadLibrary(): libnvidia-ml.so.1: cannot open shared object file: No such file or directory\n",
      "Error in <TInterpreter::TCling::AutoLoad>: failure loading library libRecoTrackerMeasurementDet.so for MeasurementTrackerEvent\n",
      "cling::DynamicLibraryManager::loadLibrary(): libnvidia-ml.so.1: cannot open shared object file: No such file or directory\n",
      "Error in <TInterpreter::TCling::AutoLoad>: failure loading library libRecoTrackerMeasurementDet.so for MeasurementTrackerEvent\n",
      "cling::DynamicLibraryManager::loadLibrary(): libnvidia-ml.so.1: cannot open shared object file: No such file or directory\n",
      "Error in <TInterpreter::TCling::AutoLoad>: failure loading library libRecoTrackerMeasurementDet.so for MeasurementTrackerEvent\n",
      "cling::DynamicLibraryManager::loadLibrary(): libnvidia-ml.so.1: cannot open shared object file: No such file or directory\n",
      "Error in <TInterpreter::TCling::AutoLoad>: failure loading library libRecoTrackerMeasurementDet.so for MeasurementTrackerEvent\n",
      "cling::DynamicLibraryManager::loadLibrary(): libnvidia-ml.so.1: cannot open shared object file: No such file or directory\n",
      "Error in <TInterpreter::TCling::AutoLoad>: failure loading library libRecoTrackerMeasurementDet.so for MeasurementTrackerEvent\n",
      "cling::DynamicLibraryManager::loadLibrary(): libnvidia-ml.so.1: cannot open shared object file: No such file or directory\n",
      "Error in <TInterpreter::TCling::AutoLoad>: failure loading library libRecoTrackerMeasurementDet.so for MeasurementTrackerEvent\n",
      "cling::DynamicLibraryManager::loadLibrary(): libnvidia-ml.so.1: cannot open shared object file: No such file or directory\n",
      "Error in <TInterpreter::TCling::AutoLoad>: failure loading library libRecoTrackerMeasurementDet.so for MeasurementTrackerEvent\n",
      "cling::DynamicLibraryManager::loadLibrary(): libnvidia-ml.so.1: cannot open shared object file: No such file or directory\n",
      "Error in <TInterpreter::TCling::AutoLoad>: failure loading library libRecoTrackerMeasurementDet.so for MeasurementTrackerEvent\n",
      "cling::DynamicLibraryManager::loadLibrary(): libnvidia-ml.so.1: cannot open shared object file: No such file or directory\n",
      "Error in <TInterpreter::TCling::AutoLoad>: failure loading library libRecoTrackerMeasurementDet.so for MeasurementTrackerEvent\n",
      "cling::DynamicLibraryManager::loadLibrary(): libnvidia-ml.so.1: cannot open shared object file: No such file or directory\n",
      "Error in <TInterpreter::TCling::AutoLoad>: failure loading library libRecoTrackerMeasurementDet.so for MeasurementTrackerEvent\n",
      "Warning in <TClass::Init>: no dictionary for class MeasurementTrackerEvent is available\n",
      "cling::DynamicLibraryManager::loadLibrary(): libnvidia-ml.so.1: cannot open shared object file: No such file or directory\n",
      "Error in <TInterpreter::TCling::AutoLoad>: failure loading library libRecoTrackerMeasurementDet.so for edm::Wrapper<MeasurementTrackerEvent>\n",
      "cling::DynamicLibraryManager::loadLibrary(): libnvidia-ml.so.1: cannot open shared object file: No such file or directory\n",
      "Error in <TInterpreter::TCling::AutoLoad>: failure loading library libRecoTrackerMeasurementDet.so for MeasurementTrackerEvent\n",
      "cling::DynamicLibraryManager::loadLibrary(): libnvidia-ml.so.1: cannot open shared object file: No such file or directory\n",
      "Error in <TInterpreter::TCling::AutoLoad>: failure loading library libRecoTrackerMeasurementDet.so for MeasurementTrackerEvent\n",
      "cling::DynamicLibraryManager::loadLibrary(): libnvidia-ml.so.1: cannot open shared object file: No such file or directory\n",
      "Error in <TInterpreter::TCling::AutoLoad>: failure loading library libRecoTrackerMeasurementDet.so for MeasurementTrackerEvent\n",
      "cling::DynamicLibraryManager::loadLibrary(): libnvidia-ml.so.1: cannot open shared object file: No such file or directory\n",
      "Error in <TInterpreter::TCling::AutoLoad>: failure loading library libRecoTrackerMeasurementDet.so for MeasurementTrackerEvent\n",
      "cling::DynamicLibraryManager::loadLibrary(): libnvidia-ml.so.1: cannot open shared object file: No such file or directory\n",
      "Error in <TInterpreter::TCling::AutoLoad>: failure loading library libRecoTrackerMeasurementDet.so for edm::Wrapper<MeasurementTrackerEvent>\n",
      "cling::DynamicLibraryManager::loadLibrary(): libnvidia-ml.so.1: cannot open shared object file: No such file or directory\n",
      "Error in <TInterpreter::TCling::AutoLoad>: failure loading library libRecoTrackerMeasurementDet.so for edm::Wrapper<MeasurementTrackerEvent>\n",
      "cling::DynamicLibraryManager::loadLibrary(): libnvidia-ml.so.1: cannot open shared object file: No such file or directory\n",
      "Error in <TInterpreter::TCling::AutoLoad>: failure loading library libRecoTrackerMeasurementDet.so for MeasurementTrackerEvent\n",
      "cling::DynamicLibraryManager::loadLibrary(): libnvidia-ml.so.1: cannot open shared object file: No such file or directory\n",
      "Error in <TInterpreter::TCling::AutoLoad>: failure loading library libRecoTrackerMeasurementDet.so for MeasurementTrackerEvent\n",
      "cling::DynamicLibraryManager::loadLibrary(): libcuda.so.1: cannot open shared object file: No such file or directory\n",
      "Error in <TInterpreter::TCling::AutoLoad>: failure loading library libSimTrackerTrackTriggerAssociation.so for TTClusterAssociationMap<edm::Ref<edm::DetSetVector<Phase2TrackerDigi>,Phase2TrackerDigi,edm::refhelper::FindForDetSetVector<Phase2TrackerDigi> > >\n",
      "cling::DynamicLibraryManager::loadLibrary(): libcuda.so.1: cannot open shared object file: No such file or directory\n",
      "Error in <TInterpreter::TCling::AutoLoad>: failure loading library libSimTrackerTrackTriggerAssociation.so for edm::Wrapper<TTClusterAssociationMap<edm::Ref<edm::DetSetVector<Phase2TrackerDigi>,Phase2TrackerDigi,edm::refhelper::FindForDetSetVector<Phase2TrackerDigi> > > >\n",
      "cling::DynamicLibraryManager::loadLibrary(): libcuda.so.1: cannot open shared object file: No such file or directory\n",
      "Error in <TInterpreter::TCling::AutoLoad>: failure loading library libSimTrackerTrackTriggerAssociation.so for TTStubAssociationMap<edm::Ref<edm::DetSetVector<Phase2TrackerDigi>,Phase2TrackerDigi,edm::refhelper::FindForDetSetVector<Phase2TrackerDigi> > >\n",
      "cling::DynamicLibraryManager::loadLibrary(): libcuda.so.1: cannot open shared object file: No such file or directory\n",
      "Error in <TInterpreter::TCling::AutoLoad>: failure loading library libSimTrackerTrackTriggerAssociation.so for edm::Wrapper<TTStubAssociationMap<edm::Ref<edm::DetSetVector<Phase2TrackerDigi>,Phase2TrackerDigi,edm::refhelper::FindForDetSetVector<Phase2TrackerDigi> > > >\n",
      "cling::DynamicLibraryManager::loadLibrary(): libcuda.so.1: cannot open shared object file: No such file or directory\n",
      "Error in <TInterpreter::TCling::AutoLoad>: failure loading library libSimTrackerTrackTriggerAssociation.so for TTTrackAssociationMap<edm::Ref<edm::DetSetVector<Phase2TrackerDigi>,Phase2TrackerDigi,edm::refhelper::FindForDetSetVector<Phase2TrackerDigi> > >\n",
      "cling::DynamicLibraryManager::loadLibrary(): libcuda.so.1: cannot open shared object file: No such file or directory\n",
      "Error in <TInterpreter::TCling::AutoLoad>: failure loading library libSimTrackerTrackTriggerAssociation.so for edm::Wrapper<TTTrackAssociationMap<edm::Ref<edm::DetSetVector<Phase2TrackerDigi>,Phase2TrackerDigi,edm::refhelper::FindForDetSetVector<Phase2TrackerDigi> > > >\n",
      "cling::DynamicLibraryManager::loadLibrary(): libnvidia-ml.so.1: cannot open shared object file: No such file or directory\n",
      "Error in <TInterpreter::TCling::AutoLoad>: failure loading library libRecoTrackerPixelTrackFitting.so for PixelFitter\n",
      "cling::DynamicLibraryManager::loadLibrary(): libnvidia-ml.so.1: cannot open shared object file: No such file or directory\n",
      "Error in <TInterpreter::TCling::AutoLoad>: failure loading library libRecoTrackerPixelTrackFitting.so for PixelFitter\n",
      "cling::DynamicLibraryManager::loadLibrary(): libnvidia-ml.so.1: cannot open shared object file: No such file or directory\n",
      "Error in <TInterpreter::TCling::AutoLoad>: failure loading library libRecoTrackerPixelTrackFitting.so for PixelFitter\n",
      "cling::DynamicLibraryManager::loadLibrary(): libnvidia-ml.so.1: cannot open shared object file: No such file or directory\n",
      "Error in <TInterpreter::TCling::AutoLoad>: failure loading library libRecoTrackerPixelTrackFitting.so for PixelFitter\n",
      "cling::DynamicLibraryManager::loadLibrary(): libnvidia-ml.so.1: cannot open shared object file: No such file or directory\n",
      "Error in <TInterpreter::TCling::AutoLoad>: failure loading library libRecoTrackerPixelTrackFitting.so for PixelFitter\n",
      "cling::DynamicLibraryManager::loadLibrary(): libnvidia-ml.so.1: cannot open shared object file: No such file or directory\n",
      "Error in <TInterpreter::TCling::AutoLoad>: failure loading library libRecoTrackerPixelTrackFitting.so for PixelFitter\n",
      "cling::DynamicLibraryManager::loadLibrary(): libnvidia-ml.so.1: cannot open shared object file: No such file or directory\n",
      "Error in <TInterpreter::TCling::AutoLoad>: failure loading library libRecoTrackerPixelTrackFitting.so for PixelFitter\n",
      "cling::DynamicLibraryManager::loadLibrary(): libnvidia-ml.so.1: cannot open shared object file: No such file or directory\n",
      "Error in <TInterpreter::TCling::AutoLoad>: failure loading library libRecoTrackerPixelTrackFitting.so for PixelFitter\n",
      "cling::DynamicLibraryManager::loadLibrary(): libnvidia-ml.so.1: cannot open shared object file: No such file or directory\n",
      "Error in <TInterpreter::TCling::AutoLoad>: failure loading library libRecoTrackerPixelTrackFitting.so for PixelFitter\n",
      "cling::DynamicLibraryManager::loadLibrary(): libnvidia-ml.so.1: cannot open shared object file: No such file or directory\n",
      "Error in <TInterpreter::TCling::AutoLoad>: failure loading library libRecoTrackerPixelTrackFitting.so for PixelFitter\n",
      "cling::DynamicLibraryManager::loadLibrary(): libnvidia-ml.so.1: cannot open shared object file: No such file or directory\n",
      "Error in <TInterpreter::TCling::AutoLoad>: failure loading library libRecoTrackerPixelTrackFitting.so for PixelFitter\n",
      "Warning in <TClass::Init>: no dictionary for class PixelFitter is available\n",
      "cling::DynamicLibraryManager::loadLibrary(): libnvidia-ml.so.1: cannot open shared object file: No such file or directory\n",
      "Error in <TInterpreter::TCling::AutoLoad>: failure loading library libRecoTrackerPixelTrackFitting.so for edm::Wrapper<PixelFitter>\n",
      "cling::DynamicLibraryManager::loadLibrary(): libnvidia-ml.so.1: cannot open shared object file: No such file or directory\n",
      "Error in <TInterpreter::TCling::AutoLoad>: failure loading library libRecoTrackerPixelTrackFitting.so for PixelFitter\n",
      "cling::DynamicLibraryManager::loadLibrary(): libnvidia-ml.so.1: cannot open shared object file: No such file or directory\n",
      "Error in <TInterpreter::TCling::AutoLoad>: failure loading library libRecoTrackerPixelTrackFitting.so for PixelFitter\n",
      "cling::DynamicLibraryManager::loadLibrary(): libnvidia-ml.so.1: cannot open shared object file: No such file or directory\n",
      "Error in <TInterpreter::TCling::AutoLoad>: failure loading library libRecoTrackerPixelTrackFitting.so for PixelFitter\n",
      "cling::DynamicLibraryManager::loadLibrary(): libnvidia-ml.so.1: cannot open shared object file: No such file or directory\n",
      "Error in <TInterpreter::TCling::AutoLoad>: failure loading library libRecoTrackerPixelTrackFitting.so for PixelFitter\n",
      "cling::DynamicLibraryManager::loadLibrary(): libnvidia-ml.so.1: cannot open shared object file: No such file or directory\n",
      "Error in <TInterpreter::TCling::AutoLoad>: failure loading library libRecoTrackerPixelTrackFitting.so for edm::Wrapper<PixelFitter>\n",
      "cling::DynamicLibraryManager::loadLibrary(): libnvidia-ml.so.1: cannot open shared object file: No such file or directory\n",
      "Error in <TInterpreter::TCling::AutoLoad>: failure loading library libRecoTrackerPixelTrackFitting.so for edm::Wrapper<PixelFitter>\n",
      "cling::DynamicLibraryManager::loadLibrary(): libnvidia-ml.so.1: cannot open shared object file: No such file or directory\n",
      "Error in <TInterpreter::TCling::AutoLoad>: failure loading library libRecoTrackerPixelTrackFitting.so for PixelFitter\n",
      "cling::DynamicLibraryManager::loadLibrary(): libnvidia-ml.so.1: cannot open shared object file: No such file or directory\n",
      "Error in <TInterpreter::TCling::AutoLoad>: failure loading library libRecoTrackerPixelTrackFitting.so for PixelFitter\n",
      "cling::DynamicLibraryManager::loadLibrary(): libnvidia-ml.so.1: cannot open shared object file: No such file or directory\n",
      "Error in <TInterpreter::TCling::AutoLoad>: failure loading library libRecoTrackerPixelTrackFitting.so for PixelTrackFilter\n",
      "cling::DynamicLibraryManager::loadLibrary(): libnvidia-ml.so.1: cannot open shared object file: No such file or directory\n",
      "Error in <TInterpreter::TCling::AutoLoad>: failure loading library libRecoTrackerPixelTrackFitting.so for PixelTrackFilter\n",
      "cling::DynamicLibraryManager::loadLibrary(): libnvidia-ml.so.1: cannot open shared object file: No such file or directory\n",
      "Error in <TInterpreter::TCling::AutoLoad>: failure loading library libRecoTrackerPixelTrackFitting.so for PixelTrackFilter\n",
      "cling::DynamicLibraryManager::loadLibrary(): libnvidia-ml.so.1: cannot open shared object file: No such file or directory\n",
      "Error in <TInterpreter::TCling::AutoLoad>: failure loading library libRecoTrackerPixelTrackFitting.so for PixelTrackFilter\n",
      "cling::DynamicLibraryManager::loadLibrary(): libnvidia-ml.so.1: cannot open shared object file: No such file or directory\n",
      "Error in <TInterpreter::TCling::AutoLoad>: failure loading library libRecoTrackerPixelTrackFitting.so for PixelTrackFilter\n",
      "cling::DynamicLibraryManager::loadLibrary(): libnvidia-ml.so.1: cannot open shared object file: No such file or directory\n",
      "Error in <TInterpreter::TCling::AutoLoad>: failure loading library libRecoTrackerPixelTrackFitting.so for PixelTrackFilter\n",
      "cling::DynamicLibraryManager::loadLibrary(): libnvidia-ml.so.1: cannot open shared object file: No such file or directory\n",
      "Error in <TInterpreter::TCling::AutoLoad>: failure loading library libRecoTrackerPixelTrackFitting.so for PixelTrackFilter\n",
      "cling::DynamicLibraryManager::loadLibrary(): libnvidia-ml.so.1: cannot open shared object file: No such file or directory\n",
      "Error in <TInterpreter::TCling::AutoLoad>: failure loading library libRecoTrackerPixelTrackFitting.so for PixelTrackFilter\n",
      "cling::DynamicLibraryManager::loadLibrary(): libnvidia-ml.so.1: cannot open shared object file: No such file or directory\n",
      "Error in <TInterpreter::TCling::AutoLoad>: failure loading library libRecoTrackerPixelTrackFitting.so for PixelTrackFilter\n",
      "cling::DynamicLibraryManager::loadLibrary(): libnvidia-ml.so.1: cannot open shared object file: No such file or directory\n",
      "Error in <TInterpreter::TCling::AutoLoad>: failure loading library libRecoTrackerPixelTrackFitting.so for PixelTrackFilter\n",
      "cling::DynamicLibraryManager::loadLibrary(): libnvidia-ml.so.1: cannot open shared object file: No such file or directory\n",
      "Error in <TInterpreter::TCling::AutoLoad>: failure loading library libRecoTrackerPixelTrackFitting.so for PixelTrackFilter\n",
      "Warning in <TClass::Init>: no dictionary for class PixelTrackFilter is available\n",
      "cling::DynamicLibraryManager::loadLibrary(): libnvidia-ml.so.1: cannot open shared object file: No such file or directory\n",
      "Error in <TInterpreter::TCling::AutoLoad>: failure loading library libRecoTrackerPixelTrackFitting.so for edm::Wrapper<PixelTrackFilter>\n",
      "cling::DynamicLibraryManager::loadLibrary(): libnvidia-ml.so.1: cannot open shared object file: No such file or directory\n",
      "Error in <TInterpreter::TCling::AutoLoad>: failure loading library libRecoTrackerPixelTrackFitting.so for PixelTrackFilter\n",
      "cling::DynamicLibraryManager::loadLibrary(): libnvidia-ml.so.1: cannot open shared object file: No such file or directory\n",
      "Error in <TInterpreter::TCling::AutoLoad>: failure loading library libRecoTrackerPixelTrackFitting.so for PixelTrackFilter\n",
      "cling::DynamicLibraryManager::loadLibrary(): libnvidia-ml.so.1: cannot open shared object file: No such file or directory\n",
      "Error in <TInterpreter::TCling::AutoLoad>: failure loading library libRecoTrackerPixelTrackFitting.so for PixelTrackFilter\n",
      "cling::DynamicLibraryManager::loadLibrary(): libnvidia-ml.so.1: cannot open shared object file: No such file or directory\n",
      "Error in <TInterpreter::TCling::AutoLoad>: failure loading library libRecoTrackerPixelTrackFitting.so for PixelTrackFilter\n",
      "cling::DynamicLibraryManager::loadLibrary(): libnvidia-ml.so.1: cannot open shared object file: No such file or directory\n",
      "Error in <TInterpreter::TCling::AutoLoad>: failure loading library libRecoTrackerPixelTrackFitting.so for edm::Wrapper<PixelTrackFilter>\n",
      "cling::DynamicLibraryManager::loadLibrary(): libnvidia-ml.so.1: cannot open shared object file: No such file or directory\n",
      "Error in <TInterpreter::TCling::AutoLoad>: failure loading library libRecoTrackerPixelTrackFitting.so for edm::Wrapper<PixelTrackFilter>\n",
      "cling::DynamicLibraryManager::loadLibrary(): libnvidia-ml.so.1: cannot open shared object file: No such file or directory\n",
      "Error in <TInterpreter::TCling::AutoLoad>: failure loading library libRecoTrackerPixelTrackFitting.so for PixelTrackFilter\n",
      "cling::DynamicLibraryManager::loadLibrary(): libnvidia-ml.so.1: cannot open shared object file: No such file or directory\n",
      "Error in <TInterpreter::TCling::AutoLoad>: failure loading library libRecoTrackerPixelTrackFitting.so for PixelTrackFilter\n",
      "cling::DynamicLibraryManager::loadLibrary(): libnvidia-ml.so.1: cannot open shared object file: No such file or directory\n",
      "Error in <TInterpreter::TCling::AutoLoad>: failure loading library libRecoTrackerTkHitPairs.so for RegionsSeedingHitSets\n",
      "cling::DynamicLibraryManager::loadLibrary(): libnvidia-ml.so.1: cannot open shared object file: No such file or directory\n",
      "Error in <TInterpreter::TCling::AutoLoad>: failure loading library libRecoTrackerTkHitPairs.so for RegionsSeedingHitSets\n",
      "cling::DynamicLibraryManager::loadLibrary(): libnvidia-ml.so.1: cannot open shared object file: No such file or directory\n",
      "Error in <TInterpreter::TCling::AutoLoad>: failure loading library libRecoTrackerTkHitPairs.so for RegionsSeedingHitSets\n",
      "cling::DynamicLibraryManager::loadLibrary(): libnvidia-ml.so.1: cannot open shared object file: No such file or directory\n",
      "Error in <TInterpreter::TCling::AutoLoad>: failure loading library libRecoTrackerTkHitPairs.so for RegionsSeedingHitSets\n",
      "cling::DynamicLibraryManager::loadLibrary(): libnvidia-ml.so.1: cannot open shared object file: No such file or directory\n",
      "Error in <TInterpreter::TCling::AutoLoad>: failure loading library libRecoTrackerTkHitPairs.so for RegionsSeedingHitSets\n",
      "cling::DynamicLibraryManager::loadLibrary(): libnvidia-ml.so.1: cannot open shared object file: No such file or directory\n",
      "Error in <TInterpreter::TCling::AutoLoad>: failure loading library libRecoTrackerTkHitPairs.so for RegionsSeedingHitSets\n",
      "cling::DynamicLibraryManager::loadLibrary(): libnvidia-ml.so.1: cannot open shared object file: No such file or directory\n",
      "Error in <TInterpreter::TCling::AutoLoad>: failure loading library libRecoTrackerTkHitPairs.so for RegionsSeedingHitSets\n",
      "cling::DynamicLibraryManager::loadLibrary(): libnvidia-ml.so.1: cannot open shared object file: No such file or directory\n",
      "Error in <TInterpreter::TCling::AutoLoad>: failure loading library libRecoTrackerTkHitPairs.so for RegionsSeedingHitSets\n",
      "cling::DynamicLibraryManager::loadLibrary(): libnvidia-ml.so.1: cannot open shared object file: No such file or directory\n",
      "Error in <TInterpreter::TCling::AutoLoad>: failure loading library libRecoTrackerTkHitPairs.so for RegionsSeedingHitSets\n",
      "cling::DynamicLibraryManager::loadLibrary(): libnvidia-ml.so.1: cannot open shared object file: No such file or directory\n",
      "Error in <TInterpreter::TCling::AutoLoad>: failure loading library libRecoTrackerTkHitPairs.so for RegionsSeedingHitSets\n",
      "cling::DynamicLibraryManager::loadLibrary(): libnvidia-ml.so.1: cannot open shared object file: No such file or directory\n",
      "Error in <TInterpreter::TCling::AutoLoad>: failure loading library libRecoTrackerTkHitPairs.so for RegionsSeedingHitSets\n",
      "Warning in <TClass::Init>: no dictionary for class RegionsSeedingHitSets is available\n",
      "cling::DynamicLibraryManager::loadLibrary(): libnvidia-ml.so.1: cannot open shared object file: No such file or directory\n",
      "Error in <TInterpreter::TCling::AutoLoad>: failure loading library libRecoTrackerTkHitPairs.so for edm::Wrapper<RegionsSeedingHitSets>\n",
      "cling::DynamicLibraryManager::loadLibrary(): libnvidia-ml.so.1: cannot open shared object file: No such file or directory\n",
      "Error in <TInterpreter::TCling::AutoLoad>: failure loading library libRecoTrackerTkHitPairs.so for RegionsSeedingHitSets\n",
      "cling::DynamicLibraryManager::loadLibrary(): libnvidia-ml.so.1: cannot open shared object file: No such file or directory\n",
      "Error in <TInterpreter::TCling::AutoLoad>: failure loading library libRecoTrackerTkHitPairs.so for RegionsSeedingHitSets\n",
      "cling::DynamicLibraryManager::loadLibrary(): libnvidia-ml.so.1: cannot open shared object file: No such file or directory\n",
      "Error in <TInterpreter::TCling::AutoLoad>: failure loading library libRecoTrackerTkHitPairs.so for RegionsSeedingHitSets\n",
      "cling::DynamicLibraryManager::loadLibrary(): libnvidia-ml.so.1: cannot open shared object file: No such file or directory\n",
      "Error in <TInterpreter::TCling::AutoLoad>: failure loading library libRecoTrackerTkHitPairs.so for RegionsSeedingHitSets\n",
      "cling::DynamicLibraryManager::loadLibrary(): libnvidia-ml.so.1: cannot open shared object file: No such file or directory\n",
      "Error in <TInterpreter::TCling::AutoLoad>: failure loading library libRecoTrackerTkHitPairs.so for edm::Wrapper<RegionsSeedingHitSets>\n",
      "cling::DynamicLibraryManager::loadLibrary(): libnvidia-ml.so.1: cannot open shared object file: No such file or directory\n",
      "Error in <TInterpreter::TCling::AutoLoad>: failure loading library libRecoTrackerTkHitPairs.so for edm::Wrapper<RegionsSeedingHitSets>\n",
      "cling::DynamicLibraryManager::loadLibrary(): libnvidia-ml.so.1: cannot open shared object file: No such file or directory\n",
      "Error in <TInterpreter::TCling::AutoLoad>: failure loading library libRecoTrackerTkHitPairs.so for RegionsSeedingHitSets\n",
      "cling::DynamicLibraryManager::loadLibrary(): libnvidia-ml.so.1: cannot open shared object file: No such file or directory\n",
      "Error in <TInterpreter::TCling::AutoLoad>: failure loading library libRecoTrackerTkHitPairs.so for RegionsSeedingHitSets\n",
      "cling::DynamicLibraryManager::loadLibrary(): libnvidia-ml.so.1: cannot open shared object file: No such file or directory\n",
      "Error in <TInterpreter::TCling::AutoLoad>: failure loading library libSimGeneralTrackingAnalysis.so for vector<pair<edm::Ref<vector<TrackingParticle>,TrackingParticle,edm::refhelper::FindUsingAdvance<vector<TrackingParticle>,TrackingParticle> >,edm::Ref<vector<PSimHit>,PSimHit,edm::refhelper::FindUsingAdvance<vector<PSimHit>,PSimHit> > > >\n",
      "cling::DynamicLibraryManager::loadLibrary(): libnvidia-ml.so.1: cannot open shared object file: No such file or directory\n",
      "Error in <TInterpreter::TCling::AutoLoad>: failure loading library libSimGeneralTrackingAnalysis.so for pair<edm::Ref<vector<TrackingParticle>,TrackingParticle,edm::refhelper::FindUsingAdvance<vector<TrackingParticle>,TrackingParticle> >,edm::Ref<vector<PSimHit>,PSimHit,edm::refhelper::FindUsingAdvance<vector<PSimHit>,PSimHit> > >\n",
      "cling::DynamicLibraryManager::loadLibrary(): libnvidia-ml.so.1: cannot open shared object file: No such file or directory\n",
      "Error in <TInterpreter::TCling::AutoLoad>: failure loading library libSimGeneralTrackingAnalysis.so for pair<edm::Ref<vector<TrackingParticle>,TrackingParticle,edm::refhelper::FindUsingAdvance<vector<TrackingParticle>,TrackingParticle> >,edm::Ref<vector<PSimHit>,PSimHit,edm::refhelper::FindUsingAdvance<vector<PSimHit>,PSimHit> > >\n",
      "cling::DynamicLibraryManager::loadLibrary(): libnvidia-ml.so.1: cannot open shared object file: No such file or directory\n",
      "Error in <TInterpreter::TCling::AutoLoad>: failure loading library libSimGeneralTrackingAnalysis.so for edm::Wrapper<vector<pair<edm::Ref<vector<TrackingParticle>,TrackingParticle,edm::refhelper::FindUsingAdvance<vector<TrackingParticle>,TrackingParticle> >,edm::Ref<vector<PSimHit>,PSimHit,edm::refhelper::FindUsingAdvance<vector<PSimHit>,PSimHit> > > > >\n",
      "cling::DynamicLibraryManager::loadLibrary(): libnvidia-ml.so.1: cannot open shared object file: No such file or directory\n",
      "Error in <TInterpreter::TCling::AutoLoad>: failure loading library libRecoTrackerTkTrackingRegions.so for edm::OwnVector<TrackingRegion,edm::ClonePolicy<TrackingRegion> >\n",
      "cling::DynamicLibraryManager::loadLibrary(): libnvidia-ml.so.1: cannot open shared object file: No such file or directory\n",
      "Error in <TInterpreter::TCling::AutoLoad>: failure loading library libRecoTrackerTkTrackingRegions.so for TrackingRegion\n",
      "cling::DynamicLibraryManager::loadLibrary(): libnvidia-ml.so.1: cannot open shared object file: No such file or directory\n",
      "Error in <TInterpreter::TCling::AutoLoad>: failure loading library libRecoTrackerTkTrackingRegions.so for TrackingRegion\n",
      "cling::DynamicLibraryManager::loadLibrary(): libnvidia-ml.so.1: cannot open shared object file: No such file or directory\n",
      "Error in <TInterpreter::TCling::AutoLoad>: failure loading library libRecoTrackerTkTrackingRegions.so for TrackingRegion\n",
      "cling::DynamicLibraryManager::loadLibrary(): libnvidia-ml.so.1: cannot open shared object file: No such file or directory\n",
      "Error in <TInterpreter::TCling::AutoLoad>: failure loading library libRecoTrackerTkTrackingRegions.so for TrackingRegion\n",
      "cling::DynamicLibraryManager::loadLibrary(): libnvidia-ml.so.1: cannot open shared object file: No such file or directory\n",
      "Error in <TInterpreter::TCling::AutoLoad>: failure loading library libRecoTrackerTkTrackingRegions.so for TrackingRegion\n",
      "cling::DynamicLibraryManager::loadLibrary(): libnvidia-ml.so.1: cannot open shared object file: No such file or directory\n",
      "Error in <TInterpreter::TCling::AutoLoad>: failure loading library libRecoTrackerTkTrackingRegions.so for TrackingRegion\n",
      "cling::DynamicLibraryManager::loadLibrary(): libnvidia-ml.so.1: cannot open shared object file: No such file or directory\n",
      "Error in <TInterpreter::TCling::AutoLoad>: failure loading library libRecoTrackerTkTrackingRegions.so for TrackingRegion\n",
      "cling::DynamicLibraryManager::loadLibrary(): libnvidia-ml.so.1: cannot open shared object file: No such file or directory\n",
      "Error in <TInterpreter::TCling::AutoLoad>: failure loading library libRecoTrackerTkTrackingRegions.so for TrackingRegion\n",
      "cling::DynamicLibraryManager::loadLibrary(): libnvidia-ml.so.1: cannot open shared object file: No such file or directory\n",
      "Error in <TInterpreter::TCling::AutoLoad>: failure loading library libRecoTrackerTkTrackingRegions.so for edm::OwnVector<TrackingRegion,edm::ClonePolicy<TrackingRegion> >\n",
      "cling::DynamicLibraryManager::loadLibrary(): libnvidia-ml.so.1: cannot open shared object file: No such file or directory\n",
      "Error in <TInterpreter::TCling::AutoLoad>: failure loading library libRecoTrackerTkTrackingRegions.so for edm::OwnVector<TrackingRegion,edm::ClonePolicy<TrackingRegion> >\n",
      "cling::DynamicLibraryManager::loadLibrary(): libnvidia-ml.so.1: cannot open shared object file: No such file or directory\n",
      "Error in <TInterpreter::TCling::AutoLoad>: failure loading library libRecoTrackerTkTrackingRegions.so for TrackingRegion\n",
      "cling::DynamicLibraryManager::loadLibrary(): libnvidia-ml.so.1: cannot open shared object file: No such file or directory\n",
      "Error in <TInterpreter::TCling::AutoLoad>: failure loading library libRecoTrackerTkTrackingRegions.so for TrackingRegion\n",
      "cling::DynamicLibraryManager::loadLibrary(): libnvidia-ml.so.1: cannot open shared object file: No such file or directory\n",
      "Error in <TInterpreter::TCling::AutoLoad>: failure loading library libRecoTrackerTkTrackingRegions.so for TrackingRegion\n",
      "cling::DynamicLibraryManager::loadLibrary(): libnvidia-ml.so.1: cannot open shared object file: No such file or directory\n",
      "Error in <TInterpreter::TCling::AutoLoad>: failure loading library libRecoTrackerTkTrackingRegions.so for TrackingRegion\n",
      "cling::DynamicLibraryManager::loadLibrary(): libnvidia-ml.so.1: cannot open shared object file: No such file or directory\n",
      "Error in <TInterpreter::TCling::AutoLoad>: failure loading library libRecoTrackerTkTrackingRegions.so for edm::Wrapper<edm::OwnVector<TrackingRegion,edm::ClonePolicy<TrackingRegion> > >\n",
      "cling::DynamicLibraryManager::loadLibrary(): libnvidia-ml.so.1: cannot open shared object file: No such file or directory\n",
      "Error in <TInterpreter::TCling::AutoLoad>: failure loading library libRecoTrackerTkTrackingRegions.so for TrackingRegion\n",
      "cling::DynamicLibraryManager::loadLibrary(): libnvidia-ml.so.1: cannot open shared object file: No such file or directory\n",
      "Error in <TInterpreter::TCling::AutoLoad>: failure loading library libRecoTrackerTkTrackingRegions.so for TrackingRegion\n",
      "cling::DynamicLibraryManager::loadLibrary(): libnvidia-ml.so.1: cannot open shared object file: No such file or directory\n",
      "Error in <TInterpreter::TCling::AutoLoad>: failure loading library libRecoTrackerTkTrackingRegions.so for TrackingRegion\n",
      "cling::DynamicLibraryManager::loadLibrary(): libnvidia-ml.so.1: cannot open shared object file: No such file or directory\n",
      "Error in <TInterpreter::TCling::AutoLoad>: failure loading library libRecoTrackerTkTrackingRegions.so for TrackingRegion\n",
      "cling::DynamicLibraryManager::loadLibrary(): libnvidia-ml.so.1: cannot open shared object file: No such file or directory\n",
      "Error in <TInterpreter::TCling::AutoLoad>: failure loading library libRecoTrackerTkTrackingRegions.so for TrackingRegion\n",
      "cling::DynamicLibraryManager::loadLibrary(): libnvidia-ml.so.1: cannot open shared object file: No such file or directory\n",
      "Error in <TInterpreter::TCling::AutoLoad>: failure loading library libRecoTrackerTkTrackingRegions.so for TrackingRegion\n",
      "cling::DynamicLibraryManager::loadLibrary(): libnvidia-ml.so.1: cannot open shared object file: No such file or directory\n",
      "Error in <TInterpreter::TCling::AutoLoad>: failure loading library libRecoTrackerTkTrackingRegions.so for TrackingRegion\n",
      "cling::DynamicLibraryManager::loadLibrary(): libnvidia-ml.so.1: cannot open shared object file: No such file or directory\n",
      "Error in <TInterpreter::TCling::AutoLoad>: failure loading library libRecoTrackerTkTrackingRegions.so for TrackingRegion\n",
      "cling::DynamicLibraryManager::loadLibrary(): libnvidia-ml.so.1: cannot open shared object file: No such file or directory\n",
      "Error in <TInterpreter::TCling::AutoLoad>: failure loading library libRecoTrackerTkTrackingRegions.so for edm::Wrapper<edm::OwnVector<TrackingRegion,edm::ClonePolicy<TrackingRegion> > >\n",
      "cling::DynamicLibraryManager::loadLibrary(): libnvidia-ml.so.1: cannot open shared object file: No such file or directory\n",
      "Error in <TInterpreter::TCling::AutoLoad>: failure loading library libRecoTrackerTkTrackingRegions.so for edm::Wrapper<edm::OwnVector<TrackingRegion,edm::ClonePolicy<TrackingRegion> > >\n",
      "cling::DynamicLibraryManager::loadLibrary(): libnvidia-ml.so.1: cannot open shared object file: No such file or directory\n",
      "Error in <TInterpreter::TCling::AutoLoad>: failure loading library libRecoTrackerTkTrackingRegions.so for TrackingRegion\n",
      "cling::DynamicLibraryManager::loadLibrary(): libnvidia-ml.so.1: cannot open shared object file: No such file or directory\n",
      "Error in <TInterpreter::TCling::AutoLoad>: failure loading library libRecoTrackerTkTrackingRegions.so for TrackingRegion\n",
      "cling::DynamicLibraryManager::loadLibrary(): libnvidia-ml.so.1: cannot open shared object file: No such file or directory\n",
      "Error in <TInterpreter::TCling::AutoLoad>: failure loading library libRecoTrackerTkTrackingRegions.so for TrackingRegion\n",
      "cling::DynamicLibraryManager::loadLibrary(): libnvidia-ml.so.1: cannot open shared object file: No such file or directory\n",
      "Error in <TInterpreter::TCling::AutoLoad>: failure loading library libRecoTrackerTkTrackingRegions.so for TrackingRegion\n",
      "cling::DynamicLibraryManager::loadLibrary(): libnvidia-ml.so.1: cannot open shared object file: No such file or directory\n",
      "Error in <TInterpreter::TCling::AutoLoad>: failure loading library libTrackingToolsGsfTracking.so for edm::AssociationMap<edm::OneToOne<vector<Trajectory>,vector<reco::GsfTrack>,unsigned short> >\n",
      "cling::DynamicLibraryManager::loadLibrary(): libnvidia-ml.so.1: cannot open shared object file: No such file or directory\n",
      "Error in <TInterpreter::TCling::AutoLoad>: failure loading library libTrackingToolsGsfTracking.so for edm::Wrapper<edm::AssociationMap<edm::OneToOne<vector<Trajectory>,vector<reco::GsfTrack>,unsigned short> > >\n",
      "cling::DynamicLibraryManager::loadLibrary(): libcuda.so.1: cannot open shared object file: No such file or directory\n",
      "Error in <TInterpreter::TCling::AutoLoad>: failure loading library libSimTrackerTrackTriggerAssociation.so for edm::Wrapper<TTClusterAssociationMap<edm::Ref<edm::DetSetVector<Phase2TrackerDigi>,Phase2TrackerDigi,edm::refhelper::FindForDetSetVector<Phase2TrackerDigi> > > >\n",
      "cling::DynamicLibraryManager::loadLibrary(): libcuda.so.1: cannot open shared object file: No such file or directory\n",
      "Error in <TInterpreter::TCling::AutoLoad>: failure loading library libSimTrackerTrackTriggerAssociation.so for edm::Wrapper<TTStubAssociationMap<edm::Ref<edm::DetSetVector<Phase2TrackerDigi>,Phase2TrackerDigi,edm::refhelper::FindForDetSetVector<Phase2TrackerDigi> > > >\n",
      "cling::DynamicLibraryManager::loadLibrary(): libcuda.so.1: cannot open shared object file: No such file or directory\n",
      "Error in <TInterpreter::TCling::AutoLoad>: failure loading library libSimTrackerTrackTriggerAssociation.so for edm::RefProd<TTClusterAssociationMap<edm::Ref<edm::DetSetVector<Phase2TrackerDigi>,Phase2TrackerDigi,edm::refhelper::FindForDetSetVector<Phase2TrackerDigi> > > >\n",
      "cling::DynamicLibraryManager::loadLibrary(): libcuda.so.1: cannot open shared object file: No such file or directory\n",
      "Error in <TInterpreter::TCling::AutoLoad>: failure loading library libSimTrackerTrackTriggerAssociation.so for edm::Wrapper<TTTrackAssociationMap<edm::Ref<edm::DetSetVector<Phase2TrackerDigi>,Phase2TrackerDigi,edm::refhelper::FindForDetSetVector<Phase2TrackerDigi> > > >\n",
      "cling::DynamicLibraryManager::loadLibrary(): libcuda.so.1: cannot open shared object file: No such file or directory\n",
      "Error in <TInterpreter::TCling::AutoLoad>: failure loading library libSimTrackerTrackTriggerAssociation.so for edm::RefProd<TTStubAssociationMap<edm::Ref<edm::DetSetVector<Phase2TrackerDigi>,Phase2TrackerDigi,edm::refhelper::FindForDetSetVector<Phase2TrackerDigi> > > >\n",
      "cling::DynamicLibraryManager::loadLibrary(): libcuda.so.1: cannot open shared object file: No such file or directory\n",
      "Error in <TInterpreter::TCling::AutoLoad>: failure loading library libSimTrackerTrackTriggerAssociation.so for TTClusterAssociationMap<edm::Ref<edm::DetSetVector<Phase2TrackerDigi>,Phase2TrackerDigi,edm::refhelper::FindForDetSetVector<Phase2TrackerDigi> > >\n",
      "cling::DynamicLibraryManager::loadLibrary(): libcuda.so.1: cannot open shared object file: No such file or directory\n",
      "Error in <TInterpreter::TCling::AutoLoad>: failure loading library libSimTrackerTrackTriggerAssociation.so for TTStubAssociationMap<edm::Ref<edm::DetSetVector<Phase2TrackerDigi>,Phase2TrackerDigi,edm::refhelper::FindForDetSetVector<Phase2TrackerDigi> > >\n",
      "cling::DynamicLibraryManager::loadLibrary(): libcuda.so.1: cannot open shared object file: No such file or directory\n",
      "Error in <TInterpreter::TCling::AutoLoad>: failure loading library libSimTrackerTrackTriggerAssociation.so for TTTrackAssociationMap<edm::Ref<edm::DetSetVector<Phase2TrackerDigi>,Phase2TrackerDigi,edm::refhelper::FindForDetSetVector<Phase2TrackerDigi> > >\n",
      "cling::DynamicLibraryManager::loadLibrary(): libnvidia-ml.so.1: cannot open shared object file: No such file or directory\n",
      "Error in <TInterpreter::TCling::AutoLoad>: failure loading library libSimGeneralTrackingAnalysis.so for pair<edm::Ptr<TTTrack<edm::Ref<edm::DetSetVector<Phase2TrackerDigi>,Phase2TrackerDigi,edm::refhelper::FindForDetSetVector<Phase2TrackerDigi> > > >,edm::Ptr<TrackingParticle> >\n",
      "cling::DynamicLibraryManager::loadLibrary(): libnvidia-ml.so.1: cannot open shared object file: No such file or directory\n",
      "Error in <TInterpreter::TCling::AutoLoad>: failure loading library libSimGeneralTrackingAnalysis.so for pair<edm::Ptr<TrackingParticle>,vector<edm::Ptr<TTTrack<edm::Ref<edm::DetSetVector<Phase2TrackerDigi>,Phase2TrackerDigi,edm::refhelper::FindForDetSetVector<Phase2TrackerDigi> > > > > >\n",
      "cling::DynamicLibraryManager::loadLibrary(): libnvidia-ml.so.1: cannot open shared object file: No such file or directory\n",
      "Error in <TInterpreter::TCling::AutoLoad>: failure loading library libTrackingToolsGsfTracking.so for edm::Wrapper<edm::AssociationMap<edm::OneToOne<vector<Trajectory>,vector<reco::GsfTrack>,unsigned short> > >\n",
      "cling::DynamicLibraryManager::loadLibrary(): libnvidia-ml.so.1: cannot open shared object file: No such file or directory\n",
      "Error in <TInterpreter::TCling::AutoLoad>: failure loading library libTrackingToolsGsfTracking.so for edm::AssociationMap<edm::OneToOne<vector<Trajectory>,vector<reco::GsfTrack>,unsigned short> >\n",
      "Warning in <TStreamerInfo::BuildCheck>: \n",
      "   The StreamerInfo for version 10 of class edm::AssociationMap<edm::OneToOne<vector<Trajectory>,vector<reco::GsfTrack>,unsigned short> > read from the file /workspaces/repo/runs_results/diffEgamma_v2/dnn-v1/step3.root\n",
      "   has a different checksum than the previously loaded StreamerInfo.\n",
      "   Reading objects of type edm::AssociationMap<edm::OneToOne<vector<Trajectory>,vector<reco::GsfTrack>,unsigned short> > from the file /workspaces/repo/runs_results/diffEgamma_v2/dnn-v1/step3.root \n",
      "   (and potentially other files) might not work correctly.\n",
      "   Most likely the version number of the class was not properly\n",
      "   updated [See ClassDef(edm::AssociationMap<edm::OneToOne<vector<Trajectory>,vector<reco::GsfTrack>,unsigned short> >,10)].\n",
      "Warning in <TStreamerInfo::CompareContent>: The following data member of\n",
      "the in-memory layout version 10 of class 'edm::AssociationMap<edm::OneToOne<vector<Trajectory>,vector<reco::GsfTrack>,unsigned short> >' is missing from \n",
      "the on-file layout version 10:\n",
      "   tbb::detail::d1::concurrent_unordered_map<unsigned short,edm::helpers::KeyVal<edm::Ref<vector<Trajectory>,Trajectory,edm::refhelper::FindUsingAdvance<vector<Trajectory>,Trajectory> >,edm::Ref<vector<reco::GsfTrack>,reco::GsfTrack,edm::refhelper::FindUsingAdvance<vector<reco::GsfTrack>,reco::GsfTrack> > >,hash<unsigned short>,equal_to<unsigned short>,tbb::detail::d1::tbb_allocator<pair<const unsigned short,edm::helpers::KeyVal<edm::Ref<vector<Trajectory>,Trajectory,edm::refhelper::FindUsingAdvance<vector<Trajectory>,Trajectory> >,edm::Ref<vector<reco::GsfTrack>,reco::GsfTrack,edm::refhelper::FindUsingAdvance<vector<reco::GsfTrack>,reco::GsfTrack> > > > > > transientMap_; //\n",
      "cling::DynamicLibraryManager::loadLibrary(): libnvidia-ml.so.1: cannot open shared object file: No such file or directory\n",
      "Error in <TInterpreter::TCling::AutoLoad>: failure loading library libTrackingToolsGsfTracking.so for edm::helpers::KeyVal<edm::RefProd<vector<Trajectory> >,edm::RefProd<vector<reco::GsfTrack> > >\n",
      "cling::DynamicLibraryManager::loadLibrary(): libnvidia-ml.so.1: cannot open shared object file: No such file or directory\n",
      "Error in <TInterpreter::TCling::AutoLoad>: failure loading library libSimGeneralTrackingAnalysis.so for edm::Wrapper<vector<pair<edm::Ref<vector<TrackingParticle>,TrackingParticle,edm::refhelper::FindUsingAdvance<vector<TrackingParticle>,TrackingParticle> >,edm::Ref<vector<PSimHit>,PSimHit,edm::refhelper::FindUsingAdvance<vector<PSimHit>,PSimHit> > > > >\n",
      "cling::DynamicLibraryManager::loadLibrary(): libnvidia-ml.so.1: cannot open shared object file: No such file or directory\n",
      "Error in <TInterpreter::TCling::AutoLoad>: failure loading library libSimGeneralTrackingAnalysis.so for pair<edm::Ref<vector<TrackingParticle>,TrackingParticle,edm::refhelper::FindUsingAdvance<vector<TrackingParticle>,TrackingParticle> >,edm::Ref<vector<PSimHit>,PSimHit,edm::refhelper::FindUsingAdvance<vector<PSimHit>,PSimHit> > >\n"
     ]
    }
   ],
   "source": [
    "comp = MultiEdmReader(\"/workspaces/repo/runs_results/diffEgamma_v2/mustache-v1/step3.root\", \"/workspaces/repo/runs_results/diffEgamma_v2/dnn-v1/step3.root\")"
   ]
  },
  {
   "cell_type": "code",
   "execution_count": 3,
   "metadata": {},
   "outputs": [
    {
     "name": "stdout",
     "output_type": "stream",
     "text": [
      "CaloParticle(pdgId=-11,energy=166.19725036621094)\n",
      "CaloParticle(pdgId=-11,energy=166.19725036621094)\n",
      "CaloParticle(pdgId=-11,energy=24.09600257873535)\n",
      "CaloParticle(pdgId=-11,energy=24.09600257873535)\n",
      "CaloParticle(pdgId=-11,energy=6.639852523803711)\n",
      "CaloParticle(pdgId=-11,energy=6.639852523803711)\n",
      "CaloParticle(pdgId=-11,energy=59.139869689941406)\n",
      "CaloParticle(pdgId=-11,energy=59.139869689941406)\n",
      "CaloParticle(pdgId=-11,energy=520.9221801757812)\n",
      "CaloParticle(pdgId=-11,energy=520.9221801757812)\n",
      "CaloParticle(pdgId=-11,energy=229.2434539794922)\n",
      "CaloParticle(pdgId=-11,energy=229.2434539794922)\n",
      "CaloParticle(pdgId=-11,energy=422.1425476074219)\n",
      "CaloParticle(pdgId=-11,energy=422.1425476074219)\n",
      "CaloParticle(pdgId=-11,energy=208.456787109375)\n",
      "CaloParticle(pdgId=-11,energy=208.456787109375)\n",
      "CaloParticle(pdgId=-11,energy=263.5705261230469)\n",
      "CaloParticle(pdgId=-11,energy=263.5705261230469)\n",
      "CaloParticle(pdgId=-11,energy=59.408084869384766)\n",
      "CaloParticle(pdgId=-11,energy=59.408084869384766)\n",
      "CaloParticle(pdgId=-11,energy=121.81829833984375)\n",
      "CaloParticle(pdgId=-11,energy=121.81829833984375)\n",
      "CaloParticle(pdgId=-11,energy=13.753118515014648)\n",
      "CaloParticle(pdgId=-11,energy=13.753118515014648)\n",
      "CaloParticle(pdgId=-11,energy=324.9082946777344)\n",
      "CaloParticle(pdgId=-11,energy=324.9082946777344)\n",
      "CaloParticle(pdgId=-11,energy=113.00160217285156)\n",
      "CaloParticle(pdgId=-11,energy=113.00160217285156)\n",
      "CaloParticle(pdgId=-11,energy=355.0517883300781)\n",
      "CaloParticle(pdgId=-11,energy=355.0517883300781)\n",
      "CaloParticle(pdgId=-11,energy=688.5363159179688)\n",
      "CaloParticle(pdgId=-11,energy=688.5363159179688)\n",
      "CaloParticle(pdgId=-11,energy=141.3809356689453)\n",
      "CaloParticle(pdgId=-11,energy=141.3809356689453)\n",
      "CaloParticle(pdgId=-11,energy=98.26458740234375)\n",
      "CaloParticle(pdgId=-11,energy=98.26458740234375)\n",
      "CaloParticle(pdgId=-11,energy=24.392011642456055)\n",
      "CaloParticle(pdgId=-11,energy=24.392011642456055)\n",
      "CaloParticle(pdgId=-11,energy=145.7860870361328)\n",
      "CaloParticle(pdgId=-11,energy=145.7860870361328)\n",
      "CaloParticle(pdgId=-11,energy=634.6414794921875)\n",
      "CaloParticle(pdgId=-11,energy=634.6414794921875)\n",
      "CaloParticle(pdgId=-11,energy=343.78887939453125)\n",
      "CaloParticle(pdgId=-11,energy=343.78887939453125)\n",
      "CaloParticle(pdgId=-11,energy=214.29342651367188)\n",
      "CaloParticle(pdgId=-11,energy=214.29342651367188)\n",
      "CaloParticle(pdgId=-11,energy=78.1398696899414)\n",
      "CaloParticle(pdgId=-11,energy=78.1398696899414)\n",
      "CaloParticle(pdgId=-11,energy=277.2162780761719)\n",
      "CaloParticle(pdgId=-11,energy=277.2162780761719)\n",
      "CaloParticle(pdgId=-11,energy=297.82733154296875)\n",
      "CaloParticle(pdgId=-11,energy=297.82733154296875)\n",
      "CaloParticle(pdgId=-11,energy=57.867130279541016)\n",
      "CaloParticle(pdgId=-11,energy=57.867130279541016)\n",
      "CaloParticle(pdgId=-11,energy=121.0624771118164)\n",
      "CaloParticle(pdgId=-11,energy=121.0624771118164)\n",
      "CaloParticle(pdgId=-11,energy=150.5897674560547)\n",
      "CaloParticle(pdgId=-11,energy=150.5897674560547)\n",
      "CaloParticle(pdgId=-11,energy=196.0703125)\n",
      "CaloParticle(pdgId=-11,energy=196.0703125)\n",
      "CaloParticle(pdgId=-11,energy=320.4415283203125)\n",
      "CaloParticle(pdgId=-11,energy=320.4415283203125)\n",
      "CaloParticle(pdgId=-11,energy=212.9998779296875)\n",
      "CaloParticle(pdgId=-11,energy=212.9998779296875)\n",
      "CaloParticle(pdgId=-11,energy=239.58676147460938)\n",
      "CaloParticle(pdgId=-11,energy=239.58676147460938)\n",
      "CaloParticle(pdgId=-11,energy=64.89643096923828)\n",
      "CaloParticle(pdgId=-11,energy=64.89643096923828)\n",
      "CaloParticle(pdgId=-11,energy=186.32107543945312)\n",
      "CaloParticle(pdgId=-11,energy=186.32107543945312)\n",
      "CaloParticle(pdgId=-11,energy=74.48932647705078)\n",
      "CaloParticle(pdgId=-11,energy=74.48932647705078)\n",
      "CaloParticle(pdgId=-11,energy=377.2735900878906)\n",
      "CaloParticle(pdgId=-11,energy=377.2735900878906)\n",
      "CaloParticle(pdgId=-11,energy=453.961669921875)\n",
      "CaloParticle(pdgId=-11,energy=453.961669921875)\n",
      "CaloParticle(pdgId=-11,energy=284.70880126953125)\n",
      "CaloParticle(pdgId=-11,energy=284.70880126953125)\n",
      "CaloParticle(pdgId=-11,energy=125.30009460449219)\n",
      "CaloParticle(pdgId=-11,energy=125.30009460449219)\n",
      "CaloParticle(pdgId=-11,energy=323.9636535644531)\n",
      "CaloParticle(pdgId=-11,energy=323.9636535644531)\n",
      "CaloParticle(pdgId=-11,energy=55.14111328125)\n",
      "CaloParticle(pdgId=-11,energy=55.14111328125)\n",
      "CaloParticle(pdgId=-11,energy=163.2533416748047)\n",
      "CaloParticle(pdgId=-11,energy=163.2533416748047)\n",
      "CaloParticle(pdgId=-11,energy=505.0093078613281)\n",
      "CaloParticle(pdgId=-11,energy=505.0093078613281)\n",
      "CaloParticle(pdgId=-11,energy=465.6412353515625)\n",
      "CaloParticle(pdgId=-11,energy=465.6412353515625)\n",
      "CaloParticle(pdgId=-11,energy=166.45480346679688)\n",
      "CaloParticle(pdgId=-11,energy=166.45480346679688)\n",
      "CaloParticle(pdgId=-11,energy=178.88636779785156)\n",
      "CaloParticle(pdgId=-11,energy=178.88636779785156)\n",
      "CaloParticle(pdgId=-11,energy=59.43661117553711)\n",
      "CaloParticle(pdgId=-11,energy=59.43661117553711)\n",
      "CaloParticle(pdgId=-11,energy=744.2149047851562)\n",
      "CaloParticle(pdgId=-11,energy=744.2149047851562)\n",
      "CaloParticle(pdgId=-11,energy=177.83460998535156)\n",
      "CaloParticle(pdgId=-11,energy=177.83460998535156)\n",
      "CaloParticle(pdgId=-11,energy=118.3573226928711)\n",
      "CaloParticle(pdgId=-11,energy=118.3573226928711)\n",
      "CaloParticle(pdgId=-11,energy=220.44883728027344)\n",
      "CaloParticle(pdgId=-11,energy=220.44883728027344)\n",
      "CaloParticle(pdgId=-11,energy=109.0235366821289)\n",
      "CaloParticle(pdgId=-11,energy=109.0235366821289)\n",
      "CaloParticle(pdgId=-11,energy=85.72615814208984)\n",
      "CaloParticle(pdgId=-11,energy=85.72615814208984)\n",
      "CaloParticle(pdgId=-11,energy=58.751434326171875)\n",
      "CaloParticle(pdgId=-11,energy=58.751434326171875)\n",
      "CaloParticle(pdgId=-11,energy=102.62870788574219)\n",
      "CaloParticle(pdgId=-11,energy=102.62870788574219)\n",
      "CaloParticle(pdgId=-11,energy=411.2209777832031)\n",
      "CaloParticle(pdgId=-11,energy=411.2209777832031)\n",
      "CaloParticle(pdgId=-11,energy=406.5248107910156)\n",
      "CaloParticle(pdgId=-11,energy=406.5248107910156)\n",
      "CaloParticle(pdgId=-11,energy=521.5422973632812)\n",
      "CaloParticle(pdgId=-11,energy=521.5422973632812)\n",
      "CaloParticle(pdgId=-11,energy=350.5823669433594)\n",
      "CaloParticle(pdgId=-11,energy=350.5823669433594)\n",
      "CaloParticle(pdgId=-11,energy=372.9188537597656)\n",
      "CaloParticle(pdgId=-11,energy=372.9188537597656)\n",
      "CaloParticle(pdgId=-11,energy=192.2268829345703)\n",
      "CaloParticle(pdgId=-11,energy=192.2268829345703)\n",
      "CaloParticle(pdgId=-11,energy=220.5559539794922)\n",
      "CaloParticle(pdgId=-11,energy=220.5559539794922)\n",
      "CaloParticle(pdgId=-11,energy=276.91766357421875)\n",
      "CaloParticle(pdgId=-11,energy=276.91766357421875)\n",
      "CaloParticle(pdgId=-11,energy=467.4950866699219)\n",
      "CaloParticle(pdgId=-11,energy=467.4950866699219)\n",
      "CaloParticle(pdgId=-11,energy=193.3651885986328)\n",
      "CaloParticle(pdgId=-11,energy=193.3651885986328)\n",
      "CaloParticle(pdgId=-11,energy=52.57640838623047)\n",
      "CaloParticle(pdgId=-11,energy=52.57640838623047)\n",
      "CaloParticle(pdgId=-11,energy=49.561988830566406)\n",
      "CaloParticle(pdgId=-11,energy=49.561988830566406)\n",
      "CaloParticle(pdgId=-11,energy=474.6578063964844)\n",
      "CaloParticle(pdgId=-11,energy=474.6578063964844)\n",
      "CaloParticle(pdgId=-11,energy=563.5697021484375)\n",
      "CaloParticle(pdgId=-11,energy=563.5697021484375)\n",
      "CaloParticle(pdgId=-11,energy=342.0188903808594)\n",
      "CaloParticle(pdgId=-11,energy=342.0188903808594)\n",
      "CaloParticle(pdgId=-11,energy=456.99462890625)\n",
      "CaloParticle(pdgId=-11,energy=456.99462890625)\n",
      "CaloParticle(pdgId=11,energy=27.97994613647461)\n",
      "CaloParticle(pdgId=11,energy=27.97994613647461)\n",
      "CaloParticle(pdgId=-11,energy=611.59375)\n",
      "CaloParticle(pdgId=-11,energy=611.59375)\n",
      "CaloParticle(pdgId=-11,energy=174.69808959960938)\n",
      "CaloParticle(pdgId=-11,energy=174.69808959960938)\n",
      "CaloParticle(pdgId=-11,energy=63.559906005859375)\n",
      "CaloParticle(pdgId=-11,energy=63.559906005859375)\n",
      "CaloParticle(pdgId=-11,energy=756.9716796875)\n",
      "CaloParticle(pdgId=-11,energy=756.9716796875)\n",
      "CaloParticle(pdgId=-11,energy=96.94691467285156)\n",
      "CaloParticle(pdgId=-11,energy=96.94691467285156)\n",
      "CaloParticle(pdgId=-11,energy=502.5384521484375)\n",
      "CaloParticle(pdgId=-11,energy=502.5384521484375)\n",
      "CaloParticle(pdgId=-11,energy=343.5148620605469)\n",
      "CaloParticle(pdgId=-11,energy=343.5148620605469)\n",
      "CaloParticle(pdgId=-11,energy=173.9636993408203)\n",
      "CaloParticle(pdgId=-11,energy=173.9636993408203)\n",
      "CaloParticle(pdgId=-11,energy=412.7273864746094)\n",
      "CaloParticle(pdgId=-11,energy=412.7273864746094)\n",
      "CaloParticle(pdgId=-11,energy=217.43609619140625)\n",
      "CaloParticle(pdgId=-11,energy=217.43609619140625)\n",
      "CaloParticle(pdgId=-11,energy=53.26483154296875)\n",
      "CaloParticle(pdgId=-11,energy=53.26483154296875)\n",
      "CaloParticle(pdgId=-11,energy=861.73193359375)\n",
      "CaloParticle(pdgId=-11,energy=861.73193359375)\n",
      "CaloParticle(pdgId=-11,energy=177.66746520996094)\n",
      "CaloParticle(pdgId=-11,energy=177.66746520996094)\n",
      "CaloParticle(pdgId=-11,energy=185.09205627441406)\n",
      "CaloParticle(pdgId=-11,energy=185.09205627441406)\n",
      "CaloParticle(pdgId=-11,energy=52.92885208129883)\n",
      "CaloParticle(pdgId=-11,energy=52.92885208129883)\n",
      "CaloParticle(pdgId=-11,energy=549.3002319335938)\n",
      "CaloParticle(pdgId=-11,energy=549.3002319335938)\n",
      "CaloParticle(pdgId=-11,energy=724.3346557617188)\n",
      "CaloParticle(pdgId=-11,energy=724.3346557617188)\n",
      "CaloParticle(pdgId=-11,energy=173.5975799560547)\n",
      "CaloParticle(pdgId=-11,energy=173.5975799560547)\n",
      "CaloParticle(pdgId=-11,energy=154.8407745361328)\n",
      "CaloParticle(pdgId=-11,energy=154.8407745361328)\n",
      "CaloParticle(pdgId=-11,energy=39.137657165527344)\n",
      "CaloParticle(pdgId=-11,energy=39.137657165527344)\n",
      "CaloParticle(pdgId=-11,energy=177.7239227294922)\n",
      "CaloParticle(pdgId=-11,energy=177.7239227294922)\n",
      "CaloParticle(pdgId=-11,energy=41.68143081665039)\n",
      "CaloParticle(pdgId=-11,energy=41.68143081665039)\n",
      "CaloParticle(pdgId=-11,energy=222.30282592773438)\n",
      "CaloParticle(pdgId=-11,energy=222.30282592773438)\n",
      "CaloParticle(pdgId=-11,energy=167.9114532470703)\n",
      "CaloParticle(pdgId=-11,energy=167.9114532470703)\n",
      "CaloParticle(pdgId=-11,energy=240.50404357910156)\n",
      "CaloParticle(pdgId=-11,energy=240.50404357910156)\n",
      "CaloParticle(pdgId=-11,energy=612.0999755859375)\n",
      "CaloParticle(pdgId=-11,energy=612.0999755859375)\n",
      "CaloParticle(pdgId=-11,energy=502.9295959472656)\n",
      "CaloParticle(pdgId=-11,energy=502.9295959472656)\n"
     ]
    }
   ],
   "source": [
    "for _ in comp:\n",
    "    print(comp[0].caloParticles[0])\n",
    "    print(comp[1].caloParticles[0])"
   ]
  },
  {
   "cell_type": "code",
   "execution_count": 4,
   "metadata": {},
   "outputs": [],
   "source": [
    "def findForEndcap(collection, positiveEndcap=True):\n",
    "    for obj in collection:\n",
    "        if (positiveEndcap and obj.eta() > 0) or (not positiveEndcap and obj.eta() < 0):\n",
    "            return obj\n",
    "    raise ValueError(\"Not found\")"
   ]
  },
  {
   "cell_type": "markdown",
   "metadata": {},
   "source": [
    "## Looking at Trackster collections"
   ]
  },
  {
   "cell_type": "code",
   "execution_count": 5,
   "metadata": {},
   "outputs": [
    {
     "data": {
      "text/plain": [
       "std::vector<reco::PFCluster>[reco::PFCluster(energy=433.8458474036306,correctedEnergy=433.8458474036306,eta=-2.34954681398005,layer=13,depth=0.0,pt=82.04167173176596,algo=5,caloID=CaloID: 1024,seed=DetId(det=HGCalEE,subdetId=0)),reco::PFCluster(energy=457.7614821586758,correctedEnergy=457.7614821586758,eta=2.351727188921214,layer=13,depth=0.0,pt=86.37905061916209,algo=5,caloID=CaloID: 1024,seed=DetId(det=HGCalEE,subdetId=0))]"
      ]
     },
     "execution_count": 5,
     "metadata": {},
     "output_type": "execute_result"
    }
   ],
   "source": [
    "comp[0].hgcalPfClusters"
   ]
  },
  {
   "cell_type": "code",
   "execution_count": 6,
   "metadata": {},
   "outputs": [
    {
     "data": {
      "text/plain": [
       "std::vector<reco::SuperCluster>[reco::SuperCluster(energy=445.4866943359375,rawEnergy=474.2660827636719,correctedEnergy=474.26609230041504,clustersSize=2,eta=-2.349754170700637,algo=1000,caloID=CaloID: 0,seed=<cppyy.gbl.edm.Ptr<reco::CaloCluster> object at 0x34b453a0>),reco::SuperCluster(energy=457.6927795410156,rawEnergy=486.82098388671875,correctedEnergy=486.82097911834717,clustersSize=2,eta=2.350812666773844,algo=1000,caloID=CaloID: 0,seed=<cppyy.gbl.edm.Ptr<reco::CaloCluster> object at 0x34b454c8>)]"
      ]
     },
     "execution_count": 6,
     "metadata": {},
     "output_type": "execute_result"
    }
   ],
   "source": [
    "comp[1].ticlEgammaSuperClusters"
   ]
  },
  {
   "cell_type": "code",
   "execution_count": 7,
   "metadata": {},
   "outputs": [
    {
     "data": {
      "text/plain": [
       "std::vector<ticl::Trackster>[ticl::Trackster(raw_energy=445.4866943359375,regressed_energy=459.6637268066406),ticl::Trackster(raw_energy=457.6927795410156,regressed_energy=478.2851867675781)]"
      ]
     },
     "execution_count": 7,
     "metadata": {},
     "output_type": "execute_result"
    }
   ],
   "source": [
    "comp[1].ticlSuperclusters"
   ]
  },
  {
   "cell_type": "code",
   "execution_count": 8,
   "metadata": {},
   "outputs": [
    {
     "data": {
      "text/plain": [
       "13"
      ]
     },
     "execution_count": 8,
     "metadata": {},
     "output_type": "execute_result"
    }
   ],
   "source": [
    "comp[1].trackstersCLUE3DEM.size()"
   ]
  },
  {
   "cell_type": "code",
   "execution_count": 9,
   "metadata": {},
   "outputs": [
    {
     "name": "stdout",
     "output_type": "stream",
     "text": [
      "run: 1 lumi: 1 event: 96\n"
     ]
    }
   ],
   "source": [
    "print(comp[1].object().id())"
   ]
  },
  {
   "cell_type": "markdown",
   "metadata": {},
   "source": [
    "## Looking at SuperCluster colections"
   ]
  },
  {
   "cell_type": "code",
   "execution_count": 10,
   "metadata": {},
   "outputs": [
    {
     "name": "stdout",
     "output_type": "stream",
     "text": [
      "Not found\n",
      "Not found\n",
      "Not found\n",
      "Not found\n",
      "Not found\n",
      "Not found\n",
      "Not found\n",
      "Not found\n",
      "Not found\n",
      "Not found\n",
      "Not found\n",
      "Not found\n",
      "Not found\n",
      "Not found\n",
      "Not found\n"
     ]
    }
   ],
   "source": [
    "nbins = 60\n",
    "h_mustache_SC_rawOverTrue = hist.Hist(hist.axis.Regular(nbins, 0, 1.5, label=\"Raw SC energy / GenPart energy\"))\n",
    "h_mustache_SC_regressedOverTrue = hist.Hist(hist.axis.Regular(nbins, 0, 1.5, label=\"Regressed SC energy / GenPart energy\"))\n",
    "h_dnn_SC_rawOverTrue = hist.Hist(hist.axis.Regular(nbins, 0, 1.5, label=\"Raw SC energy / GenPart energy\"))\n",
    "h_dnn_SC_regressedOverTrue = hist.Hist(hist.axis.Regular(nbins, 0, 1.5, label=\"Regressed SC energy / GenPart energy\"))\n",
    "for _ in comp:\n",
    "    for endcap in [True, False]:\n",
    "        try:\n",
    "            genP = findForEndcap(comp[0].genParticles, endcap)\n",
    "            mustache_SC = findForEndcap(comp[0].oldHgcalSuperclusters, endcap)\n",
    "            \n",
    "            dnn_SC = findForEndcap(comp[1].ticlEgammaSuperClusters, endcap)\n",
    "            h_mustache_SC_rawOverTrue.fill(mustache_SC.rawEnergy()/genP.energy())\n",
    "            h_mustache_SC_regressedOverTrue.fill(mustache_SC.correctedEnergy()/genP.energy())\n",
    "\n",
    "            h_dnn_SC_rawOverTrue.fill(dnn_SC.rawEnergy()/genP.energy())\n",
    "            h_dnn_SC_regressedOverTrue.fill(dnn_SC.correctedEnergy()/genP.energy())\n",
    "        except Exception as e:\n",
    "            print(e)"
   ]
  },
  {
   "cell_type": "code",
   "execution_count": 11,
   "metadata": {},
   "outputs": [
    {
     "name": "stderr",
     "output_type": "stream",
     "text": [
      "/cvmfs/cms.cern.ch/el8_amd64_gcc12/external/py3-numpy/1.24.3-6c4922f4e317e74c4b82416c41722d10/lib/python3.9/site-packages/numpy/core/getlimits.py:518: UserWarning: The value of the smallest subnormal for <class 'numpy.float64'> type is zero.\n",
      "  setattr(self, word, getattr(machar, word).flat[0])\n",
      "/cvmfs/cms.cern.ch/el8_amd64_gcc12/external/py3-numpy/1.24.3-6c4922f4e317e74c4b82416c41722d10/lib/python3.9/site-packages/numpy/core/getlimits.py:89: UserWarning: The value of the smallest subnormal for <class 'numpy.float64'> type is zero.\n",
      "  return self._float_to_str(self.smallest_subnormal)\n"
     ]
    },
    {
     "data": {
      "text/plain": [
       "<matplotlib.legend.Legend at 0x7f50c01b5af0>"
      ]
     },
     "execution_count": 11,
     "metadata": {},
     "output_type": "execute_result"
    },
    {
     "data": {
      "image/png": "[encoded data removed]",
      "text/plain": [
       "<Figure size 1000x1000 with 1 Axes>"
      ]
     },
     "metadata": {},
     "output_type": "display_data"
    }
   ],
   "source": [
    "hep.histplot([h_mustache_SC_rawOverTrue, h_mustache_SC_regressedOverTrue, h_dnn_SC_rawOverTrue], yerr=False, label=[\"Raw energy\", \"Regressed energy\", \"DNN SC raw energy\"])\n",
    "plt.legend()"
   ]
  },
  {
   "cell_type": "code",
   "execution_count": 12,
   "metadata": {},
   "outputs": [
    {
     "data": {
      "text/plain": [
       "<matplotlib.legend.Legend at 0x7f50c01aeaf0>"
      ]
     },
     "execution_count": 12,
     "metadata": {},
     "output_type": "execute_result"
    },
    {
     "data": {
      "image/png": "[encoded data removed]",
      "text/plain": [
       "<Figure size 1000x1000 with 1 Axes>"
      ]
     },
     "metadata": {},
     "output_type": "display_data"
    }
   ],
   "source": [
    "hep.histplot([h_dnn_SC_rawOverTrue, h_dnn_SC_regressedOverTrue], yerr=False, label=[\"Raw energy\", \"Regressed energy\"])\n",
    "plt.legend()"
   ]
  },
  {
   "cell_type": "code",
   "execution_count": 4,
   "metadata": {},
   "outputs": [
    {
     "data": {
      "text/plain": [
       "std::vector<reco::GenParticle>[reco::GenParticle(energy=15000.0,charge=0,eta=0.0,pdgId=990,isHardProcess=False),reco::GenParticle(energy=166.19723956428592,charge=-1,eta=2.7902884483337402,pdgId=11,isHardProcess=False),reco::GenParticle(energy=166.19723956428592,charge=1,eta=-2.7902884483337402,pdgId=-11,isHardProcess=False)]"
      ]
     },
     "execution_count": 4,
     "metadata": {},
     "output_type": "execute_result"
    }
   ],
   "source": [
    "evt_baseline.genParticles"
   ]
  },
  {
   "cell_type": "code",
   "execution_count": 6,
   "metadata": {},
   "outputs": [
    {
     "data": {
      "text/plain": [
       "std::vector<CaloParticle>[CaloParticle(pdgId=-11,energy=166.19725036621094),CaloParticle(pdgId=11,energy=166.19725036621094)]"
      ]
     },
     "execution_count": 6,
     "metadata": {},
     "output_type": "execute_result"
    }
   ],
   "source": [
    "evt_baseline.caloParticles"
   ]
  },
  {
   "cell_type": "code",
   "execution_count": 14,
   "metadata": {},
   "outputs": [
    {
     "data": {
      "text/plain": [
       "std::vector<reco::SuperCluster>[reco::SuperCluster(energy=161.16337314165392,rawEnergy=147.54135131835938,correctedEnergy=161.16337314165392,clustersSize=1,eta=2.7992810477566135,algo=1000,caloID=CaloID: 0,seed=<cppyy.gbl.edm.Ptr<reco::CaloCluster> object at 0x220a8dc0>),reco::SuperCluster(energy=153.59293570557833,rawEnergy=140.33721923828125,correctedEnergy=153.59293570557833,clustersSize=1,eta=-2.7845738102750714,algo=1000,caloID=CaloID: 0,seed=<cppyy.gbl.edm.Ptr<reco::CaloCluster> object at 0x220a8ee8>)]"
      ]
     },
     "execution_count": 14,
     "metadata": {},
     "output_type": "execute_result"
    }
   ],
   "source": [
    "evt_baseline.oldHgcalSuperclusters"
   ]
  },
  {
   "cell_type": "code",
   "execution_count": 7,
   "metadata": {},
   "outputs": [
    {
     "data": {
      "text/plain": [
       "std::vector<reco::PFCluster>[reco::PFCluster(energy=149.46971806138754,correctedEnergy=149.46971806138754,eta=2.7992600285408376,layer=13,depth=0.0,pt=18.124859874450703,algo=5,caloID=CaloID: 1024,seed=DetId(det=HGCalEE,subdetId=0)),reco::PFCluster(energy=140.33721908461303,correctedEnergy=140.33721908461303,eta=-2.7845738102750714,layer=13,depth=0.0,pt=17.267310169262053,algo=5,caloID=CaloID: 1024,seed=DetId(det=HGCalEE,subdetId=0))]"
      ]
     },
     "execution_count": 7,
     "metadata": {},
     "output_type": "execute_result"
    }
   ],
   "source": [
    "evt_baseline.hgcalPfClusters"
   ]
  },
  {
   "cell_type": "code",
   "execution_count": 12,
   "metadata": {},
   "outputs": [
    {
     "data": {
      "text/plain": [
       "ticl::Trackster(raw_energy=141.04624938964844,regressed_energy=149.1729278564453)"
      ]
     },
     "execution_count": 12,
     "metadata": {},
     "output_type": "execute_result"
    }
   ],
   "source": [
    "evt_baseline.trackstersCLUE3DEM[0]"
   ]
  },
  {
   "cell_type": "code",
   "execution_count": 11,
   "metadata": {},
   "outputs": [
    {
     "data": {
      "text/plain": [
       "std::vector<reco::SuperCluster>[reco::SuperCluster(energy=141.04624938964844,rawEnergy=149.1729278564453,correctedEnergy=149.1729278564453,clustersSize=1,eta=-2.7831199098648387,algo=1000,caloID=CaloID: 0,seed=<cppyy.gbl.edm.Ptr<reco::CaloCluster> object at 0x322de670>),reco::SuperCluster(energy=148.03945922851562,rawEnergy=159.62240600585938,correctedEnergy=159.62240600585938,clustersSize=1,eta=2.7978599314892594,algo=1000,caloID=CaloID: 0,seed=<cppyy.gbl.edm.Ptr<reco::CaloCluster> object at 0x322de798>)]"
      ]
     },
     "execution_count": 11,
     "metadata": {},
     "output_type": "execute_result"
    }
   ],
   "source": [
    "evt_new.ticlEgammaSuperClusters"
   ]
  },
  {
   "cell_type": "code",
   "execution_count": 13,
   "metadata": {},
   "outputs": [
    {
     "data": {
      "text/plain": [
       "std::vector<ticl::Trackster>[ticl::Trackster(raw_energy=141.04624938964844,regressed_energy=149.1729278564453),ticl::Trackster(raw_energy=148.03945922851562,regressed_energy=159.62240600585938)]"
      ]
     },
     "execution_count": 13,
     "metadata": {},
     "output_type": "execute_result"
    }
   ],
   "source": [
    "evt_new.trackstersCLUE3DEM"
   ]
  },
  {
   "cell_type": "code",
   "execution_count": null,
   "metadata": {},
   "outputs": [],
   "source": []
  },
  {
   "cell_type": "code",
   "execution_count": 25,
   "metadata": {},
   "outputs": [],
   "source": [
    "# while True:\n",
    "#     next(events_baseline_iter)\n",
    "#     #next(events_new_iter)\n",
    "#     #evt.getByLabel(\"genParticles\", genparts_h)\n",
    "#     genparts = evt_baseline.get(\"vector<reco::GenParticle>\", \"genParticles\")\n",
    "#     if genparts[1].eta() > 1.6 and genparts[1].eta() < 2.8:\n",
    "#         evt_new.object().to(evt_baseline.object().id())\n",
    "#         if evt_new.ticlEgammaSuperClusters.size() > 0:\n",
    "#             break"
   ]
  },
  {
   "cell_type": "code",
   "execution_count": 27,
   "metadata": {},
   "outputs": [
    {
     "data": {
      "text/plain": [
       "0.005269800778478384"
      ]
     },
     "execution_count": 27,
     "metadata": {},
     "output_type": "execute_result"
    }
   ],
   "source": [
    "evt_baseline.oldHgcalSuperclusters[0].phiWidth()"
   ]
  },
  {
   "cell_type": "code",
   "execution_count": 28,
   "metadata": {},
   "outputs": [
    {
     "data": {
      "text/plain": [
       "reco::SuperCluster(energy=172.51873779296875,rawEnergy=183.9346160888672,correctedEnergy=172.51873779296875,clustersSize=1,eta=2.2839144363339106,algo=1000,caloID=CaloID: 0,seed=<cppyy.gbl.edm.Ptr<reco::CaloCluster> object at 0x392c0620>)"
      ]
     },
     "execution_count": 28,
     "metadata": {},
     "output_type": "execute_result"
    }
   ],
   "source": [
    "evt_new.ticlEgammaSuperClusters[2]"
   ]
  },
  {
   "cell_type": "code",
   "execution_count": 29,
   "metadata": {},
   "outputs": [
    {
     "data": {
      "text/plain": [
       "reco::CaloCluster(energy=183.9346160888672,correctedEnergy=183.9346160888672,eta=2.2839144363339106,algo=5,caloID=CaloID: 1024,seed=DetId(det=HGCalEE,subdetId=0)"
      ]
     },
     "execution_count": 29,
     "metadata": {},
     "output_type": "execute_result"
    }
   ],
   "source": [
    "list(evt_new.ticlEgammaSuperClusters[2].clusters())[0]#.get().hitsAndFractions()"
   ]
  },
  {
   "cell_type": "code",
   "execution_count": 30,
   "metadata": {},
   "outputs": [
    {
     "data": {
      "text/plain": [
       "std::vector<reco::ElectronSeed>[ElectronSeed(CaloDriven,charge=-1,CaloClusterEnergy=186.3620520702587,CaloClusterEta=2.2843319397621134),ElectronSeed(CaloDriven,charge=-1,CaloClusterEnergy=186.3620520702587,CaloClusterEta=2.2843319397621134),ElectronSeed(CaloDriven,charge=-1,CaloClusterEnergy=186.3620520702587,CaloClusterEta=2.2843319397621134),ElectronSeed(CaloDriven,charge=-1,CaloClusterEnergy=186.3620520702587,CaloClusterEta=2.2843319397621134),ElectronSeed(CaloDriven,charge=-1,CaloClusterEnergy=186.3620520702587,CaloClusterEta=2.2843319397621134),ElectronSeed(CaloDriven,charge=-1,CaloClusterEnergy=186.3620520702587,CaloClusterEta=2.2843319397621134),ElectronSeed(CaloDriven,charge=-1,CaloClusterEnergy=186.3620520702587,CaloClusterEta=2.2843319397621134),ElectronSeed(CaloDriven,charge=-1,CaloClusterEnergy=186.3620520702587,CaloClusterEta=2.2843319397621134),ElectronSeed(CaloDriven,charge=-1,CaloClusterEnergy=186.3620520702587,CaloClusterEta=2.2843319397621134),ElectronSeed(CaloDriven,charge=-1,CaloClusterEnergy=186.3620520702587,CaloClusterEta=2.2843319397621134),ElectronSeed(CaloDriven,charge=-1,CaloClusterEnergy=186.3620520702587,CaloClusterEta=2.2843319397621134),ElectronSeed(CaloDriven,charge=-1,CaloClusterEnergy=186.3620520702587,CaloClusterEta=2.2843319397621134),ElectronSeed(CaloDriven,charge=-1,CaloClusterEnergy=186.3620520702587,CaloClusterEta=2.2843319397621134),ElectronSeed(CaloDriven,charge=-1,CaloClusterEnergy=186.3620520702587,CaloClusterEta=2.2843319397621134),ElectronSeed(CaloDriven,charge=-1,CaloClusterEnergy=186.3620520702587,CaloClusterEta=2.2843319397621134),ElectronSeed(CaloDriven,charge=-1,CaloClusterEnergy=186.3620520702587,CaloClusterEta=2.2843319397621134),ElectronSeed(CaloDriven,charge=-1,CaloClusterEnergy=186.3620520702587,CaloClusterEta=2.2843319397621134),ElectronSeed(CaloDriven,charge=-1,CaloClusterEnergy=186.3620520702587,CaloClusterEta=2.2843319397621134),ElectronSeed(CaloDriven,charge=-1,CaloClusterEnergy=186.3620520702587,CaloClusterEta=2.2843319397621134),ElectronSeed(CaloDriven,charge=-1,CaloClusterEnergy=186.3620520702587,CaloClusterEta=2.2843319397621134)]"
      ]
     },
     "execution_count": 30,
     "metadata": {},
     "output_type": "execute_result"
    }
   ],
   "source": [
    "evt_baseline.electronSeeds"
   ]
  },
  {
   "cell_type": "code",
   "execution_count": 31,
   "metadata": {},
   "outputs": [
    {
     "data": {
      "text/plain": [
       "std::vector<reco::ElectronSeed>[ElectronSeed(CaloDriven,charge=1,CaloClusterEnergy=168.45266723632812,CaloClusterEta=-2.3093475126443925),ElectronSeed(CaloDriven,charge=1,CaloClusterEnergy=168.45266723632812,CaloClusterEta=-2.3093475126443925),ElectronSeed(CaloDriven,charge=1,CaloClusterEnergy=168.45266723632812,CaloClusterEta=-2.3093475126443925),ElectronSeed(CaloDriven,charge=1,CaloClusterEnergy=168.45266723632812,CaloClusterEta=-2.3093475126443925),ElectronSeed(CaloDriven,charge=1,CaloClusterEnergy=168.45266723632812,CaloClusterEta=-2.3093475126443925),ElectronSeed(CaloDriven,charge=1,CaloClusterEnergy=168.45266723632812,CaloClusterEta=-2.3093475126443925),ElectronSeed(CaloDriven,charge=-1,CaloClusterEnergy=168.45266723632812,CaloClusterEta=-2.3093475126443925),ElectronSeed(CaloDriven,charge=-1,CaloClusterEnergy=168.45266723632812,CaloClusterEta=-2.3093475126443925),ElectronSeed(CaloDriven,charge=-1,CaloClusterEnergy=168.45266723632812,CaloClusterEta=-2.3093475126443925),ElectronSeed(CaloDriven,charge=1,CaloClusterEnergy=168.45266723632812,CaloClusterEta=-2.3093475126443925),ElectronSeed(CaloDriven,charge=1,CaloClusterEnergy=168.45266723632812,CaloClusterEta=-2.3093475126443925),ElectronSeed(CaloDriven,charge=1,CaloClusterEnergy=168.45266723632812,CaloClusterEta=-2.3093475126443925),ElectronSeed(CaloDriven,charge=1,CaloClusterEnergy=168.45266723632812,CaloClusterEta=-2.3093475126443925),ElectronSeed(CaloDriven,charge=1,CaloClusterEnergy=168.45266723632812,CaloClusterEta=-2.3093475126443925),ElectronSeed(CaloDriven,charge=1,CaloClusterEnergy=168.45266723632812,CaloClusterEta=-2.3093475126443925),ElectronSeed(CaloDriven,charge=1,CaloClusterEnergy=168.45266723632812,CaloClusterEta=-2.3093475126443925),ElectronSeed(CaloDriven,charge=1,CaloClusterEnergy=168.45266723632812,CaloClusterEta=-2.3093475126443925),ElectronSeed(CaloDriven,charge=1,CaloClusterEnergy=168.45266723632812,CaloClusterEta=-2.3093475126443925),ElectronSeed(CaloDriven,charge=-1,CaloClusterEnergy=168.45266723632812,CaloClusterEta=-2.3093475126443925),ElectronSeed(CaloDriven,charge=-1,CaloClusterEnergy=168.45266723632812,CaloClusterEta=-2.3093475126443925)]"
      ]
     },
     "execution_count": 31,
     "metadata": {},
     "output_type": "execute_result"
    }
   ],
   "source": [
    "evt_new.electronSeeds"
   ]
  },
  {
   "cell_type": "code",
   "execution_count": null,
   "metadata": {},
   "outputs": [],
   "source": []
  },
  {
   "cell_type": "code",
   "execution_count": 10,
   "metadata": {},
   "outputs": [
    {
     "data": {
      "text/plain": [
       "std::vector<reco::GsfTrack>[reco::GsfTrack(etaMode=-2.496912847005952,ptMode=10.612227166083121,qoverpMode=0.015413225981225324,outerEta=-2.49689123525632,outerPt=6.474755515014397,seedDirection=1),reco::GsfTrack(etaMode=2.496627919935485,ptMode=11.274840500713871,qoverpMode=-0.0145114814889851,outerEta=2.4963226662276305,outerPt=2.946369320300965,seedDirection=1)]"
      ]
     },
     "execution_count": 10,
     "metadata": {},
     "output_type": "execute_result"
    }
   ],
   "source": [
    "evt_baseline.get(\"vector<reco::GsfTrack>\",\"electronGsfTracks\" )"
   ]
  },
  {
   "cell_type": "code",
   "execution_count": 11,
   "metadata": {},
   "outputs": [
    {
     "data": {
      "text/plain": [
       "std::vector<reco::GsfTrack>[reco::GsfTrack(etaMode=-2.496912847005952,ptMode=10.612227166083121,qoverpMode=0.015413225981225324,outerEta=-2.49689123525632,outerPt=6.474755515014397,seedDirection=1),reco::GsfTrack(etaMode=2.496627919935485,ptMode=11.274840500713871,qoverpMode=-0.0145114814889851,outerEta=2.4963226662276305,outerPt=2.946369320300965,seedDirection=1)]"
      ]
     },
     "execution_count": 11,
     "metadata": {},
     "output_type": "execute_result"
    }
   ],
   "source": [
    "evt_new.get(\"vector<reco::GsfTrack>\",\"electronGsfTracks\" )"
   ]
  },
  {
   "cell_type": "code",
   "execution_count": 12,
   "metadata": {},
   "outputs": [],
   "source": [
    "evt_baseline.printPfBlocks(filterOutNonEndcap=True)"
   ]
  },
  {
   "cell_type": "code",
   "execution_count": 13,
   "metadata": {},
   "outputs": [
    {
     "data": {
      "text/plain": [
       "True"
      ]
     },
     "execution_count": 13,
     "metadata": {},
     "output_type": "execute_result"
    }
   ],
   "source": [
    "list(evt_new.pfBlocks[67].elements())[-1].clusterRef().isAvailable()"
   ]
  },
  {
   "cell_type": "code",
   "execution_count": 14,
   "metadata": {},
   "outputs": [],
   "source": [
    "evt_new.printPfBlocks(filterOutNonEndcap=True)"
   ]
  },
  {
   "cell_type": "code",
   "execution_count": 15,
   "metadata": {},
   "outputs": [
    {
     "data": {
      "text/plain": [
       "['__lifeline',\n",
       " '__module__',\n",
       " '__doc__',\n",
       " '__assign__',\n",
       " '__init__',\n",
       " 'chargeMode',\n",
       " 'covarianceMode',\n",
       " 'errorMode',\n",
       " 'etaMode',\n",
       " 'etaModeError',\n",
       " 'gsfExtra',\n",
       " 'lambdaMode',\n",
       " 'lambdaModeError',\n",
       " 'momentumMode',\n",
       " 'pMode',\n",
       " 'parameterMode',\n",
       " 'parametersMode',\n",
       " 'phiMode',\n",
       " 'phiModeError',\n",
       " 'ptMode',\n",
       " 'ptModeError',\n",
       " 'pxMode',\n",
       " 'pyMode',\n",
       " 'pzMode',\n",
       " 'qoverpMode',\n",
       " 'qoverpModeError',\n",
       " 'setGsfExtra',\n",
       " 'setMode',\n",
       " 'thetaMode',\n",
       " 'thetaModeError',\n",
       " 'dimensionMode',\n",
       " 'covarianceSizeMode',\n",
       " '__repr__',\n",
       " 'extra',\n",
       " 'fillInner',\n",
       " 'fillOuter',\n",
       " 'found',\n",
       " 'innerDetId',\n",
       " 'innerMomentum',\n",
       " 'innerOk',\n",
       " 'innerPosition',\n",
       " 'innerStateCovariance',\n",
       " 'lost',\n",
       " 'outerDetId',\n",
       " 'outerEta',\n",
       " 'outerMomentum',\n",
       " 'outerOk',\n",
       " 'outerP',\n",
       " 'outerPhi',\n",
       " 'outerPosition',\n",
       " 'outerPt',\n",
       " 'outerPx',\n",
       " 'outerPy',\n",
       " 'outerPz',\n",
       " 'outerRadius',\n",
       " 'outerStateCovariance',\n",
       " 'outerTheta',\n",
       " 'outerX',\n",
       " 'outerY',\n",
       " 'outerZ',\n",
       " 'recHit',\n",
       " 'recHits',\n",
       " 'recHitsBegin',\n",
       " 'recHitsEnd',\n",
       " 'recHitsSize',\n",
       " 'residuals',\n",
       " 'seedDirection',\n",
       " 'seedRef',\n",
       " 'setExtra',\n",
       " '__dict__',\n",
       " '__weakref__',\n",
       " 'appendHits',\n",
       " 'algo',\n",
       " 'algoByName',\n",
       " 'algoMask',\n",
       " 'algoMaskUL',\n",
       " 'algoName',\n",
       " 'appendHitPattern',\n",
       " 'appendMuonHitPattern',\n",
       " 'appendTrackerHitPattern',\n",
       " 'beta',\n",
       " 'betaError',\n",
       " 'charge',\n",
       " 'chi2',\n",
       " 'covBetaBeta',\n",
       " 'covIndex',\n",
       " 'covariance',\n",
       " 'covt0t0',\n",
       " 'd0',\n",
       " 'd0Error',\n",
       " 'dsz',\n",
       " 'dszError',\n",
       " 'dxy',\n",
       " 'dxyError',\n",
       " 'dz',\n",
       " 'dzError',\n",
       " 'error',\n",
       " 'eta',\n",
       " 'etaError',\n",
       " 'fill',\n",
       " 'hitPattern',\n",
       " 'isAlgoInMask',\n",
       " 'isLooper',\n",
       " 'isTimeOk',\n",
       " 'lambda',\n",
       " 'lambdaError',\n",
       " 'missingInnerHits',\n",
       " 'missingOuterHits',\n",
       " 'momentum',\n",
       " 'nLoops',\n",
       " 'ndof',\n",
       " 'normalizedChi2',\n",
       " 'numberOfLostHits',\n",
       " 'numberOfValidHits',\n",
       " 'originalAlgo',\n",
       " 'p',\n",
       " 'p2',\n",
       " 'parameter',\n",
       " 'parameters',\n",
       " 'phi',\n",
       " 'phiError',\n",
       " 'pt',\n",
       " 'pt2',\n",
       " 'ptError',\n",
       " 'ptError2',\n",
       " 'px',\n",
       " 'py',\n",
       " 'pz',\n",
       " 'qoverp',\n",
       " 'qoverpError',\n",
       " 'quality',\n",
       " 'qualityByName',\n",
       " 'qualityMask',\n",
       " 'qualityName',\n",
       " 'referencePoint',\n",
       " 'resetHitPattern',\n",
       " 'setAlgoMask',\n",
       " 'setAlgorithm',\n",
       " 'setNLoops',\n",
       " 'setOriginalAlgorithm',\n",
       " 'setQuality',\n",
       " 'setQualityMask',\n",
       " 'setStopReason',\n",
       " 'stopReason',\n",
       " 't0',\n",
       " 't0Error',\n",
       " 'theta',\n",
       " 'thetaError',\n",
       " 'validFraction',\n",
       " 'vertex',\n",
       " 'vx',\n",
       " 'vy',\n",
       " 'vz',\n",
       " 'algoNames',\n",
       " 'qualityNames',\n",
       " 'dimension',\n",
       " 'covarianceSize',\n",
       " 'i_qoverp',\n",
       " 'i_lambda',\n",
       " 'i_phi',\n",
       " 'i_dxy',\n",
       " 'i_dsz',\n",
       " 'undefAlgorithm',\n",
       " 'ctf',\n",
       " 'duplicateMerge',\n",
       " 'cosmics',\n",
       " 'initialStep',\n",
       " 'lowPtTripletStep',\n",
       " 'pixelPairStep',\n",
       " 'detachedTripletStep',\n",
       " 'mixedTripletStep',\n",
       " 'pixelLessStep',\n",
       " 'tobTecStep',\n",
       " 'jetCoreRegionalStep',\n",
       " 'conversionStep',\n",
       " 'muonSeededStepInOut',\n",
       " 'muonSeededStepOutIn',\n",
       " 'outInEcalSeededConv',\n",
       " 'inOutEcalSeededConv',\n",
       " 'nuclInter',\n",
       " 'standAloneMuon',\n",
       " 'globalMuon',\n",
       " 'cosmicStandAloneMuon',\n",
       " 'cosmicGlobalMuon',\n",
       " 'highPtTripletStep',\n",
       " 'lowPtQuadStep',\n",
       " 'detachedQuadStep',\n",
       " 'displacedGeneralStep',\n",
       " 'displacedRegionalStep',\n",
       " 'bTagGhostTracks',\n",
       " 'beamhalo',\n",
       " 'gsf',\n",
       " 'hltPixel',\n",
       " 'hltIter0',\n",
       " 'hltIter1',\n",
       " 'hltIter2',\n",
       " 'hltIter3',\n",
       " 'hltIter4',\n",
       " 'hltIterX',\n",
       " 'hiRegitMuInitialStep',\n",
       " 'hiRegitMuLowPtTripletStep',\n",
       " 'hiRegitMuPixelPairStep',\n",
       " 'hiRegitMuDetachedTripletStep',\n",
       " 'hiRegitMuMixedTripletStep',\n",
       " 'hiRegitMuPixelLessStep',\n",
       " 'hiRegitMuTobTecStep',\n",
       " 'hiRegitMuMuonSeededStepInOut',\n",
       " 'hiRegitMuMuonSeededStepOutIn',\n",
       " 'algoSize',\n",
       " 'undefQuality',\n",
       " 'loose',\n",
       " 'tight',\n",
       " 'highPurity',\n",
       " 'confirmed',\n",
       " 'goodIterative',\n",
       " 'looseSetWithPV',\n",
       " 'highPuritySetWithPV',\n",
       " 'discarded',\n",
       " 'qualitySize',\n",
       " '__hash__',\n",
       " '__str__',\n",
       " '__lt__',\n",
       " '__le__',\n",
       " '__eq__',\n",
       " '__ne__',\n",
       " '__gt__',\n",
       " '__ge__',\n",
       " '__add__',\n",
       " '__radd__',\n",
       " '__sub__',\n",
       " '__rsub__',\n",
       " '__mul__',\n",
       " '__rmul__',\n",
       " '__neg__',\n",
       " '__pos__',\n",
       " '__bool__',\n",
       " '__invert__',\n",
       " '__truediv__',\n",
       " '__rtruediv__',\n",
       " '__new__',\n",
       " '__destruct__',\n",
       " '__dispatch__',\n",
       " '__smartptr__',\n",
       " '__python_owns__',\n",
       " '__reduce__',\n",
       " '__getattribute__',\n",
       " '__setattr__',\n",
       " '__delattr__',\n",
       " '__reduce_ex__',\n",
       " '__subclasshook__',\n",
       " '__init_subclass__',\n",
       " '__format__',\n",
       " '__sizeof__',\n",
       " '__dir__',\n",
       " '__class__']"
      ]
     },
     "execution_count": 15,
     "metadata": {},
     "output_type": "execute_result"
    }
   ],
   "source": [
    "evt_new.get(\"vector<reco::GsfTrack>\",\"electronGsfTracks\" )[0].__dir__()"
   ]
  },
  {
   "cell_type": "code",
   "execution_count": 16,
   "metadata": {},
   "outputs": [
    {
     "data": {
      "text/plain": [
       "std::vector<reco::GsfTrack>[reco::GsfTrack(etaMode=-2.496912847005952,ptMode=10.612227166083121,qoverpMode=0.015413225981225324,outerEta=-2.49689123525632,outerPt=6.474755515014397,seedDirection=1),reco::GsfTrack(etaMode=2.496627919935485,ptMode=11.274840500713871,qoverpMode=-0.0145114814889851,outerEta=2.4963226662276305,outerPt=2.946369320300965,seedDirection=1)]"
      ]
     },
     "execution_count": 16,
     "metadata": {},
     "output_type": "execute_result"
    }
   ],
   "source": [
    "evt_baseline.get(\"vector<reco::ElectronSeed>\",\"electronMergedSeeds\" )\n",
    "evt_baseline.get(\"vector<reco::GsfTrack>\",\"electronGsfTracks\" )"
   ]
  },
  {
   "cell_type": "code",
   "execution_count": null,
   "metadata": {},
   "outputs": [],
   "source": []
  }
 ],
 "metadata": {
  "kernelspec": {
   "display_name": "el8_amd64_gcc12",
   "language": "python",
   "name": "python3"
  },
  "language_info": {
   "codemirror_mode": {
    "name": "ipython",
    "version": 3
   },
   "file_extension": ".py",
   "mimetype": "text/x-python",
   "name": "python",
   "nbconvert_exporter": "python",
   "pygments_lexer": "ipython3",
   "version": "3.9.14"
  }
 },
 "nbformat": 4,
 "nbformat_minor": 2
}
