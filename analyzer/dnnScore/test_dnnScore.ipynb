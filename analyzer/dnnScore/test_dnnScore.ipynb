{
 "cells": [
  {
   "cell_type": "code",
   "execution_count": 12,
   "metadata": {},
   "outputs": [
    {
     "name": "stdout",
     "output_type": "stream",
     "text": [
      "The autoreload extension is already loaded. To reload it, use:\n",
      "  %reload_ext autoreload\n"
     ]
    }
   ],
   "source": [
    "%load_ext autoreload\n",
    "%autoreload 2\n",
    "import sys\n",
    "sys.path.append(\"../..\")\n",
    "\n",
    "import uproot\n",
    "import numpy as np\n",
    "import awkward as ak\n",
    "import pandas as pd\n",
    "import matplotlib.pyplot as plt\n",
    "import mplhep as hep\n",
    "plt.style.use(hep.style.CMS)\n",
    "import hist\n",
    "\n",
    "from analyzer.driver.fileTools import *\n",
    "from analyzer.driver.computations import *"
   ]
  },
  {
   "cell_type": "code",
   "execution_count": 2,
   "metadata": {},
   "outputs": [],
   "source": [
    "dumperInput = DumperInputManager([\"/data_cms_upgrade/cuisset/supercls/alessandro_electrons/reco-v1/\", \"/data_cms_upgrade/cuisset/supercls/alessandro_electrons/supercls-v9/\"], \n",
    "                                limitFileCount=5, restrictToAvailableDumperTypes=[DumperType.TICL, DumperType.TICLsupercls]\n",
    "                                )"
   ]
  },
  {
   "cell_type": "code",
   "execution_count": 13,
   "metadata": {},
   "outputs": [
    {
     "data": {
      "text/html": [
       "<pre>[{&#x27;superclusteringDNNScore._2&#x27;: [0, 16, 0, ..., 0, 0], ...},\n",
       " {&#x27;superclusteringDNNScore._2&#x27;: [0, 0, 0, ..., 0, 0], ...},\n",
       " {&#x27;superclusteringDNNScore._2&#x27;: [0, 0, 0, ..., 0, 0], ...},\n",
       " {&#x27;superclusteringDNNScore._2&#x27;: [0, 0, 0, ..., 0, 0], ...},\n",
       " {&#x27;superclusteringDNNScore._2&#x27;: [0, 0, ..., 0, 0], ...},\n",
       " {&#x27;superclusteringDNNScore._2&#x27;: [0, 0, 0, ..., 3, 0], ...},\n",
       " {&#x27;superclusteringDNNScore._2&#x27;: [0, 1, ..., 133, 0], ...},\n",
       " {&#x27;superclusteringDNNScore._2&#x27;: [0, 0, 0, ..., 0, 0], ...},\n",
       " {&#x27;superclusteringDNNScore._2&#x27;: [0, 0, 0, ..., 0, 70], ...},\n",
       " {&#x27;superclusteringDNNScore._2&#x27;: [0, 0, 0, ..., 0, 0], ...},\n",
       " ...,\n",
       " {&#x27;superclusteringDNNScore._2&#x27;: [65497, 1, ..., 0, 0], ...},\n",
       " {&#x27;superclusteringDNNScore._2&#x27;: [0, 2, 15, ..., 0, 0], ...},\n",
       " {&#x27;superclusteringDNNScore._2&#x27;: [617, 1, ..., 0, 0], ...},\n",
       " {&#x27;superclusteringDNNScore._2&#x27;: [65533, ..., 0], ...},\n",
       " {&#x27;superclusteringDNNScore._2&#x27;: [0, 0, 0, ..., 0, 0], ...},\n",
       " {&#x27;superclusteringDNNScore._2&#x27;: [0, 0, 0, ..., 0, 4], ...},\n",
       " {&#x27;superclusteringDNNScore._2&#x27;: [0, 0, 0, ..., 0, 0], ...},\n",
       " {&#x27;superclusteringDNNScore._2&#x27;: [0, 0, 0, ..., 0, 0], ...},\n",
       " {&#x27;superclusteringDNNScore._2&#x27;: [6, 0, 0, ..., 0, 74], ...}]\n",
       "------------------------------------------------------------\n",
       "type: 100 * {\n",
       "    &quot;superclusteringDNNScore._2&quot;: var * uint16,\n",
       "    &quot;superclusteringDNNScore._1&quot;: var * uint32,\n",
       "    &quot;superclusteringDNNScore._0&quot;: var * uint32\n",
       "}</pre>"
      ],
      "text/plain": [
       "<Array [{...}, {...}, {...}, ..., {...}, {...}] type='100 * {\"superclusteri...'>"
      ]
     },
     "execution_count": 13,
     "metadata": {},
     "output_type": "execute_result"
    }
   ],
   "source": [
    "reader = dumperInput.inputPerSample[7].ticlDumperReader\n",
    "reader.superclusteringDnnScore"
   ]
  },
  {
   "cell_type": "code",
   "execution_count": 4,
   "metadata": {},
   "outputs": [
    {
     "data": {
      "text/html": [
       "<pre>[{event: 4, NClusters: 114736, NTracksters: 2806, time: [...], ...},\n",
       " {event: 5, NClusters: 108704, NTracksters: 2599, time: [...], ...},\n",
       " {event: 6, NClusters: 127328, NTracksters: 3296, time: [...], ...},\n",
       " {event: 7, NClusters: 122681, NTracksters: 3114, time: [...], ...},\n",
       " {event: 8, NClusters: 126911, NTracksters: 3256, time: [...], ...},\n",
       " {event: 9, NClusters: 110839, NTracksters: 2667, time: [...], ...},\n",
       " {event: 10, NClusters: 116781, NTracksters: 2914, time: [...], ...},\n",
       " {event: 11, NClusters: 118119, NTracksters: 2918, time: [...], ...},\n",
       " {event: 12, NClusters: 124895, NTracksters: 3200, time: [...], ...},\n",
       " {event: 13, NClusters: 109560, NTracksters: 2635, time: [...], ...},\n",
       " ...,\n",
       " {event: 95, NClusters: 124208, NTracksters: 3288, time: [...], ...},\n",
       " {event: 96, NClusters: 116316, NTracksters: 2855, time: [...], ...},\n",
       " {event: 97, NClusters: 118956, NTracksters: 2989, time: [...], ...},\n",
       " {event: 98, NClusters: 119814, NTracksters: 2933, time: [...], ...},\n",
       " {event: 99, NClusters: 100413, NTracksters: 2226, time: [...], ...},\n",
       " {event: 100, NClusters: 124187, NTracksters: 3150, time: [...], ...},\n",
       " {event: 101, NClusters: 106514, NTracksters: 2456, time: [...], ...},\n",
       " {event: 102, NClusters: 122346, NTracksters: 3051, time: [...], ...},\n",
       " {event: 103, NClusters: 129788, NTracksters: 3395, time: [...], ...}]\n",
       "----------------------------------------------------------------------\n",
       "type: 100 * {\n",
       "    event: uint32,\n",
       "    NClusters: uint32,\n",
       "    NTracksters: uint32,\n",
       "    time: var * float32,\n",
       "    timeError: var * float32,\n",
       "    regressed_energy: var * float32,\n",
       "    raw_energy: var * float32,\n",
       "    raw_em_energy: var * float32,\n",
       "    raw_pt: var * float32,\n",
       "    raw_em_pt: var * float32,\n",
       "    barycenter_x: var * float32,\n",
       "    barycenter_y: var * float32,\n",
       "    barycenter_z: var * float32,\n",
       "    barycenter_eta: var * float32,\n",
       "    barycenter_phi: var * float32,\n",
       "    EV1: var * float32,\n",
       "    EV2: var * float32,\n",
       "    EV3: var * float32,\n",
       "    eVector0_x: var * float32,\n",
       "    eVector0_y: var * float32,\n",
       "    eVector0_z: var * float32,\n",
       "    sigmaPCA1: var * float32,\n",
       "    sigmaPCA2: var * float32,\n",
       "    sigmaPCA3: var * float32,\n",
       "    id_probabilities: var * var * float32,\n",
       "    vertices_indexes: var * var * uint32,\n",
       "    vertices_x: var * var * float32,\n",
       "    vertices_y: var * var * float32,\n",
       "    vertices_z: var * var * float32,\n",
       "    vertices_time: var * var * float32,\n",
       "    vertices_timeErr: var * var * float32,\n",
       "    vertices_energy: var * var * float32,\n",
       "    vertices_correctedEnergy: var * var * float32,\n",
       "    vertices_correctedEnergyUncertainty: var * var * float32,\n",
       "    vertices_multiplicity: var * var * float32\n",
       "}</pre>"
      ],
      "text/plain": [
       "<Array [{event: 4, NClusters: ..., ...}, ...] type='100 * {event: uint32, N...'>"
      ]
     },
     "execution_count": 4,
     "metadata": {},
     "output_type": "execute_result"
    }
   ],
   "source": [
    "reader.tracksters"
   ]
  }
 ],
 "metadata": {
  "kernelspec": {
   "display_name": "modules-python-3.11",
   "language": "python",
   "name": "python3"
  },
  "language_info": {
   "codemirror_mode": {
    "name": "ipython",
    "version": 3
   },
   "file_extension": ".py",
   "mimetype": "text/x-python",
   "name": "python",
   "nbconvert_exporter": "python",
   "pygments_lexer": "ipython3",
   "version": "3.11.6"
  }
 },
 "nbformat": 4,
 "nbformat_minor": 2
}
