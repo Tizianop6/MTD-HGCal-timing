{
 "cells": [
  {
   "cell_type": "code",
   "execution_count": 1,
   "metadata": {},
   "outputs": [],
   "source": [
    "%load_ext autoreload\n",
    "%autoreload 2\n",
    "import uproot\n",
    "import numpy as np\n",
    "import awkward as ak\n",
    "import matplotlib.pyplot as plt\n",
    "import mplhep as hep\n",
    "import hist\n",
    "\n",
    "import sys\n",
    "sys.path.append(\"../..\")\n",
    "from analyzer.dumperReader.reader import *"
   ]
  },
  {
   "cell_type": "code",
   "execution_count": 5,
   "metadata": {},
   "outputs": [],
   "source": [
    "reader = DumperReader(\"/grid_mnt/data_cms_upgrade/cuisset/supercls/alessandro_electrons/reco-v8-mustache/ticlDumper_mustache_207.root\") #\"../runs_results/histo.root:ticlDumper\")"
   ]
  },
  {
   "cell_type": "code",
   "execution_count": 6,
   "metadata": {},
   "outputs": [
    {
     "data": {
      "text/html": [
       "<pre>[{event_: 7, tsCLUE3DEM_recoToSim_SC: [[37, ...], ...], ...},\n",
       " {event_: 8, tsCLUE3DEM_recoToSim_SC: [[15, ...], ...], ...},\n",
       " {event_: 1, tsCLUE3DEM_recoToSim_SC: [[37, ...], ...], ...},\n",
       " {event_: 2, tsCLUE3DEM_recoToSim_SC: [[12, ...], ...], ...},\n",
       " {event_: 6, tsCLUE3DEM_recoToSim_SC: [[11, ...], ...], ...},\n",
       " {event_: 4, tsCLUE3DEM_recoToSim_SC: [[3, ..., 1], ...], ...},\n",
       " {event_: 3, tsCLUE3DEM_recoToSim_SC: [[38, ...], ...], ...},\n",
       " {event_: 5, tsCLUE3DEM_recoToSim_SC: [[16, ...], ...], ...},\n",
       " {event_: 9, tsCLUE3DEM_recoToSim_SC: [[9, ..., 1], ...], ...},\n",
       " {event_: 11, tsCLUE3DEM_recoToSim_SC: [[8, ...], ...], ...},\n",
       " ...,\n",
       " {event_: 92, tsCLUE3DEM_recoToSim_SC: [[33, ...], ...], ...},\n",
       " {event_: 93, tsCLUE3DEM_recoToSim_SC: [[12, ...], ...], ...},\n",
       " {event_: 95, tsCLUE3DEM_recoToSim_SC: [[0, ...], ...], ...},\n",
       " {event_: 94, tsCLUE3DEM_recoToSim_SC: [[11, ...], ...], ...},\n",
       " {event_: 96, tsCLUE3DEM_recoToSim_SC: [[11, ...], ...], ...},\n",
       " {event_: 97, tsCLUE3DEM_recoToSim_SC: [[0, ...], ...], ...},\n",
       " {event_: 98, tsCLUE3DEM_recoToSim_SC: [[15, ...], ...], ...},\n",
       " {event_: 99, tsCLUE3DEM_recoToSim_SC: [[0, ...], ...], ...},\n",
       " {event_: 100, tsCLUE3DEM_recoToSim_SC: [[9, ...], ...], ...}]\n",
       "---------------------------------------------------------------\n",
       "type: 100 * {\n",
       "    event_: uint64,\n",
       "    tsCLUE3DEM_recoToSim_SC: var * var * uint32,\n",
       "    tsCLUE3DEM_recoToSim_SC_score: var * var * float32,\n",
       "    tsCLUE3DEM_recoToSim_SC_sharedE: var * var * float32,\n",
       "    tsCLUE3DEM_simToReco_SC: var * var * uint32,\n",
       "    tsCLUE3DEM_simToReco_SC_score: var * var * float32,\n",
       "    tsCLUE3DEM_simToReco_SC_sharedE: var * var * float32,\n",
       "    tsCLUE3DEM_recoToSim_CP: var * var * uint32,\n",
       "    tsCLUE3DEM_recoToSim_CP_score: var * var * float32,\n",
       "    tsCLUE3DEM_recoToSim_CP_sharedE: var * var * float32,\n",
       "    tsCLUE3DEM_simToReco_CP: var * var * uint32,\n",
       "    tsCLUE3DEM_simToReco_CP_score: var * var * float32,\n",
       "    tsCLUE3DEM_simToReco_CP_sharedE: var * var * float32\n",
       "}</pre>"
      ],
      "text/plain": [
       "<Array [{event_: 7, ...}, {...}, ..., {...}] type='100 * {event_: uint64, t...'>"
      ]
     },
     "execution_count": 6,
     "metadata": {},
     "output_type": "execute_result"
    }
   ],
   "source": [
    "reader.associations"
   ]
  },
  {
   "cell_type": "code",
   "execution_count": 7,
   "metadata": {},
   "outputs": [
    {
     "data": {
      "text/plain": [
       "'5.1.2'"
      ]
     },
     "execution_count": 7,
     "metadata": {},
     "output_type": "execute_result"
    }
   ],
   "source": [
    "uproot.__version__"
   ]
  },
  {
   "cell_type": "code",
   "execution_count": 3,
   "metadata": {},
   "outputs": [],
   "source": [
    "dropOnes=True\n",
    "self=reader"
   ]
  },
  {
   "cell_type": "code",
   "execution_count": 4,
   "metadata": {},
   "outputs": [
    {
     "data": {
      "text/html": [
       "<pre>[[{ts_id: 1, simts_id: 0, score: 0.995, sharedE: 0.00116}, {...}, ..., {...}],\n",
       " [{ts_id: 196, simts_id: 0, score: 0.991, sharedE: 0.0159}, {...}, ..., {...}],\n",
       " [{ts_id: 69, simts_id: 0, score: 0.754, sharedE: 0.169}, {...}, ..., {...}],\n",
       " [{ts_id: 61, simts_id: 1, score: 0.996, sharedE: 0.00345}, {...}, ..., {...}],\n",
       " [{ts_id: 54, simts_id: 0, score: 0.997, sharedE: 0.00236}, {...}, ..., {...}],\n",
       " [{ts_id: 1, simts_id: 0, score: 0.98, sharedE: 0.166}, ..., {ts_id: ..., ...}],\n",
       " [{ts_id: 77, simts_id: 0, score: 0.968, sharedE: 0.112}, {...}, ..., {...}],\n",
       " [{ts_id: 302, simts_id: 0, score: 0.998, sharedE: 0.00376}, {...}, ..., {...}],\n",
       " [{ts_id: 252, simts_id: 0, score: 0.121, sharedE: 0.557}, {...}, ..., {...}],\n",
       " [{ts_id: 20, simts_id: 0, score: 0.997, sharedE: 0.000588}, {...}, ..., {...}],\n",
       " ...,\n",
       " [{ts_id: 159, simts_id: 0, score: 0.999, sharedE: 0.0185}, {...}, ..., {...}],\n",
       " [{ts_id: 59, simts_id: 0, score: 0.995, sharedE: 0.00726}, {...}, ..., {...}],\n",
       " [{ts_id: 13, simts_id: 0, score: 0.997, sharedE: 0.00561}, {...}, ..., {...}],\n",
       " [{ts_id: 64, simts_id: 0, score: 0.0096, sharedE: 3.79}, {...}, ..., {...}],\n",
       " [{ts_id: 22, simts_id: 0, score: 0.983, sharedE: 0.00419}, {...}, ..., {...}],\n",
       " [{ts_id: 167, simts_id: 0, score: 0.976, sharedE: 0.00395}, {...}, ..., {...}],\n",
       " [{ts_id: 5, simts_id: 0, score: 0.988, sharedE: 0.0108}, {...}, ..., {...}],\n",
       " [{ts_id: 75, simts_id: 0, score: 0.997, sharedE: 0.0178}, {...}, ..., {...}],\n",
       " [{ts_id: 14, simts_id: 0, score: 0.988, sharedE: 0.00505}, {...}, ..., {...}]]\n",
       "--------------------------------------------------------------------------------\n",
       "type: 100 * var * {\n",
       "    ts_id: int64,\n",
       "    simts_id: uint32,\n",
       "    score: float32,\n",
       "    sharedE: float32\n",
       "}</pre>"
      ],
      "text/plain": [
       "<Array [[{ts_id: 1, ...}, ..., {...}], ...] type='100 * var * {ts_id: int64...'>"
      ]
     },
     "execution_count": 4,
     "metadata": {},
     "output_type": "execute_result"
    }
   ],
   "source": [
    "assocs = assocs_bestScore((assocs_dropOnes if dropOnes else lambda x:x)(assocs_zip_recoToSim(self.associations)))\n",
    "assocs"
   ]
  },
  {
   "cell_type": "code",
   "execution_count": null,
   "metadata": {},
   "outputs": [],
   "source": []
  },
  {
   "cell_type": "code",
   "execution_count": 6,
   "metadata": {},
   "outputs": [
    {
     "data": {
      "text/html": [
       "<pre>[[{simts_id: 0, ts_id: 558, score: 0.0688, sharedE: 196}, {...}],\n",
       " [{simts_id: 0, ts_id: 736, score: 0.308, sharedE: 137}, {...}],\n",
       " [{simts_id: 0, ts_id: 757, score: 0.555, sharedE: 66.5}, {...}],\n",
       " [{simts_id: 0, ts_id: 776, score: 0.415, sharedE: 203}, {...}],\n",
       " [{simts_id: 0, ts_id: 766, score: 0.0131, sharedE: 285}, {...}],\n",
       " [{simts_id: 0, ts_id: 768, score: 0.681, sharedE: 1.72}, {...}],\n",
       " [{simts_id: 0, ts_id: 972, score: 0.486, sharedE: 133}, {...}],\n",
       " [{simts_id: 0, ts_id: 750, score: 0.458, sharedE: 77.4}, {...}],\n",
       " [{simts_id: 0, ts_id: 963, score: 0.306, sharedE: 18.9}, {...}],\n",
       " [{simts_id: 0, ts_id: 904, score: 0.449, sharedE: 203}, {...}],\n",
       " ...,\n",
       " [{simts_id: 0, ts_id: 406, score: 0.46, sharedE: 9.57}, {...}],\n",
       " [{simts_id: 0, ts_id: 549, score: 0.00304, sharedE: 357}, {...}],\n",
       " [{simts_id: 0, ts_id: 790, score: 0.459, sharedE: 165}, {...}],\n",
       " [{simts_id: 0, ts_id: 660, score: 0.449, sharedE: 152}, {...}],\n",
       " [{simts_id: 0, ts_id: 590, score: 0.543, sharedE: 37.6}, {...}],\n",
       " [{simts_id: 0, ts_id: 1006, score: 0.515, sharedE: 31.7}, {...}],\n",
       " [{simts_id: 0, ts_id: 572, score: 0.434, sharedE: 107}, {...}],\n",
       " [{simts_id: 0, ts_id: 749, score: 0.225, sharedE: 214}, {...}],\n",
       " [{simts_id: 0, ts_id: 767, score: 0.6, sharedE: 92.2}, {...}]]\n",
       "------------------------------------------------------------------\n",
       "type: 100 * var * {\n",
       "    simts_id: int64,\n",
       "    ts_id: uint32,\n",
       "    score: float32,\n",
       "    sharedE: float32\n",
       "}</pre>"
      ],
      "text/plain": [
       "<Array [[{simts_id: 0, ...}, {...}], ...] type='100 * var * {simts_id: int6...'>"
      ]
     },
     "execution_count": 6,
     "metadata": {},
     "output_type": "execute_result"
    }
   ],
   "source": [
    "assocs_simToReco_largestScore = assocs_bestScore(assocs_zip_simToReco(self.associations))\n",
    "assocs_simToReco_largestScore"
   ]
  }
 ],
 "metadata": {
  "kernelspec": {
   "display_name": "modules-python-3.11",
   "language": "python",
   "name": "python3"
  },
  "language_info": {
   "codemirror_mode": {
    "name": "ipython",
    "version": 3
   },
   "file_extension": ".py",
   "mimetype": "text/x-python",
   "name": "python",
   "nbconvert_exporter": "python",
   "pygments_lexer": "ipython3",
   "version": "3.11.6"
  }
 },
 "nbformat": 4,
 "nbformat_minor": 2
}
